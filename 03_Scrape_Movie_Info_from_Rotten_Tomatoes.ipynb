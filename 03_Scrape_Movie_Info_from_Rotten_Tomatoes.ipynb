{
 "cells": [
  {
   "cell_type": "markdown",
   "id": "2ae7c519",
   "metadata": {},
   "source": [
    "# Scrape Movie Info from Rotten Tomatoes"
   ]
  },
  {
   "cell_type": "code",
   "execution_count": 1,
   "id": "704011b4",
   "metadata": {
    "ExecuteTime": {
     "end_time": "2022-11-12T20:37:52.568480Z",
     "start_time": "2022-11-12T20:37:52.561261Z"
    }
   },
   "outputs": [],
   "source": [
    "proxies = {'http': 'http://206.189.157.23'}"
   ]
  },
  {
   "cell_type": "code",
   "execution_count": 2,
   "id": "9b82113f",
   "metadata": {
    "ExecuteTime": {
     "end_time": "2022-11-12T20:37:53.637635Z",
     "start_time": "2022-11-12T20:37:52.956642Z"
    }
   },
   "outputs": [],
   "source": [
    "import requests\n",
    "from bs4 import BeautifulSoup\n",
    "from urllib.parse import urljoin\n",
    "import numpy as np\n",
    "import pandas as pd\n",
    "import re\n",
    "from tqdm import tqdm"
   ]
  },
  {
   "cell_type": "markdown",
   "id": "779cd60f",
   "metadata": {},
   "source": [
    "## Define functions"
   ]
  },
  {
   "cell_type": "code",
   "execution_count": 3,
   "id": "b7e49f34",
   "metadata": {
    "ExecuteTime": {
     "end_time": "2022-11-12T20:37:54.424870Z",
     "start_time": "2022-11-12T20:37:54.408560Z"
    }
   },
   "outputs": [],
   "source": [
    "def get_movie_info(url_movie):\n",
    "    response = requests.get(url_movie, proxies=proxies)\n",
    "    soup = BeautifulSoup(response.content)\n",
    "    fields = {'Title': soup.select_one('h1.scoreboard__title').text,\n",
    "              'Synopsis': soup.select_one('#movieSynopsis').text.strip(),\n",
    "              'Casts_and_crew': (\n",
    "                  ', '.join([name.get_text().strip()\n",
    "                             for name in soup.select(\n",
    "                                 \"#movie-cast > div > div > div > div.media-body > a > span\")]))}\n",
    "    fields2 = [a.get_text().replace('\\n', \"\").replace(\"  \", '').strip(\n",
    "    ).split(':') for a in soup.select('li.meta-row')]\n",
    "    fields2 = {x[0]: x[1] for x in fields2}\n",
    "    fields.update(fields2)\n",
    "\n",
    "    return fields\n",
    "\n",
    "\n",
    "def df_links_to_dict(df):\n",
    "    \"\"\"Compiles the movie title and its link in a dictionary. \"\"\"\n",
    "    lst = df['movies'].to_frame().to_dict('split')['data']\n",
    "    links_dict = dict()\n",
    "    for row in lst:\n",
    "        for j in row:\n",
    "            for key, val in j.items():\n",
    "                links_dict[key] = val\n",
    "    return links_dict"
   ]
  },
  {
   "cell_type": "markdown",
   "id": "2b139c08",
   "metadata": {},
   "source": [
    "## Load files"
   ]
  },
  {
   "cell_type": "code",
   "execution_count": 4,
   "id": "6b4f42f4",
   "metadata": {
    "ExecuteTime": {
     "end_time": "2022-11-12T20:37:55.839744Z",
     "start_time": "2022-11-12T20:37:55.810797Z"
    }
   },
   "outputs": [],
   "source": [
    "df_alltime = pd.read_pickle(\"/mnt/processed/private/msds2023/lt2/Lab2/All_Time_Lists.pkl\")"
   ]
  },
  {
   "cell_type": "code",
   "execution_count": 173,
   "id": "830016a4",
   "metadata": {
    "ExecuteTime": {
     "end_time": "2022-11-12T23:13:25.850434Z",
     "start_time": "2022-11-12T23:13:25.828553Z"
    }
   },
   "outputs": [],
   "source": [
    "df_countdown = pd.read_pickle(\"/mnt/processed/private/msds2023/lt2/Lab2/Countdown_Lists.pkl\")"
   ]
  },
  {
   "cell_type": "markdown",
   "id": "09c9d55a",
   "metadata": {},
   "source": [
    "## Scrape movie info of each link from the given movies data frame"
   ]
  },
  {
   "cell_type": "code",
   "execution_count": 5,
   "id": "e287153b",
   "metadata": {
    "ExecuteTime": {
     "end_time": "2022-11-12T20:37:57.659202Z",
     "start_time": "2022-11-12T20:37:57.646907Z"
    }
   },
   "outputs": [],
   "source": [
    "movie_links_alltime = df_links_to_dict(df_alltime)"
   ]
  },
  {
   "cell_type": "code",
   "execution_count": 174,
   "id": "e265ccf7",
   "metadata": {
    "ExecuteTime": {
     "end_time": "2022-11-12T23:13:26.763284Z",
     "start_time": "2022-11-12T23:13:26.746348Z"
    }
   },
   "outputs": [],
   "source": [
    "movie_links_countdown = df_links_to_dict(df_countdown)"
   ]
  },
  {
   "cell_type": "markdown",
   "id": "fd8fcffa",
   "metadata": {},
   "source": [
    "### All Time Movie List\n",
    "All time movie list includes the best movies ever made by genre and type, ranked by our unique adjusted Tomatometer!"
   ]
  },
  {
   "cell_type": "markdown",
   "id": "2938ddf1",
   "metadata": {},
   "source": [
    "#### Save movie_info to a dataframe\n",
    "Save the movie_info of each movie_link in movie_links_alltime to df_movie_info:"
   ]
  },
  {
   "cell_type": "code",
   "execution_count": 6,
   "id": "64ca94c0",
   "metadata": {
    "ExecuteTime": {
     "end_time": "2022-11-12T20:52:46.189686Z",
     "start_time": "2022-11-12T20:38:01.631462Z"
    }
   },
   "outputs": [
    {
     "name": "stderr",
     "output_type": "stream",
     "text": [
      " 42%|████▏     | 647/1553 [14:44<20:37,  1.37s/it]  \n"
     ]
    },
    {
     "ename": "AttributeError",
     "evalue": "'NoneType' object has no attribute 'text'",
     "output_type": "error",
     "traceback": [
      "\u001b[0;31m---------------------------------------------------------------------------\u001b[0m",
      "\u001b[0;31mAttributeError\u001b[0m                            Traceback (most recent call last)",
      "Input \u001b[0;32mIn [6]\u001b[0m, in \u001b[0;36m<cell line: 8>\u001b[0;34m()\u001b[0m\n\u001b[1;32m      7\u001b[0m df_movie_info \u001b[38;5;241m=\u001b[39m pd\u001b[38;5;241m.\u001b[39mDataFrame(columns\u001b[38;5;241m=\u001b[39mcolumns)\n\u001b[1;32m      8\u001b[0m \u001b[38;5;28;01mfor\u001b[39;00m movie, link \u001b[38;5;129;01min\u001b[39;00m tqdm(movie_links_alltime\u001b[38;5;241m.\u001b[39mitems()):\n\u001b[0;32m----> 9\u001b[0m     cols \u001b[38;5;241m=\u001b[39m [col \u001b[38;5;28;01mfor\u001b[39;00m col \u001b[38;5;129;01min\u001b[39;00m \u001b[43mget_movie_info\u001b[49m\u001b[43m(\u001b[49m\u001b[43mlink\u001b[49m\u001b[43m)\u001b[49m\u001b[38;5;241m.\u001b[39mkeys()]\n\u001b[1;32m     10\u001b[0m     data \u001b[38;5;241m=\u001b[39m get_movie_info(link)\u001b[38;5;241m.\u001b[39mvalues()\n\u001b[1;32m     11\u001b[0m     df1 \u001b[38;5;241m=\u001b[39m (pd\u001b[38;5;241m.\u001b[39mDataFrame(data, cols)\u001b[38;5;241m.\u001b[39mT)\n",
      "Input \u001b[0;32mIn [3]\u001b[0m, in \u001b[0;36mget_movie_info\u001b[0;34m(url_movie)\u001b[0m\n\u001b[1;32m      2\u001b[0m response \u001b[38;5;241m=\u001b[39m requests\u001b[38;5;241m.\u001b[39mget(url_movie, proxies\u001b[38;5;241m=\u001b[39mproxies)\n\u001b[1;32m      3\u001b[0m soup \u001b[38;5;241m=\u001b[39m BeautifulSoup(response\u001b[38;5;241m.\u001b[39mcontent)\n\u001b[0;32m----> 4\u001b[0m fields \u001b[38;5;241m=\u001b[39m {\u001b[38;5;124m'\u001b[39m\u001b[38;5;124mTitle\u001b[39m\u001b[38;5;124m'\u001b[39m: \u001b[43msoup\u001b[49m\u001b[38;5;241;43m.\u001b[39;49m\u001b[43mselect_one\u001b[49m\u001b[43m(\u001b[49m\u001b[38;5;124;43m'\u001b[39;49m\u001b[38;5;124;43mh1.scoreboard__title\u001b[39;49m\u001b[38;5;124;43m'\u001b[39;49m\u001b[43m)\u001b[49m\u001b[38;5;241;43m.\u001b[39;49m\u001b[43mtext\u001b[49m,\n\u001b[1;32m      5\u001b[0m           \u001b[38;5;124m'\u001b[39m\u001b[38;5;124mSynopsis\u001b[39m\u001b[38;5;124m'\u001b[39m: soup\u001b[38;5;241m.\u001b[39mselect_one(\u001b[38;5;124m'\u001b[39m\u001b[38;5;124m#movieSynopsis\u001b[39m\u001b[38;5;124m'\u001b[39m)\u001b[38;5;241m.\u001b[39mtext\u001b[38;5;241m.\u001b[39mstrip(),\n\u001b[1;32m      6\u001b[0m           \u001b[38;5;124m'\u001b[39m\u001b[38;5;124mCasts_and_crew\u001b[39m\u001b[38;5;124m'\u001b[39m: (\n\u001b[1;32m      7\u001b[0m               \u001b[38;5;124m'\u001b[39m\u001b[38;5;124m, \u001b[39m\u001b[38;5;124m'\u001b[39m\u001b[38;5;241m.\u001b[39mjoin([name\u001b[38;5;241m.\u001b[39mget_text()\u001b[38;5;241m.\u001b[39mstrip()\n\u001b[1;32m      8\u001b[0m                          \u001b[38;5;28;01mfor\u001b[39;00m name \u001b[38;5;129;01min\u001b[39;00m soup\u001b[38;5;241m.\u001b[39mselect(\n\u001b[1;32m      9\u001b[0m                              \u001b[38;5;124m\"\u001b[39m\u001b[38;5;124m#movie-cast > div > div > div > div.media-body > a > span\u001b[39m\u001b[38;5;124m\"\u001b[39m)]))}\n\u001b[1;32m     10\u001b[0m fields2 \u001b[38;5;241m=\u001b[39m [a\u001b[38;5;241m.\u001b[39mget_text()\u001b[38;5;241m.\u001b[39mreplace(\u001b[38;5;124m'\u001b[39m\u001b[38;5;130;01m\\n\u001b[39;00m\u001b[38;5;124m'\u001b[39m, \u001b[38;5;124m\"\u001b[39m\u001b[38;5;124m\"\u001b[39m)\u001b[38;5;241m.\u001b[39mreplace(\u001b[38;5;124m\"\u001b[39m\u001b[38;5;124m  \u001b[39m\u001b[38;5;124m\"\u001b[39m, \u001b[38;5;124m'\u001b[39m\u001b[38;5;124m'\u001b[39m)\u001b[38;5;241m.\u001b[39mstrip(\n\u001b[1;32m     11\u001b[0m )\u001b[38;5;241m.\u001b[39msplit(\u001b[38;5;124m'\u001b[39m\u001b[38;5;124m:\u001b[39m\u001b[38;5;124m'\u001b[39m) \u001b[38;5;28;01mfor\u001b[39;00m a \u001b[38;5;129;01min\u001b[39;00m soup\u001b[38;5;241m.\u001b[39mselect(\u001b[38;5;124m'\u001b[39m\u001b[38;5;124mli.meta-row\u001b[39m\u001b[38;5;124m'\u001b[39m)]\n\u001b[1;32m     12\u001b[0m fields2 \u001b[38;5;241m=\u001b[39m {x[\u001b[38;5;241m0\u001b[39m]: x[\u001b[38;5;241m1\u001b[39m] \u001b[38;5;28;01mfor\u001b[39;00m x \u001b[38;5;129;01min\u001b[39;00m fields2}\n",
      "\u001b[0;31mAttributeError\u001b[0m: 'NoneType' object has no attribute 'text'"
     ]
    }
   ],
   "source": [
    "# columns = ['Title', 'Aspect Ratio', 'Box Office (Gross USA)', 'Casts_and_crew',\n",
    "#            'Director', 'Distributor', 'Genre', 'Original Language',\n",
    "#            'Producer', 'Rating', 'Release Date (Streaming)',\n",
    "#            'Release Date (Theaters)', 'Runtime', 'Sound Mix',\n",
    "#            'Synopsis', 'View the collection', 'Writer']\n",
    "\n",
    "# df_movie_info = pd.DataFrame(columns=columns)\n",
    "# for movie, link in tqdm(movie_links_alltime.items()):\n",
    "#     cols = [col for col in get_movie_info(link).keys()]\n",
    "#     data = get_movie_info(link).values()\n",
    "#     df1 = (pd.DataFrame(data, cols).T)\n",
    "#     df_movie_info = pd.concat([df_movie_info, df1], ignore_index=True)\n",
    "# display(df_movie_info)"
   ]
  },
  {
   "cell_type": "markdown",
   "id": "ad6a711e",
   "metadata": {},
   "source": [
    "#### Append the 2nd batch\n",
    "Append the 2nd batch of movie info from the links in movie_links_alltime:"
   ]
  },
  {
   "cell_type": "code",
   "execution_count": 39,
   "id": "8774095c",
   "metadata": {
    "ExecuteTime": {
     "end_time": "2022-11-12T21:17:39.069627Z",
     "start_time": "2022-11-12T21:06:09.082535Z"
    }
   },
   "outputs": [
    {
     "name": "stderr",
     "output_type": "stream",
     "text": [
      " 59%|█████▊    | 532/906 [11:29<08:04,  1.30s/it] \n"
     ]
    },
    {
     "ename": "InvalidURL",
     "evalue": "Invalid URL 'https:': No host supplied",
     "output_type": "error",
     "traceback": [
      "\u001b[0;31m---------------------------------------------------------------------------\u001b[0m",
      "\u001b[0;31mInvalidURL\u001b[0m                                Traceback (most recent call last)",
      "Input \u001b[0;32mIn [39]\u001b[0m, in \u001b[0;36m<cell line: 1>\u001b[0;34m()\u001b[0m\n\u001b[1;32m      1\u001b[0m \u001b[38;5;28;01mfor\u001b[39;00m movie, link \u001b[38;5;129;01min\u001b[39;00m tqdm(movie_links_alltime2\u001b[38;5;241m.\u001b[39mitems()):\n\u001b[0;32m----> 2\u001b[0m     cols \u001b[38;5;241m=\u001b[39m [col \u001b[38;5;28;01mfor\u001b[39;00m col \u001b[38;5;129;01min\u001b[39;00m \u001b[43mget_movie_info\u001b[49m\u001b[43m(\u001b[49m\u001b[43mlink\u001b[49m\u001b[43m)\u001b[49m\u001b[38;5;241m.\u001b[39mkeys()]\n\u001b[1;32m      3\u001b[0m     data \u001b[38;5;241m=\u001b[39m get_movie_info(link)\u001b[38;5;241m.\u001b[39mvalues()\n\u001b[1;32m      4\u001b[0m     df1 \u001b[38;5;241m=\u001b[39m (pd\u001b[38;5;241m.\u001b[39mDataFrame(data, cols)\u001b[38;5;241m.\u001b[39mT)\n",
      "Input \u001b[0;32mIn [3]\u001b[0m, in \u001b[0;36mget_movie_info\u001b[0;34m(url_movie)\u001b[0m\n\u001b[1;32m      1\u001b[0m \u001b[38;5;28;01mdef\u001b[39;00m \u001b[38;5;21mget_movie_info\u001b[39m(url_movie):\n\u001b[0;32m----> 2\u001b[0m     response \u001b[38;5;241m=\u001b[39m \u001b[43mrequests\u001b[49m\u001b[38;5;241;43m.\u001b[39;49m\u001b[43mget\u001b[49m\u001b[43m(\u001b[49m\u001b[43murl_movie\u001b[49m\u001b[43m,\u001b[49m\u001b[43m \u001b[49m\u001b[43mproxies\u001b[49m\u001b[38;5;241;43m=\u001b[39;49m\u001b[43mproxies\u001b[49m\u001b[43m)\u001b[49m\n\u001b[1;32m      3\u001b[0m     soup \u001b[38;5;241m=\u001b[39m BeautifulSoup(response\u001b[38;5;241m.\u001b[39mcontent)\n\u001b[1;32m      4\u001b[0m     fields \u001b[38;5;241m=\u001b[39m {\u001b[38;5;124m'\u001b[39m\u001b[38;5;124mTitle\u001b[39m\u001b[38;5;124m'\u001b[39m: soup\u001b[38;5;241m.\u001b[39mselect_one(\u001b[38;5;124m'\u001b[39m\u001b[38;5;124mh1.scoreboard__title\u001b[39m\u001b[38;5;124m'\u001b[39m)\u001b[38;5;241m.\u001b[39mtext,\n\u001b[1;32m      5\u001b[0m               \u001b[38;5;124m'\u001b[39m\u001b[38;5;124mSynopsis\u001b[39m\u001b[38;5;124m'\u001b[39m: soup\u001b[38;5;241m.\u001b[39mselect_one(\u001b[38;5;124m'\u001b[39m\u001b[38;5;124m#movieSynopsis\u001b[39m\u001b[38;5;124m'\u001b[39m)\u001b[38;5;241m.\u001b[39mtext\u001b[38;5;241m.\u001b[39mstrip(),\n\u001b[1;32m      6\u001b[0m               \u001b[38;5;124m'\u001b[39m\u001b[38;5;124mCasts_and_crew\u001b[39m\u001b[38;5;124m'\u001b[39m: (\n\u001b[1;32m      7\u001b[0m                   \u001b[38;5;124m'\u001b[39m\u001b[38;5;124m, \u001b[39m\u001b[38;5;124m'\u001b[39m\u001b[38;5;241m.\u001b[39mjoin([name\u001b[38;5;241m.\u001b[39mget_text()\u001b[38;5;241m.\u001b[39mstrip()\n\u001b[1;32m      8\u001b[0m                              \u001b[38;5;28;01mfor\u001b[39;00m name \u001b[38;5;129;01min\u001b[39;00m soup\u001b[38;5;241m.\u001b[39mselect(\n\u001b[1;32m      9\u001b[0m                                  \u001b[38;5;124m\"\u001b[39m\u001b[38;5;124m#movie-cast > div > div > div > div.media-body > a > span\u001b[39m\u001b[38;5;124m\"\u001b[39m)]))}\n",
      "File \u001b[0;32m/opt/conda/lib/python3.9/site-packages/requests/api.py:73\u001b[0m, in \u001b[0;36mget\u001b[0;34m(url, params, **kwargs)\u001b[0m\n\u001b[1;32m     62\u001b[0m \u001b[38;5;28;01mdef\u001b[39;00m \u001b[38;5;21mget\u001b[39m(url, params\u001b[38;5;241m=\u001b[39m\u001b[38;5;28;01mNone\u001b[39;00m, \u001b[38;5;241m*\u001b[39m\u001b[38;5;241m*\u001b[39mkwargs):\n\u001b[1;32m     63\u001b[0m     \u001b[38;5;124mr\u001b[39m\u001b[38;5;124;03m\"\"\"Sends a GET request.\u001b[39;00m\n\u001b[1;32m     64\u001b[0m \n\u001b[1;32m     65\u001b[0m \u001b[38;5;124;03m    :param url: URL for the new :class:`Request` object.\u001b[39;00m\n\u001b[0;32m   (...)\u001b[0m\n\u001b[1;32m     70\u001b[0m \u001b[38;5;124;03m    :rtype: requests.Response\u001b[39;00m\n\u001b[1;32m     71\u001b[0m \u001b[38;5;124;03m    \"\"\"\u001b[39;00m\n\u001b[0;32m---> 73\u001b[0m     \u001b[38;5;28;01mreturn\u001b[39;00m \u001b[43mrequest\u001b[49m\u001b[43m(\u001b[49m\u001b[38;5;124;43m\"\u001b[39;49m\u001b[38;5;124;43mget\u001b[39;49m\u001b[38;5;124;43m\"\u001b[39;49m\u001b[43m,\u001b[49m\u001b[43m \u001b[49m\u001b[43murl\u001b[49m\u001b[43m,\u001b[49m\u001b[43m \u001b[49m\u001b[43mparams\u001b[49m\u001b[38;5;241;43m=\u001b[39;49m\u001b[43mparams\u001b[49m\u001b[43m,\u001b[49m\u001b[43m \u001b[49m\u001b[38;5;241;43m*\u001b[39;49m\u001b[38;5;241;43m*\u001b[39;49m\u001b[43mkwargs\u001b[49m\u001b[43m)\u001b[49m\n",
      "File \u001b[0;32m/opt/conda/lib/python3.9/site-packages/requests/api.py:59\u001b[0m, in \u001b[0;36mrequest\u001b[0;34m(method, url, **kwargs)\u001b[0m\n\u001b[1;32m     55\u001b[0m \u001b[38;5;66;03m# By using the 'with' statement we are sure the session is closed, thus we\u001b[39;00m\n\u001b[1;32m     56\u001b[0m \u001b[38;5;66;03m# avoid leaving sockets open which can trigger a ResourceWarning in some\u001b[39;00m\n\u001b[1;32m     57\u001b[0m \u001b[38;5;66;03m# cases, and look like a memory leak in others.\u001b[39;00m\n\u001b[1;32m     58\u001b[0m \u001b[38;5;28;01mwith\u001b[39;00m sessions\u001b[38;5;241m.\u001b[39mSession() \u001b[38;5;28;01mas\u001b[39;00m session:\n\u001b[0;32m---> 59\u001b[0m     \u001b[38;5;28;01mreturn\u001b[39;00m \u001b[43msession\u001b[49m\u001b[38;5;241;43m.\u001b[39;49m\u001b[43mrequest\u001b[49m\u001b[43m(\u001b[49m\u001b[43mmethod\u001b[49m\u001b[38;5;241;43m=\u001b[39;49m\u001b[43mmethod\u001b[49m\u001b[43m,\u001b[49m\u001b[43m \u001b[49m\u001b[43murl\u001b[49m\u001b[38;5;241;43m=\u001b[39;49m\u001b[43murl\u001b[49m\u001b[43m,\u001b[49m\u001b[43m \u001b[49m\u001b[38;5;241;43m*\u001b[39;49m\u001b[38;5;241;43m*\u001b[39;49m\u001b[43mkwargs\u001b[49m\u001b[43m)\u001b[49m\n",
      "File \u001b[0;32m/opt/conda/lib/python3.9/site-packages/requests/sessions.py:573\u001b[0m, in \u001b[0;36mSession.request\u001b[0;34m(self, method, url, params, data, headers, cookies, files, auth, timeout, allow_redirects, proxies, hooks, stream, verify, cert, json)\u001b[0m\n\u001b[1;32m    560\u001b[0m \u001b[38;5;66;03m# Create the Request.\u001b[39;00m\n\u001b[1;32m    561\u001b[0m req \u001b[38;5;241m=\u001b[39m Request(\n\u001b[1;32m    562\u001b[0m     method\u001b[38;5;241m=\u001b[39mmethod\u001b[38;5;241m.\u001b[39mupper(),\n\u001b[1;32m    563\u001b[0m     url\u001b[38;5;241m=\u001b[39murl,\n\u001b[0;32m   (...)\u001b[0m\n\u001b[1;32m    571\u001b[0m     hooks\u001b[38;5;241m=\u001b[39mhooks,\n\u001b[1;32m    572\u001b[0m )\n\u001b[0;32m--> 573\u001b[0m prep \u001b[38;5;241m=\u001b[39m \u001b[38;5;28;43mself\u001b[39;49m\u001b[38;5;241;43m.\u001b[39;49m\u001b[43mprepare_request\u001b[49m\u001b[43m(\u001b[49m\u001b[43mreq\u001b[49m\u001b[43m)\u001b[49m\n\u001b[1;32m    575\u001b[0m proxies \u001b[38;5;241m=\u001b[39m proxies \u001b[38;5;129;01mor\u001b[39;00m {}\n\u001b[1;32m    577\u001b[0m settings \u001b[38;5;241m=\u001b[39m \u001b[38;5;28mself\u001b[39m\u001b[38;5;241m.\u001b[39mmerge_environment_settings(\n\u001b[1;32m    578\u001b[0m     prep\u001b[38;5;241m.\u001b[39murl, proxies, stream, verify, cert\n\u001b[1;32m    579\u001b[0m )\n",
      "File \u001b[0;32m/opt/conda/lib/python3.9/site-packages/requests/sessions.py:484\u001b[0m, in \u001b[0;36mSession.prepare_request\u001b[0;34m(self, request)\u001b[0m\n\u001b[1;32m    481\u001b[0m     auth \u001b[38;5;241m=\u001b[39m get_netrc_auth(request\u001b[38;5;241m.\u001b[39murl)\n\u001b[1;32m    483\u001b[0m p \u001b[38;5;241m=\u001b[39m PreparedRequest()\n\u001b[0;32m--> 484\u001b[0m \u001b[43mp\u001b[49m\u001b[38;5;241;43m.\u001b[39;49m\u001b[43mprepare\u001b[49m\u001b[43m(\u001b[49m\n\u001b[1;32m    485\u001b[0m \u001b[43m    \u001b[49m\u001b[43mmethod\u001b[49m\u001b[38;5;241;43m=\u001b[39;49m\u001b[43mrequest\u001b[49m\u001b[38;5;241;43m.\u001b[39;49m\u001b[43mmethod\u001b[49m\u001b[38;5;241;43m.\u001b[39;49m\u001b[43mupper\u001b[49m\u001b[43m(\u001b[49m\u001b[43m)\u001b[49m\u001b[43m,\u001b[49m\n\u001b[1;32m    486\u001b[0m \u001b[43m    \u001b[49m\u001b[43murl\u001b[49m\u001b[38;5;241;43m=\u001b[39;49m\u001b[43mrequest\u001b[49m\u001b[38;5;241;43m.\u001b[39;49m\u001b[43murl\u001b[49m\u001b[43m,\u001b[49m\n\u001b[1;32m    487\u001b[0m \u001b[43m    \u001b[49m\u001b[43mfiles\u001b[49m\u001b[38;5;241;43m=\u001b[39;49m\u001b[43mrequest\u001b[49m\u001b[38;5;241;43m.\u001b[39;49m\u001b[43mfiles\u001b[49m\u001b[43m,\u001b[49m\n\u001b[1;32m    488\u001b[0m \u001b[43m    \u001b[49m\u001b[43mdata\u001b[49m\u001b[38;5;241;43m=\u001b[39;49m\u001b[43mrequest\u001b[49m\u001b[38;5;241;43m.\u001b[39;49m\u001b[43mdata\u001b[49m\u001b[43m,\u001b[49m\n\u001b[1;32m    489\u001b[0m \u001b[43m    \u001b[49m\u001b[43mjson\u001b[49m\u001b[38;5;241;43m=\u001b[39;49m\u001b[43mrequest\u001b[49m\u001b[38;5;241;43m.\u001b[39;49m\u001b[43mjson\u001b[49m\u001b[43m,\u001b[49m\n\u001b[1;32m    490\u001b[0m \u001b[43m    \u001b[49m\u001b[43mheaders\u001b[49m\u001b[38;5;241;43m=\u001b[39;49m\u001b[43mmerge_setting\u001b[49m\u001b[43m(\u001b[49m\n\u001b[1;32m    491\u001b[0m \u001b[43m        \u001b[49m\u001b[43mrequest\u001b[49m\u001b[38;5;241;43m.\u001b[39;49m\u001b[43mheaders\u001b[49m\u001b[43m,\u001b[49m\u001b[43m \u001b[49m\u001b[38;5;28;43mself\u001b[39;49m\u001b[38;5;241;43m.\u001b[39;49m\u001b[43mheaders\u001b[49m\u001b[43m,\u001b[49m\u001b[43m \u001b[49m\u001b[43mdict_class\u001b[49m\u001b[38;5;241;43m=\u001b[39;49m\u001b[43mCaseInsensitiveDict\u001b[49m\n\u001b[1;32m    492\u001b[0m \u001b[43m    \u001b[49m\u001b[43m)\u001b[49m\u001b[43m,\u001b[49m\n\u001b[1;32m    493\u001b[0m \u001b[43m    \u001b[49m\u001b[43mparams\u001b[49m\u001b[38;5;241;43m=\u001b[39;49m\u001b[43mmerge_setting\u001b[49m\u001b[43m(\u001b[49m\u001b[43mrequest\u001b[49m\u001b[38;5;241;43m.\u001b[39;49m\u001b[43mparams\u001b[49m\u001b[43m,\u001b[49m\u001b[43m \u001b[49m\u001b[38;5;28;43mself\u001b[39;49m\u001b[38;5;241;43m.\u001b[39;49m\u001b[43mparams\u001b[49m\u001b[43m)\u001b[49m\u001b[43m,\u001b[49m\n\u001b[1;32m    494\u001b[0m \u001b[43m    \u001b[49m\u001b[43mauth\u001b[49m\u001b[38;5;241;43m=\u001b[39;49m\u001b[43mmerge_setting\u001b[49m\u001b[43m(\u001b[49m\u001b[43mauth\u001b[49m\u001b[43m,\u001b[49m\u001b[43m \u001b[49m\u001b[38;5;28;43mself\u001b[39;49m\u001b[38;5;241;43m.\u001b[39;49m\u001b[43mauth\u001b[49m\u001b[43m)\u001b[49m\u001b[43m,\u001b[49m\n\u001b[1;32m    495\u001b[0m \u001b[43m    \u001b[49m\u001b[43mcookies\u001b[49m\u001b[38;5;241;43m=\u001b[39;49m\u001b[43mmerged_cookies\u001b[49m\u001b[43m,\u001b[49m\n\u001b[1;32m    496\u001b[0m \u001b[43m    \u001b[49m\u001b[43mhooks\u001b[49m\u001b[38;5;241;43m=\u001b[39;49m\u001b[43mmerge_hooks\u001b[49m\u001b[43m(\u001b[49m\u001b[43mrequest\u001b[49m\u001b[38;5;241;43m.\u001b[39;49m\u001b[43mhooks\u001b[49m\u001b[43m,\u001b[49m\u001b[43m \u001b[49m\u001b[38;5;28;43mself\u001b[39;49m\u001b[38;5;241;43m.\u001b[39;49m\u001b[43mhooks\u001b[49m\u001b[43m)\u001b[49m\u001b[43m,\u001b[49m\n\u001b[1;32m    497\u001b[0m \u001b[43m\u001b[49m\u001b[43m)\u001b[49m\n\u001b[1;32m    498\u001b[0m \u001b[38;5;28;01mreturn\u001b[39;00m p\n",
      "File \u001b[0;32m/opt/conda/lib/python3.9/site-packages/requests/models.py:368\u001b[0m, in \u001b[0;36mPreparedRequest.prepare\u001b[0;34m(self, method, url, headers, files, data, params, auth, cookies, hooks, json)\u001b[0m\n\u001b[1;32m    365\u001b[0m \u001b[38;5;124;03m\"\"\"Prepares the entire request with the given parameters.\"\"\"\u001b[39;00m\n\u001b[1;32m    367\u001b[0m \u001b[38;5;28mself\u001b[39m\u001b[38;5;241m.\u001b[39mprepare_method(method)\n\u001b[0;32m--> 368\u001b[0m \u001b[38;5;28;43mself\u001b[39;49m\u001b[38;5;241;43m.\u001b[39;49m\u001b[43mprepare_url\u001b[49m\u001b[43m(\u001b[49m\u001b[43murl\u001b[49m\u001b[43m,\u001b[49m\u001b[43m \u001b[49m\u001b[43mparams\u001b[49m\u001b[43m)\u001b[49m\n\u001b[1;32m    369\u001b[0m \u001b[38;5;28mself\u001b[39m\u001b[38;5;241m.\u001b[39mprepare_headers(headers)\n\u001b[1;32m    370\u001b[0m \u001b[38;5;28mself\u001b[39m\u001b[38;5;241m.\u001b[39mprepare_cookies(cookies)\n",
      "File \u001b[0;32m/opt/conda/lib/python3.9/site-packages/requests/models.py:445\u001b[0m, in \u001b[0;36mPreparedRequest.prepare_url\u001b[0;34m(self, url, params)\u001b[0m\n\u001b[1;32m    439\u001b[0m     \u001b[38;5;28;01mraise\u001b[39;00m MissingSchema(\n\u001b[1;32m    440\u001b[0m         \u001b[38;5;124mf\u001b[39m\u001b[38;5;124m\"\u001b[39m\u001b[38;5;124mInvalid URL \u001b[39m\u001b[38;5;132;01m{\u001b[39;00murl\u001b[38;5;132;01m!r}\u001b[39;00m\u001b[38;5;124m: No scheme supplied. \u001b[39m\u001b[38;5;124m\"\u001b[39m\n\u001b[1;32m    441\u001b[0m         \u001b[38;5;124mf\u001b[39m\u001b[38;5;124m\"\u001b[39m\u001b[38;5;124mPerhaps you meant http://\u001b[39m\u001b[38;5;132;01m{\u001b[39;00murl\u001b[38;5;132;01m}\u001b[39;00m\u001b[38;5;124m?\u001b[39m\u001b[38;5;124m\"\u001b[39m\n\u001b[1;32m    442\u001b[0m     )\n\u001b[1;32m    444\u001b[0m \u001b[38;5;28;01mif\u001b[39;00m \u001b[38;5;129;01mnot\u001b[39;00m host:\n\u001b[0;32m--> 445\u001b[0m     \u001b[38;5;28;01mraise\u001b[39;00m InvalidURL(\u001b[38;5;124mf\u001b[39m\u001b[38;5;124m\"\u001b[39m\u001b[38;5;124mInvalid URL \u001b[39m\u001b[38;5;132;01m{\u001b[39;00murl\u001b[38;5;132;01m!r}\u001b[39;00m\u001b[38;5;124m: No host supplied\u001b[39m\u001b[38;5;124m\"\u001b[39m)\n\u001b[1;32m    447\u001b[0m \u001b[38;5;66;03m# In general, we want to try IDNA encoding the hostname if the string contains\u001b[39;00m\n\u001b[1;32m    448\u001b[0m \u001b[38;5;66;03m# non-ASCII characters. This allows users to automatically get the correct IDNA\u001b[39;00m\n\u001b[1;32m    449\u001b[0m \u001b[38;5;66;03m# behaviour. For strings containing only ASCII characters, we need to also verify\u001b[39;00m\n\u001b[1;32m    450\u001b[0m \u001b[38;5;66;03m# it doesn't start with a wildcard (*), before allowing the unencoded hostname.\u001b[39;00m\n\u001b[1;32m    451\u001b[0m \u001b[38;5;28;01mif\u001b[39;00m \u001b[38;5;129;01mnot\u001b[39;00m unicode_is_ascii(host):\n",
      "\u001b[0;31mInvalidURL\u001b[0m: Invalid URL 'https:': No host supplied"
     ]
    }
   ],
   "source": [
    "# movie_links_alltime2 = {A:N for (A,N) in [x for x in movie_links_alltime.items()][647:]}\n",
    "# df_movie_info2 = df_movie_info.copy()\n",
    "# for movie, link in tqdm(movie_links_alltime2.items()):\n",
    "#     cols = [col for col in get_movie_info(link).keys()]\n",
    "#     data = get_movie_info(link).values()\n",
    "#     df1 = (pd.DataFrame(data, cols).T)\n",
    "#     df_movie_info2 = pd.concat([df_movie_info2, df1], ignore_index=True)\n",
    "# display(df_movie_info2)"
   ]
  },
  {
   "cell_type": "markdown",
   "id": "adfafb42",
   "metadata": {},
   "source": [
    "#### Append the 3rd batch\n",
    "Append the 3rd batch of movie info from the links in movie_links_alltime:"
   ]
  },
  {
   "cell_type": "code",
   "execution_count": 62,
   "id": "4a6ecc6a",
   "metadata": {
    "ExecuteTime": {
     "end_time": "2022-11-12T21:30:36.441031Z",
     "start_time": "2022-11-12T21:25:10.582714Z"
    }
   },
   "outputs": [
    {
     "name": "stderr",
     "output_type": "stream",
     "text": [
      " 55%|█████▍    | 204/373 [05:25<04:29,  1.60s/it]\n"
     ]
    },
    {
     "ename": "AttributeError",
     "evalue": "'NoneType' object has no attribute 'text'",
     "output_type": "error",
     "traceback": [
      "\u001b[0;31m---------------------------------------------------------------------------\u001b[0m",
      "\u001b[0;31mAttributeError\u001b[0m                            Traceback (most recent call last)",
      "Input \u001b[0;32mIn [62]\u001b[0m, in \u001b[0;36m<cell line: 4>\u001b[0;34m()\u001b[0m\n\u001b[1;32m      3\u001b[0m df_movie_info3 \u001b[38;5;241m=\u001b[39m df_movie_info2\u001b[38;5;241m.\u001b[39mcopy()\n\u001b[1;32m      4\u001b[0m \u001b[38;5;28;01mfor\u001b[39;00m movie, link \u001b[38;5;129;01min\u001b[39;00m tqdm(movie_links_alltime3\u001b[38;5;241m.\u001b[39mitems()):\n\u001b[0;32m----> 5\u001b[0m     cols \u001b[38;5;241m=\u001b[39m [col \u001b[38;5;28;01mfor\u001b[39;00m col \u001b[38;5;129;01min\u001b[39;00m \u001b[43mget_movie_info\u001b[49m\u001b[43m(\u001b[49m\u001b[43mlink\u001b[49m\u001b[43m)\u001b[49m\u001b[38;5;241m.\u001b[39mkeys()]\n\u001b[1;32m      6\u001b[0m     data \u001b[38;5;241m=\u001b[39m get_movie_info(link)\u001b[38;5;241m.\u001b[39mvalues()\n\u001b[1;32m      7\u001b[0m     df1 \u001b[38;5;241m=\u001b[39m (pd\u001b[38;5;241m.\u001b[39mDataFrame(data, cols)\u001b[38;5;241m.\u001b[39mT)\n",
      "Input \u001b[0;32mIn [3]\u001b[0m, in \u001b[0;36mget_movie_info\u001b[0;34m(url_movie)\u001b[0m\n\u001b[1;32m      2\u001b[0m response \u001b[38;5;241m=\u001b[39m requests\u001b[38;5;241m.\u001b[39mget(url_movie, proxies\u001b[38;5;241m=\u001b[39mproxies)\n\u001b[1;32m      3\u001b[0m soup \u001b[38;5;241m=\u001b[39m BeautifulSoup(response\u001b[38;5;241m.\u001b[39mcontent)\n\u001b[0;32m----> 4\u001b[0m fields \u001b[38;5;241m=\u001b[39m {\u001b[38;5;124m'\u001b[39m\u001b[38;5;124mTitle\u001b[39m\u001b[38;5;124m'\u001b[39m: \u001b[43msoup\u001b[49m\u001b[38;5;241;43m.\u001b[39;49m\u001b[43mselect_one\u001b[49m\u001b[43m(\u001b[49m\u001b[38;5;124;43m'\u001b[39;49m\u001b[38;5;124;43mh1.scoreboard__title\u001b[39;49m\u001b[38;5;124;43m'\u001b[39;49m\u001b[43m)\u001b[49m\u001b[38;5;241;43m.\u001b[39;49m\u001b[43mtext\u001b[49m,\n\u001b[1;32m      5\u001b[0m           \u001b[38;5;124m'\u001b[39m\u001b[38;5;124mSynopsis\u001b[39m\u001b[38;5;124m'\u001b[39m: soup\u001b[38;5;241m.\u001b[39mselect_one(\u001b[38;5;124m'\u001b[39m\u001b[38;5;124m#movieSynopsis\u001b[39m\u001b[38;5;124m'\u001b[39m)\u001b[38;5;241m.\u001b[39mtext\u001b[38;5;241m.\u001b[39mstrip(),\n\u001b[1;32m      6\u001b[0m           \u001b[38;5;124m'\u001b[39m\u001b[38;5;124mCasts_and_crew\u001b[39m\u001b[38;5;124m'\u001b[39m: (\n\u001b[1;32m      7\u001b[0m               \u001b[38;5;124m'\u001b[39m\u001b[38;5;124m, \u001b[39m\u001b[38;5;124m'\u001b[39m\u001b[38;5;241m.\u001b[39mjoin([name\u001b[38;5;241m.\u001b[39mget_text()\u001b[38;5;241m.\u001b[39mstrip()\n\u001b[1;32m      8\u001b[0m                          \u001b[38;5;28;01mfor\u001b[39;00m name \u001b[38;5;129;01min\u001b[39;00m soup\u001b[38;5;241m.\u001b[39mselect(\n\u001b[1;32m      9\u001b[0m                              \u001b[38;5;124m\"\u001b[39m\u001b[38;5;124m#movie-cast > div > div > div > div.media-body > a > span\u001b[39m\u001b[38;5;124m\"\u001b[39m)]))}\n\u001b[1;32m     10\u001b[0m fields2 \u001b[38;5;241m=\u001b[39m [a\u001b[38;5;241m.\u001b[39mget_text()\u001b[38;5;241m.\u001b[39mreplace(\u001b[38;5;124m'\u001b[39m\u001b[38;5;130;01m\\n\u001b[39;00m\u001b[38;5;124m'\u001b[39m, \u001b[38;5;124m\"\u001b[39m\u001b[38;5;124m\"\u001b[39m)\u001b[38;5;241m.\u001b[39mreplace(\u001b[38;5;124m\"\u001b[39m\u001b[38;5;124m  \u001b[39m\u001b[38;5;124m\"\u001b[39m, \u001b[38;5;124m'\u001b[39m\u001b[38;5;124m'\u001b[39m)\u001b[38;5;241m.\u001b[39mstrip(\n\u001b[1;32m     11\u001b[0m )\u001b[38;5;241m.\u001b[39msplit(\u001b[38;5;124m'\u001b[39m\u001b[38;5;124m:\u001b[39m\u001b[38;5;124m'\u001b[39m) \u001b[38;5;28;01mfor\u001b[39;00m a \u001b[38;5;129;01min\u001b[39;00m soup\u001b[38;5;241m.\u001b[39mselect(\u001b[38;5;124m'\u001b[39m\u001b[38;5;124mli.meta-row\u001b[39m\u001b[38;5;124m'\u001b[39m)]\n\u001b[1;32m     12\u001b[0m fields2 \u001b[38;5;241m=\u001b[39m {x[\u001b[38;5;241m0\u001b[39m]: x[\u001b[38;5;241m1\u001b[39m] \u001b[38;5;28;01mfor\u001b[39;00m x \u001b[38;5;129;01min\u001b[39;00m fields2}\n",
      "\u001b[0;31mAttributeError\u001b[0m: 'NoneType' object has no attribute 'text'"
     ]
    }
   ],
   "source": [
    "# # Exclude 532 with \"\"\n",
    "# movie_links_alltime3 = {A:N for (A,N) in [x for x in movie_links_alltime2.items()][533:]}\n",
    "# df_movie_info3 = df_movie_info2.copy()\n",
    "# for movie, link in tqdm(movie_links_alltime3.items()):\n",
    "#     cols = [col for col in get_movie_info(link).keys()]\n",
    "#     data = get_movie_info(link).values()\n",
    "#     df1 = (pd.DataFrame(data, cols).T)\n",
    "#     df_movie_info3 = pd.concat([df_movie_info3, df1], ignore_index=True)\n",
    "# display(df_movie_info3)"
   ]
  },
  {
   "cell_type": "markdown",
   "id": "96d3ec92",
   "metadata": {},
   "source": [
    "#### Append the 4th batch\n",
    "Append the 4th batch of movie info from the remaining links in movie_links_alltime:"
   ]
  },
  {
   "cell_type": "code",
   "execution_count": 70,
   "id": "cb3e98ac",
   "metadata": {
    "ExecuteTime": {
     "end_time": "2022-11-12T21:40:21.924996Z",
     "start_time": "2022-11-12T21:35:31.986050Z"
    }
   },
   "outputs": [
    {
     "name": "stderr",
     "output_type": "stream",
     "text": [
      "100%|██████████| 169/169 [04:49<00:00,  1.72s/it]\n"
     ]
    },
    {
     "data": {
      "text/html": [
       "<div>\n",
       "<style scoped>\n",
       "    .dataframe tbody tr th:only-of-type {\n",
       "        vertical-align: middle;\n",
       "    }\n",
       "\n",
       "    .dataframe tbody tr th {\n",
       "        vertical-align: top;\n",
       "    }\n",
       "\n",
       "    .dataframe thead th {\n",
       "        text-align: right;\n",
       "    }\n",
       "</style>\n",
       "<table border=\"1\" class=\"dataframe\">\n",
       "  <thead>\n",
       "    <tr style=\"text-align: right;\">\n",
       "      <th></th>\n",
       "      <th>Title</th>\n",
       "      <th>Aspect Ratio</th>\n",
       "      <th>Box Office (Gross USA)</th>\n",
       "      <th>Casts_and_crew</th>\n",
       "      <th>Director</th>\n",
       "      <th>Distributor</th>\n",
       "      <th>Genre</th>\n",
       "      <th>Original Language</th>\n",
       "      <th>Producer</th>\n",
       "      <th>Rating</th>\n",
       "      <th>Release Date (Streaming)</th>\n",
       "      <th>Release Date (Theaters)</th>\n",
       "      <th>Runtime</th>\n",
       "      <th>Sound Mix</th>\n",
       "      <th>Synopsis</th>\n",
       "      <th>View the collection</th>\n",
       "      <th>Writer</th>\n",
       "    </tr>\n",
       "  </thead>\n",
       "  <tbody>\n",
       "    <tr>\n",
       "      <th>0</th>\n",
       "      <td>One Missed Call</td>\n",
       "      <td>Flat (1.85</td>\n",
       "      <td>$26.9M</td>\n",
       "      <td>Shannyn Sossamon, Edward Burns, Ana Claudia Ta...</td>\n",
       "      <td>Éric Valette</td>\n",
       "      <td>Warner Bros.</td>\n",
       "      <td>Horror, Mystery &amp; thriller</td>\n",
       "      <td>English</td>\n",
       "      <td>Broderick Johnson, Andrew A. Kosove, Scott Kro...</td>\n",
       "      <td>PG-13 (Intense Sequences of Terror|Frightening...</td>\n",
       "      <td>Apr 22, 2008</td>\n",
       "      <td>Jan 4, 2008 wide</td>\n",
       "      <td>1h 27m</td>\n",
       "      <td>Dolby SRD, DTS, SDDS</td>\n",
       "      <td>When Beth Raymond (Shannyn Sossamon) witnesses...</td>\n",
       "      <td>NaN</td>\n",
       "      <td>Andrew Klavan</td>\n",
       "    </tr>\n",
       "    <tr>\n",
       "      <th>1</th>\n",
       "      <td>Cabin Fever</td>\n",
       "      <td>NaN</td>\n",
       "      <td>NaN</td>\n",
       "      <td>Nadine Crocker, Matthew Daddario, Samuel Davis...</td>\n",
       "      <td>Travis Zariwny</td>\n",
       "      <td>IFC Films</td>\n",
       "      <td>Horror</td>\n",
       "      <td>English</td>\n",
       "      <td>Evan Astrowsky, Christopher Lemole, Tim Zajaros</td>\n",
       "      <td>R (Language|Horror Violence and Gore|Nudity|Se...</td>\n",
       "      <td>Jul 5, 2016</td>\n",
       "      <td>Feb 12, 2016 limited</td>\n",
       "      <td>1h 39m</td>\n",
       "      <td>NaN</td>\n",
       "      <td>Fresh out of college, five friends (Nadine Cro...</td>\n",
       "      <td>NaN</td>\n",
       "      <td>Eli Roth, Randy Pearlstein</td>\n",
       "    </tr>\n",
       "    <tr>\n",
       "      <th>2</th>\n",
       "      <td>Kite</td>\n",
       "      <td>NaN</td>\n",
       "      <td>NaN</td>\n",
       "      <td>India Eisley, Callan McAuliffe, Samuel L. Jack...</td>\n",
       "      <td>Ralph Ziman</td>\n",
       "      <td>Freestyle Releasing</td>\n",
       "      <td>Action, Mystery &amp; thriller</td>\n",
       "      <td>English</td>\n",
       "      <td>Anant Singh, Brian Cox, Moisés Cosío</td>\n",
       "      <td>R (Strong Bloody Violence|Grisly Images|Drug a...</td>\n",
       "      <td>Nov 25, 2014</td>\n",
       "      <td>Oct 10, 2014 limited</td>\n",
       "      <td>1h 30m</td>\n",
       "      <td>NaN</td>\n",
       "      <td>With the help of her father's ex-partner (Samu...</td>\n",
       "      <td>NaN</td>\n",
       "      <td>Brian Cox</td>\n",
       "    </tr>\n",
       "    <tr>\n",
       "      <th>3</th>\n",
       "      <td>Rollerball</td>\n",
       "      <td>Flat (1.85</td>\n",
       "      <td>NaN</td>\n",
       "      <td>James Caan, John Houseman, Maud Adams, John Be...</td>\n",
       "      <td>Norman Jewison</td>\n",
       "      <td>United Artists</td>\n",
       "      <td>Sci-fi, Action</td>\n",
       "      <td>English</td>\n",
       "      <td>Norman Jewison</td>\n",
       "      <td>R</td>\n",
       "      <td>Jun 5, 2001</td>\n",
       "      <td>Jan 1, 1975 wide</td>\n",
       "      <td>2h 8m</td>\n",
       "      <td>Stereo</td>\n",
       "      <td>The year is 2018 in a futuristic society where...</td>\n",
       "      <td>NaN</td>\n",
       "      <td>William Harrison, William Harrison</td>\n",
       "    </tr>\n",
       "    <tr>\n",
       "      <th>4</th>\n",
       "      <td>Flatliners</td>\n",
       "      <td>Scope (2.35</td>\n",
       "      <td>$16.9M</td>\n",
       "      <td>Diego Luna, Nina Dobrev, James Norton, Kiersey...</td>\n",
       "      <td>Niels Arden Oplev</td>\n",
       "      <td>Sony Pictures Entertainment</td>\n",
       "      <td>Mystery &amp; thriller, Sci-fi</td>\n",
       "      <td>English</td>\n",
       "      <td>Laurence Mark, Michael Douglas, Peter Safran</td>\n",
       "      <td>PG-13 (Sexual Content|Language|Some Drug Refer...</td>\n",
       "      <td>Dec 19, 2017</td>\n",
       "      <td>Sep 29, 2017 wide</td>\n",
       "      <td>1h 48m</td>\n",
       "      <td>Dolby Atmos</td>\n",
       "      <td>Five medical students embark on a daring and d...</td>\n",
       "      <td>NaN</td>\n",
       "      <td>Ben Ripley</td>\n",
       "    </tr>\n",
       "    <tr>\n",
       "      <th>...</th>\n",
       "      <td>...</td>\n",
       "      <td>...</td>\n",
       "      <td>...</td>\n",
       "      <td>...</td>\n",
       "      <td>...</td>\n",
       "      <td>...</td>\n",
       "      <td>...</td>\n",
       "      <td>...</td>\n",
       "      <td>...</td>\n",
       "      <td>...</td>\n",
       "      <td>...</td>\n",
       "      <td>...</td>\n",
       "      <td>...</td>\n",
       "      <td>...</td>\n",
       "      <td>...</td>\n",
       "      <td>...</td>\n",
       "      <td>...</td>\n",
       "    </tr>\n",
       "    <tr>\n",
       "      <th>1547</th>\n",
       "      <td>Ghost World</td>\n",
       "      <td>Flat (1.85</td>\n",
       "      <td>$6.2M</td>\n",
       "      <td>Thora Birch, Scarlett Johansson, Steve Buscemi...</td>\n",
       "      <td>Terry Zwigoff</td>\n",
       "      <td>United Artists</td>\n",
       "      <td>Comedy, Drama</td>\n",
       "      <td>English</td>\n",
       "      <td>Lianne Halfon, John Malkovich, Russell Smith</td>\n",
       "      <td>R (Strong Language|Some Sexual Content)</td>\n",
       "      <td>Feb 5, 2002</td>\n",
       "      <td>Jun 16, 2001 original</td>\n",
       "      <td>1h 51m</td>\n",
       "      <td>Dolby SR, DTS, Dolby Stereo, Surround, SDDS, D...</td>\n",
       "      <td>The story of neo-cool Enid (Thora Birch) and R...</td>\n",
       "      <td>NaN</td>\n",
       "      <td>Terry Zwigoff, Daniel Clowes, Daniel Clowes</td>\n",
       "    </tr>\n",
       "    <tr>\n",
       "      <th>1548</th>\n",
       "      <td>Juno</td>\n",
       "      <td>Flat (1.85</td>\n",
       "      <td>$143.5M</td>\n",
       "      <td>Elliot Page, Michael Cera, Jennifer Garner, Ja...</td>\n",
       "      <td>Jason Reitman</td>\n",
       "      <td>Fox</td>\n",
       "      <td>Comedy, Drama</td>\n",
       "      <td>English</td>\n",
       "      <td>Lianne Halfon, John Malkovich, Mason Novick, R...</td>\n",
       "      <td>PG-13 (Mature Thematic Material|Language|Sexua...</td>\n",
       "      <td>Apr 15, 2008</td>\n",
       "      <td>Dec 25, 2007 wide</td>\n",
       "      <td>1h 36m</td>\n",
       "      <td>SDDS, Dolby Digital, DTS, Dolby SRD</td>\n",
       "      <td>When precocious teen Juno MacGuff becomes preg...</td>\n",
       "      <td>NaN</td>\n",
       "      <td>Diablo Cody</td>\n",
       "    </tr>\n",
       "    <tr>\n",
       "      <th>1549</th>\n",
       "      <td>The Edge of Seventeen</td>\n",
       "      <td>NaN</td>\n",
       "      <td>$14.4M</td>\n",
       "      <td>Hailee Steinfeld, Haley Lu Richardson, Blake J...</td>\n",
       "      <td>Kelly Fremon Craig</td>\n",
       "      <td>STX Entertainment</td>\n",
       "      <td>Comedy, Drama</td>\n",
       "      <td>English</td>\n",
       "      <td>James L. Brooks, Richard Sakai, Julie Ansell</td>\n",
       "      <td>R (Sexual Content|Language|Some Drinking)</td>\n",
       "      <td>Feb 14, 2017</td>\n",
       "      <td>Nov 18, 2016 wide</td>\n",
       "      <td>1h 45m</td>\n",
       "      <td>NaN</td>\n",
       "      <td>Everyone knows that growing up is hard, and li...</td>\n",
       "      <td>NaN</td>\n",
       "      <td>Kelly Fremon Craig</td>\n",
       "    </tr>\n",
       "    <tr>\n",
       "      <th>1550</th>\n",
       "      <td>Say Anything...</td>\n",
       "      <td>Flat (1.85</td>\n",
       "      <td>$20.0M</td>\n",
       "      <td>John Cusack, Ione Skye, John Mahoney, Lili Tay...</td>\n",
       "      <td>Cameron Crowe</td>\n",
       "      <td>20th Century Fox</td>\n",
       "      <td>Romance</td>\n",
       "      <td>English</td>\n",
       "      <td>Polly Platt</td>\n",
       "      <td>PG-13</td>\n",
       "      <td>Mar 5, 2002</td>\n",
       "      <td>Apr 14, 1989 wide</td>\n",
       "      <td>1h 40m</td>\n",
       "      <td>Surround, Dolby SR, Dolby A, Dolby Stereo</td>\n",
       "      <td>In a charming, critically acclaimed tale of fi...</td>\n",
       "      <td>NaN</td>\n",
       "      <td>Cameron Crowe</td>\n",
       "    </tr>\n",
       "    <tr>\n",
       "      <th>1551</th>\n",
       "      <td>The Last Picture Show</td>\n",
       "      <td>NaN</td>\n",
       "      <td>NaN</td>\n",
       "      <td>Timothy Bottoms, Jeff Bridges, Cybill Shepherd...</td>\n",
       "      <td>Peter Bogdanovich</td>\n",
       "      <td>Columbia Pictures</td>\n",
       "      <td>Drama</td>\n",
       "      <td>English</td>\n",
       "      <td>Stephen Friedman</td>\n",
       "      <td>R (Nudity|Language|Sexuality)</td>\n",
       "      <td>Nov 30, 1999</td>\n",
       "      <td>Jan 1, 1971 wide</td>\n",
       "      <td>1h 58m</td>\n",
       "      <td>Mono</td>\n",
       "      <td>High school seniors and best friends, Sonny (T...</td>\n",
       "      <td>NaN</td>\n",
       "      <td>Peter Bogdanovich, Larry McMurtry, Larry McMurtry</td>\n",
       "    </tr>\n",
       "  </tbody>\n",
       "</table>\n",
       "<p>1552 rows × 17 columns</p>\n",
       "</div>"
      ],
      "text/plain": [
       "                      Title Aspect Ratio Box Office (Gross USA)  \\\n",
       "0           One Missed Call   Flat (1.85                 $26.9M   \n",
       "1               Cabin Fever          NaN                    NaN   \n",
       "2                      Kite          NaN                    NaN   \n",
       "3                Rollerball   Flat (1.85                    NaN   \n",
       "4                Flatliners  Scope (2.35                 $16.9M   \n",
       "...                     ...          ...                    ...   \n",
       "1547            Ghost World   Flat (1.85                  $6.2M   \n",
       "1548                   Juno   Flat (1.85                $143.5M   \n",
       "1549  The Edge of Seventeen          NaN                 $14.4M   \n",
       "1550        Say Anything...   Flat (1.85                 $20.0M   \n",
       "1551  The Last Picture Show          NaN                    NaN   \n",
       "\n",
       "                                         Casts_and_crew            Director  \\\n",
       "0     Shannyn Sossamon, Edward Burns, Ana Claudia Ta...        Éric Valette   \n",
       "1     Nadine Crocker, Matthew Daddario, Samuel Davis...      Travis Zariwny   \n",
       "2     India Eisley, Callan McAuliffe, Samuel L. Jack...         Ralph Ziman   \n",
       "3     James Caan, John Houseman, Maud Adams, John Be...      Norman Jewison   \n",
       "4     Diego Luna, Nina Dobrev, James Norton, Kiersey...   Niels Arden Oplev   \n",
       "...                                                 ...                 ...   \n",
       "1547  Thora Birch, Scarlett Johansson, Steve Buscemi...       Terry Zwigoff   \n",
       "1548  Elliot Page, Michael Cera, Jennifer Garner, Ja...       Jason Reitman   \n",
       "1549  Hailee Steinfeld, Haley Lu Richardson, Blake J...  Kelly Fremon Craig   \n",
       "1550  John Cusack, Ione Skye, John Mahoney, Lili Tay...       Cameron Crowe   \n",
       "1551  Timothy Bottoms, Jeff Bridges, Cybill Shepherd...   Peter Bogdanovich   \n",
       "\n",
       "                      Distributor                       Genre  \\\n",
       "0                    Warner Bros.  Horror, Mystery & thriller   \n",
       "1                       IFC Films                      Horror   \n",
       "2             Freestyle Releasing  Action, Mystery & thriller   \n",
       "3                  United Artists              Sci-fi, Action   \n",
       "4     Sony Pictures Entertainment  Mystery & thriller, Sci-fi   \n",
       "...                           ...                         ...   \n",
       "1547               United Artists               Comedy, Drama   \n",
       "1548                          Fox               Comedy, Drama   \n",
       "1549            STX Entertainment               Comedy, Drama   \n",
       "1550             20th Century Fox                     Romance   \n",
       "1551            Columbia Pictures                       Drama   \n",
       "\n",
       "     Original Language                                           Producer  \\\n",
       "0              English  Broderick Johnson, Andrew A. Kosove, Scott Kro...   \n",
       "1              English    Evan Astrowsky, Christopher Lemole, Tim Zajaros   \n",
       "2              English               Anant Singh, Brian Cox, Moisés Cosío   \n",
       "3              English                                     Norman Jewison   \n",
       "4              English       Laurence Mark, Michael Douglas, Peter Safran   \n",
       "...                ...                                                ...   \n",
       "1547           English       Lianne Halfon, John Malkovich, Russell Smith   \n",
       "1548           English  Lianne Halfon, John Malkovich, Mason Novick, R...   \n",
       "1549           English       James L. Brooks, Richard Sakai, Julie Ansell   \n",
       "1550           English                                        Polly Platt   \n",
       "1551           English                                   Stephen Friedman   \n",
       "\n",
       "                                                 Rating  \\\n",
       "0     PG-13 (Intense Sequences of Terror|Frightening...   \n",
       "1     R (Language|Horror Violence and Gore|Nudity|Se...   \n",
       "2     R (Strong Bloody Violence|Grisly Images|Drug a...   \n",
       "3                                                     R   \n",
       "4     PG-13 (Sexual Content|Language|Some Drug Refer...   \n",
       "...                                                 ...   \n",
       "1547            R (Strong Language|Some Sexual Content)   \n",
       "1548  PG-13 (Mature Thematic Material|Language|Sexua...   \n",
       "1549          R (Sexual Content|Language|Some Drinking)   \n",
       "1550                                              PG-13   \n",
       "1551                      R (Nudity|Language|Sexuality)   \n",
       "\n",
       "     Release Date (Streaming) Release Date (Theaters) Runtime  \\\n",
       "0                Apr 22, 2008        Jan 4, 2008 wide  1h 27m   \n",
       "1                 Jul 5, 2016    Feb 12, 2016 limited  1h 39m   \n",
       "2                Nov 25, 2014    Oct 10, 2014 limited  1h 30m   \n",
       "3                 Jun 5, 2001        Jan 1, 1975 wide   2h 8m   \n",
       "4                Dec 19, 2017       Sep 29, 2017 wide  1h 48m   \n",
       "...                       ...                     ...     ...   \n",
       "1547              Feb 5, 2002   Jun 16, 2001 original  1h 51m   \n",
       "1548             Apr 15, 2008       Dec 25, 2007 wide  1h 36m   \n",
       "1549             Feb 14, 2017       Nov 18, 2016 wide  1h 45m   \n",
       "1550              Mar 5, 2002       Apr 14, 1989 wide  1h 40m   \n",
       "1551             Nov 30, 1999        Jan 1, 1971 wide  1h 58m   \n",
       "\n",
       "                                              Sound Mix  \\\n",
       "0                                  Dolby SRD, DTS, SDDS   \n",
       "1                                                   NaN   \n",
       "2                                                   NaN   \n",
       "3                                                Stereo   \n",
       "4                                           Dolby Atmos   \n",
       "...                                                 ...   \n",
       "1547  Dolby SR, DTS, Dolby Stereo, Surround, SDDS, D...   \n",
       "1548                SDDS, Dolby Digital, DTS, Dolby SRD   \n",
       "1549                                                NaN   \n",
       "1550          Surround, Dolby SR, Dolby A, Dolby Stereo   \n",
       "1551                                               Mono   \n",
       "\n",
       "                                               Synopsis View the collection  \\\n",
       "0     When Beth Raymond (Shannyn Sossamon) witnesses...                 NaN   \n",
       "1     Fresh out of college, five friends (Nadine Cro...                 NaN   \n",
       "2     With the help of her father's ex-partner (Samu...                 NaN   \n",
       "3     The year is 2018 in a futuristic society where...                 NaN   \n",
       "4     Five medical students embark on a daring and d...                 NaN   \n",
       "...                                                 ...                 ...   \n",
       "1547  The story of neo-cool Enid (Thora Birch) and R...                 NaN   \n",
       "1548  When precocious teen Juno MacGuff becomes preg...                 NaN   \n",
       "1549  Everyone knows that growing up is hard, and li...                 NaN   \n",
       "1550  In a charming, critically acclaimed tale of fi...                 NaN   \n",
       "1551  High school seniors and best friends, Sonny (T...                 NaN   \n",
       "\n",
       "                                                 Writer  \n",
       "0                                         Andrew Klavan  \n",
       "1                            Eli Roth, Randy Pearlstein  \n",
       "2                                             Brian Cox  \n",
       "3                    William Harrison, William Harrison  \n",
       "4                                            Ben Ripley  \n",
       "...                                                 ...  \n",
       "1547        Terry Zwigoff, Daniel Clowes, Daniel Clowes  \n",
       "1548                                        Diablo Cody  \n",
       "1549                                 Kelly Fremon Craig  \n",
       "1550                                      Cameron Crowe  \n",
       "1551  Peter Bogdanovich, Larry McMurtry, Larry McMurtry  \n",
       "\n",
       "[1552 rows x 17 columns]"
      ]
     },
     "metadata": {},
     "output_type": "display_data"
    }
   ],
   "source": [
    "# movie_links_alltime4 = {A:N for (A,N) in [x for x in movie_links_alltime3.items()][204:]}\n",
    "# df_movie_info4 = df_movie_info3.copy()\n",
    "# for movie, link in tqdm(movie_links_alltime4.items()):\n",
    "#     cols = [col for col in get_movie_info(link).keys()]\n",
    "#     data = get_movie_info(link).values()\n",
    "#     df1 = (pd.DataFrame(data, cols).T)\n",
    "#     df_movie_info4 = pd.concat([df_movie_info4, df1], ignore_index=True)\n",
    "# display(df_movie_info4)"
   ]
  },
  {
   "cell_type": "markdown",
   "id": "dccbbe25",
   "metadata": {},
   "source": [
    "#### Copy to a new df\n",
    "Save the completed df to a new df for consistency with the naming convention:"
   ]
  },
  {
   "cell_type": "code",
   "execution_count": 72,
   "id": "d321fc91",
   "metadata": {
    "ExecuteTime": {
     "end_time": "2022-11-12T21:43:02.855712Z",
     "start_time": "2022-11-12T21:43:02.846171Z"
    }
   },
   "outputs": [],
   "source": [
    "# df_movie_info_alltime = df_movie_info4.copy()"
   ]
  },
  {
   "cell_type": "markdown",
   "id": "5ac1c284",
   "metadata": {},
   "source": [
    "#### Display the df_movie_info_alltime\n",
    "Display the movie info of all the links from df_movie_info_alltime"
   ]
  },
  {
   "cell_type": "code",
   "execution_count": 74,
   "id": "0d7159cf",
   "metadata": {
    "ExecuteTime": {
     "end_time": "2022-11-12T21:46:34.413812Z",
     "start_time": "2022-11-12T21:46:34.382228Z"
    }
   },
   "outputs": [
    {
     "data": {
      "text/html": [
       "<div>\n",
       "<style scoped>\n",
       "    .dataframe tbody tr th:only-of-type {\n",
       "        vertical-align: middle;\n",
       "    }\n",
       "\n",
       "    .dataframe tbody tr th {\n",
       "        vertical-align: top;\n",
       "    }\n",
       "\n",
       "    .dataframe thead th {\n",
       "        text-align: right;\n",
       "    }\n",
       "</style>\n",
       "<table border=\"1\" class=\"dataframe\">\n",
       "  <thead>\n",
       "    <tr style=\"text-align: right;\">\n",
       "      <th></th>\n",
       "      <th>Title</th>\n",
       "      <th>Aspect Ratio</th>\n",
       "      <th>Box Office (Gross USA)</th>\n",
       "      <th>Casts_and_crew</th>\n",
       "      <th>Director</th>\n",
       "      <th>Distributor</th>\n",
       "      <th>Genre</th>\n",
       "      <th>Original Language</th>\n",
       "      <th>Producer</th>\n",
       "      <th>Rating</th>\n",
       "      <th>Release Date (Streaming)</th>\n",
       "      <th>Release Date (Theaters)</th>\n",
       "      <th>Runtime</th>\n",
       "      <th>Sound Mix</th>\n",
       "      <th>Synopsis</th>\n",
       "      <th>View the collection</th>\n",
       "      <th>Writer</th>\n",
       "    </tr>\n",
       "  </thead>\n",
       "  <tbody>\n",
       "    <tr>\n",
       "      <th>0</th>\n",
       "      <td>One Missed Call</td>\n",
       "      <td>Flat (1.85</td>\n",
       "      <td>$26.9M</td>\n",
       "      <td>Shannyn Sossamon, Edward Burns, Ana Claudia Ta...</td>\n",
       "      <td>Éric Valette</td>\n",
       "      <td>Warner Bros.</td>\n",
       "      <td>Horror, Mystery &amp; thriller</td>\n",
       "      <td>English</td>\n",
       "      <td>Broderick Johnson, Andrew A. Kosove, Scott Kro...</td>\n",
       "      <td>PG-13 (Intense Sequences of Terror|Frightening...</td>\n",
       "      <td>Apr 22, 2008</td>\n",
       "      <td>Jan 4, 2008 wide</td>\n",
       "      <td>1h 27m</td>\n",
       "      <td>Dolby SRD, DTS, SDDS</td>\n",
       "      <td>When Beth Raymond (Shannyn Sossamon) witnesses...</td>\n",
       "      <td>NaN</td>\n",
       "      <td>Andrew Klavan</td>\n",
       "    </tr>\n",
       "    <tr>\n",
       "      <th>1</th>\n",
       "      <td>Cabin Fever</td>\n",
       "      <td>NaN</td>\n",
       "      <td>NaN</td>\n",
       "      <td>Nadine Crocker, Matthew Daddario, Samuel Davis...</td>\n",
       "      <td>Travis Zariwny</td>\n",
       "      <td>IFC Films</td>\n",
       "      <td>Horror</td>\n",
       "      <td>English</td>\n",
       "      <td>Evan Astrowsky, Christopher Lemole, Tim Zajaros</td>\n",
       "      <td>R (Language|Horror Violence and Gore|Nudity|Se...</td>\n",
       "      <td>Jul 5, 2016</td>\n",
       "      <td>Feb 12, 2016 limited</td>\n",
       "      <td>1h 39m</td>\n",
       "      <td>NaN</td>\n",
       "      <td>Fresh out of college, five friends (Nadine Cro...</td>\n",
       "      <td>NaN</td>\n",
       "      <td>Eli Roth, Randy Pearlstein</td>\n",
       "    </tr>\n",
       "    <tr>\n",
       "      <th>2</th>\n",
       "      <td>Kite</td>\n",
       "      <td>NaN</td>\n",
       "      <td>NaN</td>\n",
       "      <td>India Eisley, Callan McAuliffe, Samuel L. Jack...</td>\n",
       "      <td>Ralph Ziman</td>\n",
       "      <td>Freestyle Releasing</td>\n",
       "      <td>Action, Mystery &amp; thriller</td>\n",
       "      <td>English</td>\n",
       "      <td>Anant Singh, Brian Cox, Moisés Cosío</td>\n",
       "      <td>R (Strong Bloody Violence|Grisly Images|Drug a...</td>\n",
       "      <td>Nov 25, 2014</td>\n",
       "      <td>Oct 10, 2014 limited</td>\n",
       "      <td>1h 30m</td>\n",
       "      <td>NaN</td>\n",
       "      <td>With the help of her father's ex-partner (Samu...</td>\n",
       "      <td>NaN</td>\n",
       "      <td>Brian Cox</td>\n",
       "    </tr>\n",
       "    <tr>\n",
       "      <th>3</th>\n",
       "      <td>Rollerball</td>\n",
       "      <td>Flat (1.85</td>\n",
       "      <td>NaN</td>\n",
       "      <td>James Caan, John Houseman, Maud Adams, John Be...</td>\n",
       "      <td>Norman Jewison</td>\n",
       "      <td>United Artists</td>\n",
       "      <td>Sci-fi, Action</td>\n",
       "      <td>English</td>\n",
       "      <td>Norman Jewison</td>\n",
       "      <td>R</td>\n",
       "      <td>Jun 5, 2001</td>\n",
       "      <td>Jan 1, 1975 wide</td>\n",
       "      <td>2h 8m</td>\n",
       "      <td>Stereo</td>\n",
       "      <td>The year is 2018 in a futuristic society where...</td>\n",
       "      <td>NaN</td>\n",
       "      <td>William Harrison, William Harrison</td>\n",
       "    </tr>\n",
       "    <tr>\n",
       "      <th>4</th>\n",
       "      <td>Flatliners</td>\n",
       "      <td>Scope (2.35</td>\n",
       "      <td>$16.9M</td>\n",
       "      <td>Diego Luna, Nina Dobrev, James Norton, Kiersey...</td>\n",
       "      <td>Niels Arden Oplev</td>\n",
       "      <td>Sony Pictures Entertainment</td>\n",
       "      <td>Mystery &amp; thriller, Sci-fi</td>\n",
       "      <td>English</td>\n",
       "      <td>Laurence Mark, Michael Douglas, Peter Safran</td>\n",
       "      <td>PG-13 (Sexual Content|Language|Some Drug Refer...</td>\n",
       "      <td>Dec 19, 2017</td>\n",
       "      <td>Sep 29, 2017 wide</td>\n",
       "      <td>1h 48m</td>\n",
       "      <td>Dolby Atmos</td>\n",
       "      <td>Five medical students embark on a daring and d...</td>\n",
       "      <td>NaN</td>\n",
       "      <td>Ben Ripley</td>\n",
       "    </tr>\n",
       "    <tr>\n",
       "      <th>...</th>\n",
       "      <td>...</td>\n",
       "      <td>...</td>\n",
       "      <td>...</td>\n",
       "      <td>...</td>\n",
       "      <td>...</td>\n",
       "      <td>...</td>\n",
       "      <td>...</td>\n",
       "      <td>...</td>\n",
       "      <td>...</td>\n",
       "      <td>...</td>\n",
       "      <td>...</td>\n",
       "      <td>...</td>\n",
       "      <td>...</td>\n",
       "      <td>...</td>\n",
       "      <td>...</td>\n",
       "      <td>...</td>\n",
       "      <td>...</td>\n",
       "    </tr>\n",
       "    <tr>\n",
       "      <th>1547</th>\n",
       "      <td>Ghost World</td>\n",
       "      <td>Flat (1.85</td>\n",
       "      <td>$6.2M</td>\n",
       "      <td>Thora Birch, Scarlett Johansson, Steve Buscemi...</td>\n",
       "      <td>Terry Zwigoff</td>\n",
       "      <td>United Artists</td>\n",
       "      <td>Comedy, Drama</td>\n",
       "      <td>English</td>\n",
       "      <td>Lianne Halfon, John Malkovich, Russell Smith</td>\n",
       "      <td>R (Strong Language|Some Sexual Content)</td>\n",
       "      <td>Feb 5, 2002</td>\n",
       "      <td>Jun 16, 2001 original</td>\n",
       "      <td>1h 51m</td>\n",
       "      <td>Dolby SR, DTS, Dolby Stereo, Surround, SDDS, D...</td>\n",
       "      <td>The story of neo-cool Enid (Thora Birch) and R...</td>\n",
       "      <td>NaN</td>\n",
       "      <td>Terry Zwigoff, Daniel Clowes, Daniel Clowes</td>\n",
       "    </tr>\n",
       "    <tr>\n",
       "      <th>1548</th>\n",
       "      <td>Juno</td>\n",
       "      <td>Flat (1.85</td>\n",
       "      <td>$143.5M</td>\n",
       "      <td>Elliot Page, Michael Cera, Jennifer Garner, Ja...</td>\n",
       "      <td>Jason Reitman</td>\n",
       "      <td>Fox</td>\n",
       "      <td>Comedy, Drama</td>\n",
       "      <td>English</td>\n",
       "      <td>Lianne Halfon, John Malkovich, Mason Novick, R...</td>\n",
       "      <td>PG-13 (Mature Thematic Material|Language|Sexua...</td>\n",
       "      <td>Apr 15, 2008</td>\n",
       "      <td>Dec 25, 2007 wide</td>\n",
       "      <td>1h 36m</td>\n",
       "      <td>SDDS, Dolby Digital, DTS, Dolby SRD</td>\n",
       "      <td>When precocious teen Juno MacGuff becomes preg...</td>\n",
       "      <td>NaN</td>\n",
       "      <td>Diablo Cody</td>\n",
       "    </tr>\n",
       "    <tr>\n",
       "      <th>1549</th>\n",
       "      <td>The Edge of Seventeen</td>\n",
       "      <td>NaN</td>\n",
       "      <td>$14.4M</td>\n",
       "      <td>Hailee Steinfeld, Haley Lu Richardson, Blake J...</td>\n",
       "      <td>Kelly Fremon Craig</td>\n",
       "      <td>STX Entertainment</td>\n",
       "      <td>Comedy, Drama</td>\n",
       "      <td>English</td>\n",
       "      <td>James L. Brooks, Richard Sakai, Julie Ansell</td>\n",
       "      <td>R (Sexual Content|Language|Some Drinking)</td>\n",
       "      <td>Feb 14, 2017</td>\n",
       "      <td>Nov 18, 2016 wide</td>\n",
       "      <td>1h 45m</td>\n",
       "      <td>NaN</td>\n",
       "      <td>Everyone knows that growing up is hard, and li...</td>\n",
       "      <td>NaN</td>\n",
       "      <td>Kelly Fremon Craig</td>\n",
       "    </tr>\n",
       "    <tr>\n",
       "      <th>1550</th>\n",
       "      <td>Say Anything...</td>\n",
       "      <td>Flat (1.85</td>\n",
       "      <td>$20.0M</td>\n",
       "      <td>John Cusack, Ione Skye, John Mahoney, Lili Tay...</td>\n",
       "      <td>Cameron Crowe</td>\n",
       "      <td>20th Century Fox</td>\n",
       "      <td>Romance</td>\n",
       "      <td>English</td>\n",
       "      <td>Polly Platt</td>\n",
       "      <td>PG-13</td>\n",
       "      <td>Mar 5, 2002</td>\n",
       "      <td>Apr 14, 1989 wide</td>\n",
       "      <td>1h 40m</td>\n",
       "      <td>Surround, Dolby SR, Dolby A, Dolby Stereo</td>\n",
       "      <td>In a charming, critically acclaimed tale of fi...</td>\n",
       "      <td>NaN</td>\n",
       "      <td>Cameron Crowe</td>\n",
       "    </tr>\n",
       "    <tr>\n",
       "      <th>1551</th>\n",
       "      <td>The Last Picture Show</td>\n",
       "      <td>NaN</td>\n",
       "      <td>NaN</td>\n",
       "      <td>Timothy Bottoms, Jeff Bridges, Cybill Shepherd...</td>\n",
       "      <td>Peter Bogdanovich</td>\n",
       "      <td>Columbia Pictures</td>\n",
       "      <td>Drama</td>\n",
       "      <td>English</td>\n",
       "      <td>Stephen Friedman</td>\n",
       "      <td>R (Nudity|Language|Sexuality)</td>\n",
       "      <td>Nov 30, 1999</td>\n",
       "      <td>Jan 1, 1971 wide</td>\n",
       "      <td>1h 58m</td>\n",
       "      <td>Mono</td>\n",
       "      <td>High school seniors and best friends, Sonny (T...</td>\n",
       "      <td>NaN</td>\n",
       "      <td>Peter Bogdanovich, Larry McMurtry, Larry McMurtry</td>\n",
       "    </tr>\n",
       "  </tbody>\n",
       "</table>\n",
       "<p>1552 rows × 17 columns</p>\n",
       "</div>"
      ],
      "text/plain": [
       "                      Title Aspect Ratio Box Office (Gross USA)  \\\n",
       "0           One Missed Call   Flat (1.85                 $26.9M   \n",
       "1               Cabin Fever          NaN                    NaN   \n",
       "2                      Kite          NaN                    NaN   \n",
       "3                Rollerball   Flat (1.85                    NaN   \n",
       "4                Flatliners  Scope (2.35                 $16.9M   \n",
       "...                     ...          ...                    ...   \n",
       "1547            Ghost World   Flat (1.85                  $6.2M   \n",
       "1548                   Juno   Flat (1.85                $143.5M   \n",
       "1549  The Edge of Seventeen          NaN                 $14.4M   \n",
       "1550        Say Anything...   Flat (1.85                 $20.0M   \n",
       "1551  The Last Picture Show          NaN                    NaN   \n",
       "\n",
       "                                         Casts_and_crew            Director  \\\n",
       "0     Shannyn Sossamon, Edward Burns, Ana Claudia Ta...        Éric Valette   \n",
       "1     Nadine Crocker, Matthew Daddario, Samuel Davis...      Travis Zariwny   \n",
       "2     India Eisley, Callan McAuliffe, Samuel L. Jack...         Ralph Ziman   \n",
       "3     James Caan, John Houseman, Maud Adams, John Be...      Norman Jewison   \n",
       "4     Diego Luna, Nina Dobrev, James Norton, Kiersey...   Niels Arden Oplev   \n",
       "...                                                 ...                 ...   \n",
       "1547  Thora Birch, Scarlett Johansson, Steve Buscemi...       Terry Zwigoff   \n",
       "1548  Elliot Page, Michael Cera, Jennifer Garner, Ja...       Jason Reitman   \n",
       "1549  Hailee Steinfeld, Haley Lu Richardson, Blake J...  Kelly Fremon Craig   \n",
       "1550  John Cusack, Ione Skye, John Mahoney, Lili Tay...       Cameron Crowe   \n",
       "1551  Timothy Bottoms, Jeff Bridges, Cybill Shepherd...   Peter Bogdanovich   \n",
       "\n",
       "                      Distributor                       Genre  \\\n",
       "0                    Warner Bros.  Horror, Mystery & thriller   \n",
       "1                       IFC Films                      Horror   \n",
       "2             Freestyle Releasing  Action, Mystery & thriller   \n",
       "3                  United Artists              Sci-fi, Action   \n",
       "4     Sony Pictures Entertainment  Mystery & thriller, Sci-fi   \n",
       "...                           ...                         ...   \n",
       "1547               United Artists               Comedy, Drama   \n",
       "1548                          Fox               Comedy, Drama   \n",
       "1549            STX Entertainment               Comedy, Drama   \n",
       "1550             20th Century Fox                     Romance   \n",
       "1551            Columbia Pictures                       Drama   \n",
       "\n",
       "     Original Language                                           Producer  \\\n",
       "0              English  Broderick Johnson, Andrew A. Kosove, Scott Kro...   \n",
       "1              English    Evan Astrowsky, Christopher Lemole, Tim Zajaros   \n",
       "2              English               Anant Singh, Brian Cox, Moisés Cosío   \n",
       "3              English                                     Norman Jewison   \n",
       "4              English       Laurence Mark, Michael Douglas, Peter Safran   \n",
       "...                ...                                                ...   \n",
       "1547           English       Lianne Halfon, John Malkovich, Russell Smith   \n",
       "1548           English  Lianne Halfon, John Malkovich, Mason Novick, R...   \n",
       "1549           English       James L. Brooks, Richard Sakai, Julie Ansell   \n",
       "1550           English                                        Polly Platt   \n",
       "1551           English                                   Stephen Friedman   \n",
       "\n",
       "                                                 Rating  \\\n",
       "0     PG-13 (Intense Sequences of Terror|Frightening...   \n",
       "1     R (Language|Horror Violence and Gore|Nudity|Se...   \n",
       "2     R (Strong Bloody Violence|Grisly Images|Drug a...   \n",
       "3                                                     R   \n",
       "4     PG-13 (Sexual Content|Language|Some Drug Refer...   \n",
       "...                                                 ...   \n",
       "1547            R (Strong Language|Some Sexual Content)   \n",
       "1548  PG-13 (Mature Thematic Material|Language|Sexua...   \n",
       "1549          R (Sexual Content|Language|Some Drinking)   \n",
       "1550                                              PG-13   \n",
       "1551                      R (Nudity|Language|Sexuality)   \n",
       "\n",
       "     Release Date (Streaming) Release Date (Theaters) Runtime  \\\n",
       "0                Apr 22, 2008        Jan 4, 2008 wide  1h 27m   \n",
       "1                 Jul 5, 2016    Feb 12, 2016 limited  1h 39m   \n",
       "2                Nov 25, 2014    Oct 10, 2014 limited  1h 30m   \n",
       "3                 Jun 5, 2001        Jan 1, 1975 wide   2h 8m   \n",
       "4                Dec 19, 2017       Sep 29, 2017 wide  1h 48m   \n",
       "...                       ...                     ...     ...   \n",
       "1547              Feb 5, 2002   Jun 16, 2001 original  1h 51m   \n",
       "1548             Apr 15, 2008       Dec 25, 2007 wide  1h 36m   \n",
       "1549             Feb 14, 2017       Nov 18, 2016 wide  1h 45m   \n",
       "1550              Mar 5, 2002       Apr 14, 1989 wide  1h 40m   \n",
       "1551             Nov 30, 1999        Jan 1, 1971 wide  1h 58m   \n",
       "\n",
       "                                              Sound Mix  \\\n",
       "0                                  Dolby SRD, DTS, SDDS   \n",
       "1                                                   NaN   \n",
       "2                                                   NaN   \n",
       "3                                                Stereo   \n",
       "4                                           Dolby Atmos   \n",
       "...                                                 ...   \n",
       "1547  Dolby SR, DTS, Dolby Stereo, Surround, SDDS, D...   \n",
       "1548                SDDS, Dolby Digital, DTS, Dolby SRD   \n",
       "1549                                                NaN   \n",
       "1550          Surround, Dolby SR, Dolby A, Dolby Stereo   \n",
       "1551                                               Mono   \n",
       "\n",
       "                                               Synopsis View the collection  \\\n",
       "0     When Beth Raymond (Shannyn Sossamon) witnesses...                 NaN   \n",
       "1     Fresh out of college, five friends (Nadine Cro...                 NaN   \n",
       "2     With the help of her father's ex-partner (Samu...                 NaN   \n",
       "3     The year is 2018 in a futuristic society where...                 NaN   \n",
       "4     Five medical students embark on a daring and d...                 NaN   \n",
       "...                                                 ...                 ...   \n",
       "1547  The story of neo-cool Enid (Thora Birch) and R...                 NaN   \n",
       "1548  When precocious teen Juno MacGuff becomes preg...                 NaN   \n",
       "1549  Everyone knows that growing up is hard, and li...                 NaN   \n",
       "1550  In a charming, critically acclaimed tale of fi...                 NaN   \n",
       "1551  High school seniors and best friends, Sonny (T...                 NaN   \n",
       "\n",
       "                                                 Writer  \n",
       "0                                         Andrew Klavan  \n",
       "1                            Eli Roth, Randy Pearlstein  \n",
       "2                                             Brian Cox  \n",
       "3                    William Harrison, William Harrison  \n",
       "4                                            Ben Ripley  \n",
       "...                                                 ...  \n",
       "1547        Terry Zwigoff, Daniel Clowes, Daniel Clowes  \n",
       "1548                                        Diablo Cody  \n",
       "1549                                 Kelly Fremon Craig  \n",
       "1550                                      Cameron Crowe  \n",
       "1551  Peter Bogdanovich, Larry McMurtry, Larry McMurtry  \n",
       "\n",
       "[1552 rows x 17 columns]"
      ]
     },
     "execution_count": 74,
     "metadata": {},
     "output_type": "execute_result"
    }
   ],
   "source": [
    "# df_movie_info_alltime"
   ]
  },
  {
   "cell_type": "markdown",
   "id": "0f38b9f1",
   "metadata": {},
   "source": [
    "### Countdown List\n",
    "Countdown list includes special categories and ranked lists for film and television you won't find anywhere else!"
   ]
  },
  {
   "cell_type": "markdown",
   "id": "f35af69d",
   "metadata": {},
   "source": [
    "#### Remove invalid rows\n",
    "Remove rows containing tv series links."
   ]
  },
  {
   "cell_type": "code",
   "execution_count": 175,
   "id": "c3e418cc",
   "metadata": {
    "ExecuteTime": {
     "end_time": "2022-11-12T23:13:32.688797Z",
     "start_time": "2022-11-12T23:13:32.637859Z"
    }
   },
   "outputs": [
    {
     "name": "stdout",
     "output_type": "stream",
     "text": [
      "Countdown List BEFORE deleting invalid rows: 8791\n",
      "Countdown List AFTER deleting invalid rows: 8684\n"
     ]
    }
   ],
   "source": [
    "# # df_countdown\n",
    "# print(f'Countdown List BEFORE deleting invalid rows: {(len(movie_links_countdown))}')\n",
    "# newlist = list(movie_links_countdown.values())\n",
    "# regex = re.compile('.(/tv/).')\n",
    "# filterout = list(filter(regex.search,newlist))\n",
    "# movie_links_cd = movie_links_countdown.copy()\n",
    "\n",
    "# lst = movie_links_countdown.items()\n",
    "# for key, val in lst:\n",
    "#     if val in filterout:\n",
    "#         del movie_links_cd[key]\n",
    "# print(f'Countdown List AFTER deleting invalid rows: {(len(movie_links_cd))}')"
   ]
  },
  {
   "cell_type": "code",
   "execution_count": 176,
   "id": "59b0031a",
   "metadata": {
    "ExecuteTime": {
     "end_time": "2022-11-12T23:13:39.432337Z",
     "start_time": "2022-11-12T23:13:39.422565Z"
    }
   },
   "outputs": [
    {
     "data": {
      "text/plain": [
       "8684"
      ]
     },
     "execution_count": 176,
     "metadata": {},
     "output_type": "execute_result"
    }
   ],
   "source": [
    "# len(movie_links_cd)"
   ]
  },
  {
   "cell_type": "markdown",
   "id": "32f83489",
   "metadata": {},
   "source": [
    "#### Save the movie_info to a dataframe\n",
    "Save the movie_info of each movie_link in movie_links_cd to df_movie_info_cd:"
   ]
  },
  {
   "cell_type": "code",
   "execution_count": 177,
   "id": "9102ecdd",
   "metadata": {
    "ExecuteTime": {
     "end_time": "2022-11-12T23:31:26.305647Z",
     "start_time": "2022-11-12T23:19:44.717692Z"
    }
   },
   "outputs": [
    {
     "name": "stderr",
     "output_type": "stream",
     "text": [
      "  6%|▋         | 560/8684 [11:41<2:49:37,  1.25s/it]\n"
     ]
    },
    {
     "ename": "AttributeError",
     "evalue": "'NoneType' object has no attribute 'text'",
     "output_type": "error",
     "traceback": [
      "\u001b[0;31m---------------------------------------------------------------------------\u001b[0m",
      "\u001b[0;31mAttributeError\u001b[0m                            Traceback (most recent call last)",
      "Input \u001b[0;32mIn [177]\u001b[0m, in \u001b[0;36m<cell line: 8>\u001b[0;34m()\u001b[0m\n\u001b[1;32m      7\u001b[0m df_movie_info_cd \u001b[38;5;241m=\u001b[39m pd\u001b[38;5;241m.\u001b[39mDataFrame(columns\u001b[38;5;241m=\u001b[39mcolumns)\n\u001b[1;32m      8\u001b[0m \u001b[38;5;28;01mfor\u001b[39;00m movie, link \u001b[38;5;129;01min\u001b[39;00m tqdm(movie_links_cd\u001b[38;5;241m.\u001b[39mitems()):\n\u001b[0;32m----> 9\u001b[0m     cols \u001b[38;5;241m=\u001b[39m [col \u001b[38;5;28;01mfor\u001b[39;00m col \u001b[38;5;129;01min\u001b[39;00m \u001b[43mget_movie_info\u001b[49m\u001b[43m(\u001b[49m\u001b[43mlink\u001b[49m\u001b[43m)\u001b[49m\u001b[38;5;241m.\u001b[39mkeys()]\n\u001b[1;32m     10\u001b[0m     data \u001b[38;5;241m=\u001b[39m get_movie_info(link)\u001b[38;5;241m.\u001b[39mvalues()\n\u001b[1;32m     11\u001b[0m     df1 \u001b[38;5;241m=\u001b[39m (pd\u001b[38;5;241m.\u001b[39mDataFrame(data, cols)\u001b[38;5;241m.\u001b[39mT)\n",
      "Input \u001b[0;32mIn [3]\u001b[0m, in \u001b[0;36mget_movie_info\u001b[0;34m(url_movie)\u001b[0m\n\u001b[1;32m      2\u001b[0m response \u001b[38;5;241m=\u001b[39m requests\u001b[38;5;241m.\u001b[39mget(url_movie, proxies\u001b[38;5;241m=\u001b[39mproxies)\n\u001b[1;32m      3\u001b[0m soup \u001b[38;5;241m=\u001b[39m BeautifulSoup(response\u001b[38;5;241m.\u001b[39mcontent)\n\u001b[0;32m----> 4\u001b[0m fields \u001b[38;5;241m=\u001b[39m {\u001b[38;5;124m'\u001b[39m\u001b[38;5;124mTitle\u001b[39m\u001b[38;5;124m'\u001b[39m: \u001b[43msoup\u001b[49m\u001b[38;5;241;43m.\u001b[39;49m\u001b[43mselect_one\u001b[49m\u001b[43m(\u001b[49m\u001b[38;5;124;43m'\u001b[39;49m\u001b[38;5;124;43mh1.scoreboard__title\u001b[39;49m\u001b[38;5;124;43m'\u001b[39;49m\u001b[43m)\u001b[49m\u001b[38;5;241;43m.\u001b[39;49m\u001b[43mtext\u001b[49m,\n\u001b[1;32m      5\u001b[0m           \u001b[38;5;124m'\u001b[39m\u001b[38;5;124mSynopsis\u001b[39m\u001b[38;5;124m'\u001b[39m: soup\u001b[38;5;241m.\u001b[39mselect_one(\u001b[38;5;124m'\u001b[39m\u001b[38;5;124m#movieSynopsis\u001b[39m\u001b[38;5;124m'\u001b[39m)\u001b[38;5;241m.\u001b[39mtext\u001b[38;5;241m.\u001b[39mstrip(),\n\u001b[1;32m      6\u001b[0m           \u001b[38;5;124m'\u001b[39m\u001b[38;5;124mCasts_and_crew\u001b[39m\u001b[38;5;124m'\u001b[39m: (\n\u001b[1;32m      7\u001b[0m               \u001b[38;5;124m'\u001b[39m\u001b[38;5;124m, \u001b[39m\u001b[38;5;124m'\u001b[39m\u001b[38;5;241m.\u001b[39mjoin([name\u001b[38;5;241m.\u001b[39mget_text()\u001b[38;5;241m.\u001b[39mstrip()\n\u001b[1;32m      8\u001b[0m                          \u001b[38;5;28;01mfor\u001b[39;00m name \u001b[38;5;129;01min\u001b[39;00m soup\u001b[38;5;241m.\u001b[39mselect(\n\u001b[1;32m      9\u001b[0m                              \u001b[38;5;124m\"\u001b[39m\u001b[38;5;124m#movie-cast > div > div > div > div.media-body > a > span\u001b[39m\u001b[38;5;124m\"\u001b[39m)]))}\n\u001b[1;32m     10\u001b[0m fields2 \u001b[38;5;241m=\u001b[39m [a\u001b[38;5;241m.\u001b[39mget_text()\u001b[38;5;241m.\u001b[39mreplace(\u001b[38;5;124m'\u001b[39m\u001b[38;5;130;01m\\n\u001b[39;00m\u001b[38;5;124m'\u001b[39m, \u001b[38;5;124m\"\u001b[39m\u001b[38;5;124m\"\u001b[39m)\u001b[38;5;241m.\u001b[39mreplace(\u001b[38;5;124m\"\u001b[39m\u001b[38;5;124m  \u001b[39m\u001b[38;5;124m\"\u001b[39m, \u001b[38;5;124m'\u001b[39m\u001b[38;5;124m'\u001b[39m)\u001b[38;5;241m.\u001b[39mstrip(\n\u001b[1;32m     11\u001b[0m )\u001b[38;5;241m.\u001b[39msplit(\u001b[38;5;124m'\u001b[39m\u001b[38;5;124m:\u001b[39m\u001b[38;5;124m'\u001b[39m) \u001b[38;5;28;01mfor\u001b[39;00m a \u001b[38;5;129;01min\u001b[39;00m soup\u001b[38;5;241m.\u001b[39mselect(\u001b[38;5;124m'\u001b[39m\u001b[38;5;124mli.meta-row\u001b[39m\u001b[38;5;124m'\u001b[39m)]\n\u001b[1;32m     12\u001b[0m fields2 \u001b[38;5;241m=\u001b[39m {x[\u001b[38;5;241m0\u001b[39m]: x[\u001b[38;5;241m1\u001b[39m] \u001b[38;5;28;01mfor\u001b[39;00m x \u001b[38;5;129;01min\u001b[39;00m fields2}\n",
      "\u001b[0;31mAttributeError\u001b[0m: 'NoneType' object has no attribute 'text'"
     ]
    }
   ],
   "source": [
    "# columns = ['Title', 'Aspect Ratio', 'Box Office (Gross USA)', 'Casts_and_crew',\n",
    "#            'Director', 'Distributor', 'Genre', 'Original Language',\n",
    "#            'Producer', 'Rating', 'Release Date (Streaming)',\n",
    "#            'Release Date (Theaters)', 'Runtime', 'Sound Mix',\n",
    "#            'Synopsis', 'View the collection', 'Writer']\n",
    "\n",
    "# df_movie_info_cd = pd.DataFrame(columns=columns)\n",
    "# for movie, link in tqdm(movie_links_cd.items()):\n",
    "#     cols = [col for col in get_movie_info(link).keys()]\n",
    "#     data = get_movie_info(link).values()\n",
    "#     df1 = (pd.DataFrame(data, cols).T)\n",
    "#     df_movie_info_cd = pd.concat([df_movie_info_cd, df1], ignore_index=True)\n",
    "# display(df_movie_info_cd)"
   ]
  },
  {
   "cell_type": "markdown",
   "id": "0e905fa1",
   "metadata": {},
   "source": [
    "#### Append the 2nd batch\n",
    "Append the 2nd batch of movie info from the links in movie_links_cd:"
   ]
  },
  {
   "cell_type": "code",
   "execution_count": 185,
   "id": "29dd0f72",
   "metadata": {
    "ExecuteTime": {
     "end_time": "2022-11-12T23:44:52.036093Z",
     "start_time": "2022-11-12T23:34:37.359360Z"
    }
   },
   "outputs": [
    {
     "name": "stderr",
     "output_type": "stream",
     "text": [
      "  5%|▌         | 418/8124 [10:14<3:08:50,  1.47s/it]\n"
     ]
    },
    {
     "ename": "AttributeError",
     "evalue": "'NoneType' object has no attribute 'text'",
     "output_type": "error",
     "traceback": [
      "\u001b[0;31m---------------------------------------------------------------------------\u001b[0m",
      "\u001b[0;31mAttributeError\u001b[0m                            Traceback (most recent call last)",
      "Input \u001b[0;32mIn [185]\u001b[0m, in \u001b[0;36m<cell line: 4>\u001b[0;34m()\u001b[0m\n\u001b[1;32m      2\u001b[0m df_movie_info_cd2 \u001b[38;5;241m=\u001b[39m df_movie_info_cd\u001b[38;5;241m.\u001b[39mcopy()\n\u001b[1;32m      4\u001b[0m \u001b[38;5;28;01mfor\u001b[39;00m movie, link \u001b[38;5;129;01min\u001b[39;00m tqdm(movie_links_cd2\u001b[38;5;241m.\u001b[39mitems()):\n\u001b[0;32m----> 5\u001b[0m     cols \u001b[38;5;241m=\u001b[39m [col \u001b[38;5;28;01mfor\u001b[39;00m col \u001b[38;5;129;01min\u001b[39;00m \u001b[43mget_movie_info\u001b[49m\u001b[43m(\u001b[49m\u001b[43mlink\u001b[49m\u001b[43m)\u001b[49m\u001b[38;5;241m.\u001b[39mkeys()]\n\u001b[1;32m      6\u001b[0m     data \u001b[38;5;241m=\u001b[39m get_movie_info(link)\u001b[38;5;241m.\u001b[39mvalues()\n\u001b[1;32m      7\u001b[0m     df1 \u001b[38;5;241m=\u001b[39m (pd\u001b[38;5;241m.\u001b[39mDataFrame(data, cols)\u001b[38;5;241m.\u001b[39mT)\n",
      "Input \u001b[0;32mIn [3]\u001b[0m, in \u001b[0;36mget_movie_info\u001b[0;34m(url_movie)\u001b[0m\n\u001b[1;32m      2\u001b[0m response \u001b[38;5;241m=\u001b[39m requests\u001b[38;5;241m.\u001b[39mget(url_movie, proxies\u001b[38;5;241m=\u001b[39mproxies)\n\u001b[1;32m      3\u001b[0m soup \u001b[38;5;241m=\u001b[39m BeautifulSoup(response\u001b[38;5;241m.\u001b[39mcontent)\n\u001b[0;32m----> 4\u001b[0m fields \u001b[38;5;241m=\u001b[39m {\u001b[38;5;124m'\u001b[39m\u001b[38;5;124mTitle\u001b[39m\u001b[38;5;124m'\u001b[39m: \u001b[43msoup\u001b[49m\u001b[38;5;241;43m.\u001b[39;49m\u001b[43mselect_one\u001b[49m\u001b[43m(\u001b[49m\u001b[38;5;124;43m'\u001b[39;49m\u001b[38;5;124;43mh1.scoreboard__title\u001b[39;49m\u001b[38;5;124;43m'\u001b[39;49m\u001b[43m)\u001b[49m\u001b[38;5;241;43m.\u001b[39;49m\u001b[43mtext\u001b[49m,\n\u001b[1;32m      5\u001b[0m           \u001b[38;5;124m'\u001b[39m\u001b[38;5;124mSynopsis\u001b[39m\u001b[38;5;124m'\u001b[39m: soup\u001b[38;5;241m.\u001b[39mselect_one(\u001b[38;5;124m'\u001b[39m\u001b[38;5;124m#movieSynopsis\u001b[39m\u001b[38;5;124m'\u001b[39m)\u001b[38;5;241m.\u001b[39mtext\u001b[38;5;241m.\u001b[39mstrip(),\n\u001b[1;32m      6\u001b[0m           \u001b[38;5;124m'\u001b[39m\u001b[38;5;124mCasts_and_crew\u001b[39m\u001b[38;5;124m'\u001b[39m: (\n\u001b[1;32m      7\u001b[0m               \u001b[38;5;124m'\u001b[39m\u001b[38;5;124m, \u001b[39m\u001b[38;5;124m'\u001b[39m\u001b[38;5;241m.\u001b[39mjoin([name\u001b[38;5;241m.\u001b[39mget_text()\u001b[38;5;241m.\u001b[39mstrip()\n\u001b[1;32m      8\u001b[0m                          \u001b[38;5;28;01mfor\u001b[39;00m name \u001b[38;5;129;01min\u001b[39;00m soup\u001b[38;5;241m.\u001b[39mselect(\n\u001b[1;32m      9\u001b[0m                              \u001b[38;5;124m\"\u001b[39m\u001b[38;5;124m#movie-cast > div > div > div > div.media-body > a > span\u001b[39m\u001b[38;5;124m\"\u001b[39m)]))}\n\u001b[1;32m     10\u001b[0m fields2 \u001b[38;5;241m=\u001b[39m [a\u001b[38;5;241m.\u001b[39mget_text()\u001b[38;5;241m.\u001b[39mreplace(\u001b[38;5;124m'\u001b[39m\u001b[38;5;130;01m\\n\u001b[39;00m\u001b[38;5;124m'\u001b[39m, \u001b[38;5;124m\"\u001b[39m\u001b[38;5;124m\"\u001b[39m)\u001b[38;5;241m.\u001b[39mreplace(\u001b[38;5;124m\"\u001b[39m\u001b[38;5;124m  \u001b[39m\u001b[38;5;124m\"\u001b[39m, \u001b[38;5;124m'\u001b[39m\u001b[38;5;124m'\u001b[39m)\u001b[38;5;241m.\u001b[39mstrip(\n\u001b[1;32m     11\u001b[0m )\u001b[38;5;241m.\u001b[39msplit(\u001b[38;5;124m'\u001b[39m\u001b[38;5;124m:\u001b[39m\u001b[38;5;124m'\u001b[39m) \u001b[38;5;28;01mfor\u001b[39;00m a \u001b[38;5;129;01min\u001b[39;00m soup\u001b[38;5;241m.\u001b[39mselect(\u001b[38;5;124m'\u001b[39m\u001b[38;5;124mli.meta-row\u001b[39m\u001b[38;5;124m'\u001b[39m)]\n\u001b[1;32m     12\u001b[0m fields2 \u001b[38;5;241m=\u001b[39m {x[\u001b[38;5;241m0\u001b[39m]: x[\u001b[38;5;241m1\u001b[39m] \u001b[38;5;28;01mfor\u001b[39;00m x \u001b[38;5;129;01min\u001b[39;00m fields2}\n",
      "\u001b[0;31mAttributeError\u001b[0m: 'NoneType' object has no attribute 'text'"
     ]
    }
   ],
   "source": [
    "# movie_links_cd2 = {A:N for (A,N) in [x for x in movie_links_cd.items()][560:]}\n",
    "# df_movie_info_cd2 = df_movie_info_cd.copy()\n",
    "\n",
    "# for movie, link in tqdm(movie_links_cd2.items()):\n",
    "#     cols = [col for col in get_movie_info(link).keys()]\n",
    "#     data = get_movie_info(link).values()\n",
    "#     df1 = (pd.DataFrame(data, cols).T)\n",
    "#     df_movie_info_cd2 = pd.concat([df_movie_info_cd2, df1], ignore_index=True)\n",
    "# display(df_movie_info_cd2)"
   ]
  },
  {
   "cell_type": "markdown",
   "id": "f7072953",
   "metadata": {},
   "source": [
    "#### Append the 3rd batch\n",
    "Append the 3rd batch of movie info from the links in movie_links_cd:"
   ]
  },
  {
   "cell_type": "code",
   "execution_count": 195,
   "id": "7ecf4829",
   "metadata": {
    "ExecuteTime": {
     "end_time": "2022-11-12T23:55:30.964045Z",
     "start_time": "2022-11-12T23:50:58.986573Z"
    }
   },
   "outputs": [
    {
     "name": "stderr",
     "output_type": "stream",
     "text": [
      "  3%|▎         | 224/7706 [04:31<2:31:22,  1.21s/it]\n"
     ]
    },
    {
     "ename": "AttributeError",
     "evalue": "'NoneType' object has no attribute 'text'",
     "output_type": "error",
     "traceback": [
      "\u001b[0;31m---------------------------------------------------------------------------\u001b[0m",
      "\u001b[0;31mAttributeError\u001b[0m                            Traceback (most recent call last)",
      "Input \u001b[0;32mIn [195]\u001b[0m, in \u001b[0;36m<cell line: 4>\u001b[0;34m()\u001b[0m\n\u001b[1;32m      2\u001b[0m df_movie_info_cd3 \u001b[38;5;241m=\u001b[39m df_movie_info_cd2\u001b[38;5;241m.\u001b[39mcopy()\n\u001b[1;32m      4\u001b[0m \u001b[38;5;28;01mfor\u001b[39;00m movie, link \u001b[38;5;129;01min\u001b[39;00m tqdm(movie_links_cd3\u001b[38;5;241m.\u001b[39mitems()):\n\u001b[0;32m----> 5\u001b[0m     cols \u001b[38;5;241m=\u001b[39m [col \u001b[38;5;28;01mfor\u001b[39;00m col \u001b[38;5;129;01min\u001b[39;00m \u001b[43mget_movie_info\u001b[49m\u001b[43m(\u001b[49m\u001b[43mlink\u001b[49m\u001b[43m)\u001b[49m\u001b[38;5;241m.\u001b[39mkeys()]\n\u001b[1;32m      6\u001b[0m     data \u001b[38;5;241m=\u001b[39m get_movie_info(link)\u001b[38;5;241m.\u001b[39mvalues()\n\u001b[1;32m      7\u001b[0m     df1 \u001b[38;5;241m=\u001b[39m (pd\u001b[38;5;241m.\u001b[39mDataFrame(data, cols)\u001b[38;5;241m.\u001b[39mT)\n",
      "Input \u001b[0;32mIn [3]\u001b[0m, in \u001b[0;36mget_movie_info\u001b[0;34m(url_movie)\u001b[0m\n\u001b[1;32m      2\u001b[0m response \u001b[38;5;241m=\u001b[39m requests\u001b[38;5;241m.\u001b[39mget(url_movie, proxies\u001b[38;5;241m=\u001b[39mproxies)\n\u001b[1;32m      3\u001b[0m soup \u001b[38;5;241m=\u001b[39m BeautifulSoup(response\u001b[38;5;241m.\u001b[39mcontent)\n\u001b[0;32m----> 4\u001b[0m fields \u001b[38;5;241m=\u001b[39m {\u001b[38;5;124m'\u001b[39m\u001b[38;5;124mTitle\u001b[39m\u001b[38;5;124m'\u001b[39m: \u001b[43msoup\u001b[49m\u001b[38;5;241;43m.\u001b[39;49m\u001b[43mselect_one\u001b[49m\u001b[43m(\u001b[49m\u001b[38;5;124;43m'\u001b[39;49m\u001b[38;5;124;43mh1.scoreboard__title\u001b[39;49m\u001b[38;5;124;43m'\u001b[39;49m\u001b[43m)\u001b[49m\u001b[38;5;241;43m.\u001b[39;49m\u001b[43mtext\u001b[49m,\n\u001b[1;32m      5\u001b[0m           \u001b[38;5;124m'\u001b[39m\u001b[38;5;124mSynopsis\u001b[39m\u001b[38;5;124m'\u001b[39m: soup\u001b[38;5;241m.\u001b[39mselect_one(\u001b[38;5;124m'\u001b[39m\u001b[38;5;124m#movieSynopsis\u001b[39m\u001b[38;5;124m'\u001b[39m)\u001b[38;5;241m.\u001b[39mtext\u001b[38;5;241m.\u001b[39mstrip(),\n\u001b[1;32m      6\u001b[0m           \u001b[38;5;124m'\u001b[39m\u001b[38;5;124mCasts_and_crew\u001b[39m\u001b[38;5;124m'\u001b[39m: (\n\u001b[1;32m      7\u001b[0m               \u001b[38;5;124m'\u001b[39m\u001b[38;5;124m, \u001b[39m\u001b[38;5;124m'\u001b[39m\u001b[38;5;241m.\u001b[39mjoin([name\u001b[38;5;241m.\u001b[39mget_text()\u001b[38;5;241m.\u001b[39mstrip()\n\u001b[1;32m      8\u001b[0m                          \u001b[38;5;28;01mfor\u001b[39;00m name \u001b[38;5;129;01min\u001b[39;00m soup\u001b[38;5;241m.\u001b[39mselect(\n\u001b[1;32m      9\u001b[0m                              \u001b[38;5;124m\"\u001b[39m\u001b[38;5;124m#movie-cast > div > div > div > div.media-body > a > span\u001b[39m\u001b[38;5;124m\"\u001b[39m)]))}\n\u001b[1;32m     10\u001b[0m fields2 \u001b[38;5;241m=\u001b[39m [a\u001b[38;5;241m.\u001b[39mget_text()\u001b[38;5;241m.\u001b[39mreplace(\u001b[38;5;124m'\u001b[39m\u001b[38;5;130;01m\\n\u001b[39;00m\u001b[38;5;124m'\u001b[39m, \u001b[38;5;124m\"\u001b[39m\u001b[38;5;124m\"\u001b[39m)\u001b[38;5;241m.\u001b[39mreplace(\u001b[38;5;124m\"\u001b[39m\u001b[38;5;124m  \u001b[39m\u001b[38;5;124m\"\u001b[39m, \u001b[38;5;124m'\u001b[39m\u001b[38;5;124m'\u001b[39m)\u001b[38;5;241m.\u001b[39mstrip(\n\u001b[1;32m     11\u001b[0m )\u001b[38;5;241m.\u001b[39msplit(\u001b[38;5;124m'\u001b[39m\u001b[38;5;124m:\u001b[39m\u001b[38;5;124m'\u001b[39m) \u001b[38;5;28;01mfor\u001b[39;00m a \u001b[38;5;129;01min\u001b[39;00m soup\u001b[38;5;241m.\u001b[39mselect(\u001b[38;5;124m'\u001b[39m\u001b[38;5;124mli.meta-row\u001b[39m\u001b[38;5;124m'\u001b[39m)]\n\u001b[1;32m     12\u001b[0m fields2 \u001b[38;5;241m=\u001b[39m {x[\u001b[38;5;241m0\u001b[39m]: x[\u001b[38;5;241m1\u001b[39m] \u001b[38;5;28;01mfor\u001b[39;00m x \u001b[38;5;129;01min\u001b[39;00m fields2}\n",
      "\u001b[0;31mAttributeError\u001b[0m: 'NoneType' object has no attribute 'text'"
     ]
    }
   ],
   "source": [
    "# movie_links_cd3 = {A:N for (A,N) in [x for x in movie_links_cd2.items()][418:]}\n",
    "# df_movie_info_cd3 = df_movie_info_cd2.copy()\n",
    "\n",
    "# for movie, link in tqdm(movie_links_cd3.items()):\n",
    "#     cols = [col for col in get_movie_info(link).keys()]\n",
    "#     data = get_movie_info(link).values()\n",
    "#     df1 = (pd.DataFrame(data, cols).T)\n",
    "#     df_movie_info_cd3 = pd.concat([df_movie_info_cd3, df1], ignore_index=True)\n",
    "# display(df_movie_info_cd3)"
   ]
  },
  {
   "cell_type": "markdown",
   "id": "cc56687a",
   "metadata": {},
   "source": [
    "#### Append the 4th batch\n",
    "Append the 4th batch of movie info from the links in movie_links_cd:"
   ]
  },
  {
   "cell_type": "code",
   "execution_count": 200,
   "id": "2ee79d49",
   "metadata": {
    "ExecuteTime": {
     "end_time": "2022-11-13T00:08:39.529471Z",
     "start_time": "2022-11-12T23:58:11.143679Z"
    }
   },
   "outputs": [
    {
     "name": "stderr",
     "output_type": "stream",
     "text": [
      "  6%|▌         | 461/7482 [10:28<2:39:29,  1.36s/it]\n"
     ]
    },
    {
     "ename": "AttributeError",
     "evalue": "'NoneType' object has no attribute 'text'",
     "output_type": "error",
     "traceback": [
      "\u001b[0;31m---------------------------------------------------------------------------\u001b[0m",
      "\u001b[0;31mAttributeError\u001b[0m                            Traceback (most recent call last)",
      "Input \u001b[0;32mIn [200]\u001b[0m, in \u001b[0;36m<cell line: 4>\u001b[0;34m()\u001b[0m\n\u001b[1;32m      2\u001b[0m df_movie_info_cd4 \u001b[38;5;241m=\u001b[39m df_movie_info_cd3\u001b[38;5;241m.\u001b[39mcopy()\n\u001b[1;32m      4\u001b[0m \u001b[38;5;28;01mfor\u001b[39;00m movie, link \u001b[38;5;129;01min\u001b[39;00m tqdm(movie_links_cd4\u001b[38;5;241m.\u001b[39mitems()):\n\u001b[0;32m----> 5\u001b[0m     cols \u001b[38;5;241m=\u001b[39m [col \u001b[38;5;28;01mfor\u001b[39;00m col \u001b[38;5;129;01min\u001b[39;00m \u001b[43mget_movie_info\u001b[49m\u001b[43m(\u001b[49m\u001b[43mlink\u001b[49m\u001b[43m)\u001b[49m\u001b[38;5;241m.\u001b[39mkeys()]\n\u001b[1;32m      6\u001b[0m     data \u001b[38;5;241m=\u001b[39m get_movie_info(link)\u001b[38;5;241m.\u001b[39mvalues()\n\u001b[1;32m      7\u001b[0m     df1 \u001b[38;5;241m=\u001b[39m (pd\u001b[38;5;241m.\u001b[39mDataFrame(data, cols)\u001b[38;5;241m.\u001b[39mT)\n",
      "Input \u001b[0;32mIn [3]\u001b[0m, in \u001b[0;36mget_movie_info\u001b[0;34m(url_movie)\u001b[0m\n\u001b[1;32m      2\u001b[0m response \u001b[38;5;241m=\u001b[39m requests\u001b[38;5;241m.\u001b[39mget(url_movie, proxies\u001b[38;5;241m=\u001b[39mproxies)\n\u001b[1;32m      3\u001b[0m soup \u001b[38;5;241m=\u001b[39m BeautifulSoup(response\u001b[38;5;241m.\u001b[39mcontent)\n\u001b[0;32m----> 4\u001b[0m fields \u001b[38;5;241m=\u001b[39m {\u001b[38;5;124m'\u001b[39m\u001b[38;5;124mTitle\u001b[39m\u001b[38;5;124m'\u001b[39m: \u001b[43msoup\u001b[49m\u001b[38;5;241;43m.\u001b[39;49m\u001b[43mselect_one\u001b[49m\u001b[43m(\u001b[49m\u001b[38;5;124;43m'\u001b[39;49m\u001b[38;5;124;43mh1.scoreboard__title\u001b[39;49m\u001b[38;5;124;43m'\u001b[39;49m\u001b[43m)\u001b[49m\u001b[38;5;241;43m.\u001b[39;49m\u001b[43mtext\u001b[49m,\n\u001b[1;32m      5\u001b[0m           \u001b[38;5;124m'\u001b[39m\u001b[38;5;124mSynopsis\u001b[39m\u001b[38;5;124m'\u001b[39m: soup\u001b[38;5;241m.\u001b[39mselect_one(\u001b[38;5;124m'\u001b[39m\u001b[38;5;124m#movieSynopsis\u001b[39m\u001b[38;5;124m'\u001b[39m)\u001b[38;5;241m.\u001b[39mtext\u001b[38;5;241m.\u001b[39mstrip(),\n\u001b[1;32m      6\u001b[0m           \u001b[38;5;124m'\u001b[39m\u001b[38;5;124mCasts_and_crew\u001b[39m\u001b[38;5;124m'\u001b[39m: (\n\u001b[1;32m      7\u001b[0m               \u001b[38;5;124m'\u001b[39m\u001b[38;5;124m, \u001b[39m\u001b[38;5;124m'\u001b[39m\u001b[38;5;241m.\u001b[39mjoin([name\u001b[38;5;241m.\u001b[39mget_text()\u001b[38;5;241m.\u001b[39mstrip()\n\u001b[1;32m      8\u001b[0m                          \u001b[38;5;28;01mfor\u001b[39;00m name \u001b[38;5;129;01min\u001b[39;00m soup\u001b[38;5;241m.\u001b[39mselect(\n\u001b[1;32m      9\u001b[0m                              \u001b[38;5;124m\"\u001b[39m\u001b[38;5;124m#movie-cast > div > div > div > div.media-body > a > span\u001b[39m\u001b[38;5;124m\"\u001b[39m)]))}\n\u001b[1;32m     10\u001b[0m fields2 \u001b[38;5;241m=\u001b[39m [a\u001b[38;5;241m.\u001b[39mget_text()\u001b[38;5;241m.\u001b[39mreplace(\u001b[38;5;124m'\u001b[39m\u001b[38;5;130;01m\\n\u001b[39;00m\u001b[38;5;124m'\u001b[39m, \u001b[38;5;124m\"\u001b[39m\u001b[38;5;124m\"\u001b[39m)\u001b[38;5;241m.\u001b[39mreplace(\u001b[38;5;124m\"\u001b[39m\u001b[38;5;124m  \u001b[39m\u001b[38;5;124m\"\u001b[39m, \u001b[38;5;124m'\u001b[39m\u001b[38;5;124m'\u001b[39m)\u001b[38;5;241m.\u001b[39mstrip(\n\u001b[1;32m     11\u001b[0m )\u001b[38;5;241m.\u001b[39msplit(\u001b[38;5;124m'\u001b[39m\u001b[38;5;124m:\u001b[39m\u001b[38;5;124m'\u001b[39m) \u001b[38;5;28;01mfor\u001b[39;00m a \u001b[38;5;129;01min\u001b[39;00m soup\u001b[38;5;241m.\u001b[39mselect(\u001b[38;5;124m'\u001b[39m\u001b[38;5;124mli.meta-row\u001b[39m\u001b[38;5;124m'\u001b[39m)]\n\u001b[1;32m     12\u001b[0m fields2 \u001b[38;5;241m=\u001b[39m {x[\u001b[38;5;241m0\u001b[39m]: x[\u001b[38;5;241m1\u001b[39m] \u001b[38;5;28;01mfor\u001b[39;00m x \u001b[38;5;129;01min\u001b[39;00m fields2}\n",
      "\u001b[0;31mAttributeError\u001b[0m: 'NoneType' object has no attribute 'text'"
     ]
    }
   ],
   "source": [
    "# movie_links_cd4 = {A:N for (A,N) in [x for x in movie_links_cd3.items()][224:]}\n",
    "# df_movie_info_cd4 = df_movie_info_cd3.copy()\n",
    "\n",
    "# for movie, link in tqdm(movie_links_cd4.items()):\n",
    "#     cols = [col for col in get_movie_info(link).keys()]\n",
    "#     data = get_movie_info(link).values()\n",
    "#     df1 = (pd.DataFrame(data, cols).T)\n",
    "#     df_movie_info_cd4 = pd.concat([df_movie_info_cd4, df1], ignore_index=True)\n",
    "# display(df_movie_info_cd4)"
   ]
  },
  {
   "cell_type": "markdown",
   "id": "a06e912b",
   "metadata": {},
   "source": [
    "#### Append the 5th batch\n",
    "Append the 5th batch of movie info from the links in movie_links_cd:"
   ]
  },
  {
   "cell_type": "code",
   "execution_count": 205,
   "id": "0f6fca0f",
   "metadata": {
    "ExecuteTime": {
     "end_time": "2022-11-13T00:16:49.908117Z",
     "start_time": "2022-11-13T00:10:43.740144Z"
    }
   },
   "outputs": [
    {
     "name": "stderr",
     "output_type": "stream",
     "text": [
      "  4%|▍         | 278/7021 [06:06<2:28:00,  1.32s/it]\n"
     ]
    },
    {
     "ename": "AttributeError",
     "evalue": "'NoneType' object has no attribute 'text'",
     "output_type": "error",
     "traceback": [
      "\u001b[0;31m---------------------------------------------------------------------------\u001b[0m",
      "\u001b[0;31mAttributeError\u001b[0m                            Traceback (most recent call last)",
      "Input \u001b[0;32mIn [205]\u001b[0m, in \u001b[0;36m<cell line: 4>\u001b[0;34m()\u001b[0m\n\u001b[1;32m      2\u001b[0m df_movie_info_cd5 \u001b[38;5;241m=\u001b[39m df_movie_info_cd4\u001b[38;5;241m.\u001b[39mcopy()\n\u001b[1;32m      4\u001b[0m \u001b[38;5;28;01mfor\u001b[39;00m movie, link \u001b[38;5;129;01min\u001b[39;00m tqdm(movie_links_cd5\u001b[38;5;241m.\u001b[39mitems()):\n\u001b[0;32m----> 5\u001b[0m     cols \u001b[38;5;241m=\u001b[39m [col \u001b[38;5;28;01mfor\u001b[39;00m col \u001b[38;5;129;01min\u001b[39;00m \u001b[43mget_movie_info\u001b[49m\u001b[43m(\u001b[49m\u001b[43mlink\u001b[49m\u001b[43m)\u001b[49m\u001b[38;5;241m.\u001b[39mkeys()]\n\u001b[1;32m      6\u001b[0m     data \u001b[38;5;241m=\u001b[39m get_movie_info(link)\u001b[38;5;241m.\u001b[39mvalues()\n\u001b[1;32m      7\u001b[0m     df1 \u001b[38;5;241m=\u001b[39m (pd\u001b[38;5;241m.\u001b[39mDataFrame(data, cols)\u001b[38;5;241m.\u001b[39mT)\n",
      "Input \u001b[0;32mIn [3]\u001b[0m, in \u001b[0;36mget_movie_info\u001b[0;34m(url_movie)\u001b[0m\n\u001b[1;32m      2\u001b[0m response \u001b[38;5;241m=\u001b[39m requests\u001b[38;5;241m.\u001b[39mget(url_movie, proxies\u001b[38;5;241m=\u001b[39mproxies)\n\u001b[1;32m      3\u001b[0m soup \u001b[38;5;241m=\u001b[39m BeautifulSoup(response\u001b[38;5;241m.\u001b[39mcontent)\n\u001b[0;32m----> 4\u001b[0m fields \u001b[38;5;241m=\u001b[39m {\u001b[38;5;124m'\u001b[39m\u001b[38;5;124mTitle\u001b[39m\u001b[38;5;124m'\u001b[39m: \u001b[43msoup\u001b[49m\u001b[38;5;241;43m.\u001b[39;49m\u001b[43mselect_one\u001b[49m\u001b[43m(\u001b[49m\u001b[38;5;124;43m'\u001b[39;49m\u001b[38;5;124;43mh1.scoreboard__title\u001b[39;49m\u001b[38;5;124;43m'\u001b[39;49m\u001b[43m)\u001b[49m\u001b[38;5;241;43m.\u001b[39;49m\u001b[43mtext\u001b[49m,\n\u001b[1;32m      5\u001b[0m           \u001b[38;5;124m'\u001b[39m\u001b[38;5;124mSynopsis\u001b[39m\u001b[38;5;124m'\u001b[39m: soup\u001b[38;5;241m.\u001b[39mselect_one(\u001b[38;5;124m'\u001b[39m\u001b[38;5;124m#movieSynopsis\u001b[39m\u001b[38;5;124m'\u001b[39m)\u001b[38;5;241m.\u001b[39mtext\u001b[38;5;241m.\u001b[39mstrip(),\n\u001b[1;32m      6\u001b[0m           \u001b[38;5;124m'\u001b[39m\u001b[38;5;124mCasts_and_crew\u001b[39m\u001b[38;5;124m'\u001b[39m: (\n\u001b[1;32m      7\u001b[0m               \u001b[38;5;124m'\u001b[39m\u001b[38;5;124m, \u001b[39m\u001b[38;5;124m'\u001b[39m\u001b[38;5;241m.\u001b[39mjoin([name\u001b[38;5;241m.\u001b[39mget_text()\u001b[38;5;241m.\u001b[39mstrip()\n\u001b[1;32m      8\u001b[0m                          \u001b[38;5;28;01mfor\u001b[39;00m name \u001b[38;5;129;01min\u001b[39;00m soup\u001b[38;5;241m.\u001b[39mselect(\n\u001b[1;32m      9\u001b[0m                              \u001b[38;5;124m\"\u001b[39m\u001b[38;5;124m#movie-cast > div > div > div > div.media-body > a > span\u001b[39m\u001b[38;5;124m\"\u001b[39m)]))}\n\u001b[1;32m     10\u001b[0m fields2 \u001b[38;5;241m=\u001b[39m [a\u001b[38;5;241m.\u001b[39mget_text()\u001b[38;5;241m.\u001b[39mreplace(\u001b[38;5;124m'\u001b[39m\u001b[38;5;130;01m\\n\u001b[39;00m\u001b[38;5;124m'\u001b[39m, \u001b[38;5;124m\"\u001b[39m\u001b[38;5;124m\"\u001b[39m)\u001b[38;5;241m.\u001b[39mreplace(\u001b[38;5;124m\"\u001b[39m\u001b[38;5;124m  \u001b[39m\u001b[38;5;124m\"\u001b[39m, \u001b[38;5;124m'\u001b[39m\u001b[38;5;124m'\u001b[39m)\u001b[38;5;241m.\u001b[39mstrip(\n\u001b[1;32m     11\u001b[0m )\u001b[38;5;241m.\u001b[39msplit(\u001b[38;5;124m'\u001b[39m\u001b[38;5;124m:\u001b[39m\u001b[38;5;124m'\u001b[39m) \u001b[38;5;28;01mfor\u001b[39;00m a \u001b[38;5;129;01min\u001b[39;00m soup\u001b[38;5;241m.\u001b[39mselect(\u001b[38;5;124m'\u001b[39m\u001b[38;5;124mli.meta-row\u001b[39m\u001b[38;5;124m'\u001b[39m)]\n\u001b[1;32m     12\u001b[0m fields2 \u001b[38;5;241m=\u001b[39m {x[\u001b[38;5;241m0\u001b[39m]: x[\u001b[38;5;241m1\u001b[39m] \u001b[38;5;28;01mfor\u001b[39;00m x \u001b[38;5;129;01min\u001b[39;00m fields2}\n",
      "\u001b[0;31mAttributeError\u001b[0m: 'NoneType' object has no attribute 'text'"
     ]
    }
   ],
   "source": [
    "# movie_links_cd5 = {A:N for (A,N) in [x for x in movie_links_cd4.items()][461:]}\n",
    "# df_movie_info_cd5 = df_movie_info_cd4.copy()\n",
    "\n",
    "# for movie, link in tqdm(movie_links_cd5.items()):\n",
    "#     cols = [col for col in get_movie_info(link).keys()]\n",
    "#     data = get_movie_info(link).values()\n",
    "#     df1 = (pd.DataFrame(data, cols).T)\n",
    "#     df_movie_info_cd5 = pd.concat([df_movie_info_cd5, df1], ignore_index=True)\n",
    "# display(df_movie_info_cd5)"
   ]
  },
  {
   "cell_type": "markdown",
   "id": "7c5c3b65",
   "metadata": {},
   "source": [
    "#### Append the 6th batch\n",
    "Append the 6th batch of movie info from the links in movie_links_cd:"
   ]
  },
  {
   "cell_type": "code",
   "execution_count": 210,
   "id": "908b42d7",
   "metadata": {
    "ExecuteTime": {
     "end_time": "2022-11-13T00:40:44.121352Z",
     "start_time": "2022-11-13T00:20:04.302100Z"
    }
   },
   "outputs": [
    {
     "name": "stderr",
     "output_type": "stream",
     "text": [
      " 13%|█▎        | 876/6743 [20:39<2:18:23,  1.42s/it] \n"
     ]
    },
    {
     "ename": "AttributeError",
     "evalue": "'NoneType' object has no attribute 'text'",
     "output_type": "error",
     "traceback": [
      "\u001b[0;31m---------------------------------------------------------------------------\u001b[0m",
      "\u001b[0;31mAttributeError\u001b[0m                            Traceback (most recent call last)",
      "Input \u001b[0;32mIn [210]\u001b[0m, in \u001b[0;36m<cell line: 4>\u001b[0;34m()\u001b[0m\n\u001b[1;32m      2\u001b[0m df_movie_info_cd6 \u001b[38;5;241m=\u001b[39m df_movie_info_cd5\u001b[38;5;241m.\u001b[39mcopy()\n\u001b[1;32m      4\u001b[0m \u001b[38;5;28;01mfor\u001b[39;00m movie, link \u001b[38;5;129;01min\u001b[39;00m tqdm(movie_links_cd6\u001b[38;5;241m.\u001b[39mitems()):\n\u001b[0;32m----> 5\u001b[0m     cols \u001b[38;5;241m=\u001b[39m [col \u001b[38;5;28;01mfor\u001b[39;00m col \u001b[38;5;129;01min\u001b[39;00m \u001b[43mget_movie_info\u001b[49m\u001b[43m(\u001b[49m\u001b[43mlink\u001b[49m\u001b[43m)\u001b[49m\u001b[38;5;241m.\u001b[39mkeys()]\n\u001b[1;32m      6\u001b[0m     data \u001b[38;5;241m=\u001b[39m get_movie_info(link)\u001b[38;5;241m.\u001b[39mvalues()\n\u001b[1;32m      7\u001b[0m     df1 \u001b[38;5;241m=\u001b[39m (pd\u001b[38;5;241m.\u001b[39mDataFrame(data, cols)\u001b[38;5;241m.\u001b[39mT)\n",
      "Input \u001b[0;32mIn [3]\u001b[0m, in \u001b[0;36mget_movie_info\u001b[0;34m(url_movie)\u001b[0m\n\u001b[1;32m      2\u001b[0m response \u001b[38;5;241m=\u001b[39m requests\u001b[38;5;241m.\u001b[39mget(url_movie, proxies\u001b[38;5;241m=\u001b[39mproxies)\n\u001b[1;32m      3\u001b[0m soup \u001b[38;5;241m=\u001b[39m BeautifulSoup(response\u001b[38;5;241m.\u001b[39mcontent)\n\u001b[0;32m----> 4\u001b[0m fields \u001b[38;5;241m=\u001b[39m {\u001b[38;5;124m'\u001b[39m\u001b[38;5;124mTitle\u001b[39m\u001b[38;5;124m'\u001b[39m: \u001b[43msoup\u001b[49m\u001b[38;5;241;43m.\u001b[39;49m\u001b[43mselect_one\u001b[49m\u001b[43m(\u001b[49m\u001b[38;5;124;43m'\u001b[39;49m\u001b[38;5;124;43mh1.scoreboard__title\u001b[39;49m\u001b[38;5;124;43m'\u001b[39;49m\u001b[43m)\u001b[49m\u001b[38;5;241;43m.\u001b[39;49m\u001b[43mtext\u001b[49m,\n\u001b[1;32m      5\u001b[0m           \u001b[38;5;124m'\u001b[39m\u001b[38;5;124mSynopsis\u001b[39m\u001b[38;5;124m'\u001b[39m: soup\u001b[38;5;241m.\u001b[39mselect_one(\u001b[38;5;124m'\u001b[39m\u001b[38;5;124m#movieSynopsis\u001b[39m\u001b[38;5;124m'\u001b[39m)\u001b[38;5;241m.\u001b[39mtext\u001b[38;5;241m.\u001b[39mstrip(),\n\u001b[1;32m      6\u001b[0m           \u001b[38;5;124m'\u001b[39m\u001b[38;5;124mCasts_and_crew\u001b[39m\u001b[38;5;124m'\u001b[39m: (\n\u001b[1;32m      7\u001b[0m               \u001b[38;5;124m'\u001b[39m\u001b[38;5;124m, \u001b[39m\u001b[38;5;124m'\u001b[39m\u001b[38;5;241m.\u001b[39mjoin([name\u001b[38;5;241m.\u001b[39mget_text()\u001b[38;5;241m.\u001b[39mstrip()\n\u001b[1;32m      8\u001b[0m                          \u001b[38;5;28;01mfor\u001b[39;00m name \u001b[38;5;129;01min\u001b[39;00m soup\u001b[38;5;241m.\u001b[39mselect(\n\u001b[1;32m      9\u001b[0m                              \u001b[38;5;124m\"\u001b[39m\u001b[38;5;124m#movie-cast > div > div > div > div.media-body > a > span\u001b[39m\u001b[38;5;124m\"\u001b[39m)]))}\n\u001b[1;32m     10\u001b[0m fields2 \u001b[38;5;241m=\u001b[39m [a\u001b[38;5;241m.\u001b[39mget_text()\u001b[38;5;241m.\u001b[39mreplace(\u001b[38;5;124m'\u001b[39m\u001b[38;5;130;01m\\n\u001b[39;00m\u001b[38;5;124m'\u001b[39m, \u001b[38;5;124m\"\u001b[39m\u001b[38;5;124m\"\u001b[39m)\u001b[38;5;241m.\u001b[39mreplace(\u001b[38;5;124m\"\u001b[39m\u001b[38;5;124m  \u001b[39m\u001b[38;5;124m\"\u001b[39m, \u001b[38;5;124m'\u001b[39m\u001b[38;5;124m'\u001b[39m)\u001b[38;5;241m.\u001b[39mstrip(\n\u001b[1;32m     11\u001b[0m )\u001b[38;5;241m.\u001b[39msplit(\u001b[38;5;124m'\u001b[39m\u001b[38;5;124m:\u001b[39m\u001b[38;5;124m'\u001b[39m) \u001b[38;5;28;01mfor\u001b[39;00m a \u001b[38;5;129;01min\u001b[39;00m soup\u001b[38;5;241m.\u001b[39mselect(\u001b[38;5;124m'\u001b[39m\u001b[38;5;124mli.meta-row\u001b[39m\u001b[38;5;124m'\u001b[39m)]\n\u001b[1;32m     12\u001b[0m fields2 \u001b[38;5;241m=\u001b[39m {x[\u001b[38;5;241m0\u001b[39m]: x[\u001b[38;5;241m1\u001b[39m] \u001b[38;5;28;01mfor\u001b[39;00m x \u001b[38;5;129;01min\u001b[39;00m fields2}\n",
      "\u001b[0;31mAttributeError\u001b[0m: 'NoneType' object has no attribute 'text'"
     ]
    }
   ],
   "source": [
    "# movie_links_cd6 = {A:N for (A,N) in [x for x in movie_links_cd5.items()][278:]}\n",
    "# df_movie_info_cd6 = df_movie_info_cd5.copy()\n",
    "\n",
    "# for movie, link in tqdm(movie_links_cd6.items()):\n",
    "#     cols = [col for col in get_movie_info(link).keys()]\n",
    "#     data = get_movie_info(link).values()\n",
    "#     df1 = (pd.DataFrame(data, cols).T)\n",
    "#     df_movie_info_cd6 = pd.concat([df_movie_info_cd6, df1], ignore_index=True)\n",
    "# display(df_movie_info_cd6)"
   ]
  },
  {
   "cell_type": "markdown",
   "id": "9af22239",
   "metadata": {},
   "source": [
    "#### Append the 7th batch\n",
    "Append the 7th batch of movie info from the links in movie_links_cd:"
   ]
  },
  {
   "cell_type": "code",
   "execution_count": 214,
   "id": "ae3294a6",
   "metadata": {
    "ExecuteTime": {
     "end_time": "2022-11-13T00:49:24.105235Z",
     "start_time": "2022-11-13T00:44:26.161284Z"
    }
   },
   "outputs": [
    {
     "name": "stderr",
     "output_type": "stream",
     "text": [
      "  4%|▎         | 220/5867 [04:57<2:07:26,  1.35s/it]\n"
     ]
    },
    {
     "ename": "AttributeError",
     "evalue": "'NoneType' object has no attribute 'text'",
     "output_type": "error",
     "traceback": [
      "\u001b[0;31m---------------------------------------------------------------------------\u001b[0m",
      "\u001b[0;31mAttributeError\u001b[0m                            Traceback (most recent call last)",
      "Input \u001b[0;32mIn [214]\u001b[0m, in \u001b[0;36m<cell line: 4>\u001b[0;34m()\u001b[0m\n\u001b[1;32m      2\u001b[0m df_movie_info_cd7 \u001b[38;5;241m=\u001b[39m df_movie_info_cd6\u001b[38;5;241m.\u001b[39mcopy()\n\u001b[1;32m      4\u001b[0m \u001b[38;5;28;01mfor\u001b[39;00m movie, link \u001b[38;5;129;01min\u001b[39;00m tqdm(movie_links_cd7\u001b[38;5;241m.\u001b[39mitems()):\n\u001b[0;32m----> 5\u001b[0m     cols \u001b[38;5;241m=\u001b[39m [col \u001b[38;5;28;01mfor\u001b[39;00m col \u001b[38;5;129;01min\u001b[39;00m \u001b[43mget_movie_info\u001b[49m\u001b[43m(\u001b[49m\u001b[43mlink\u001b[49m\u001b[43m)\u001b[49m\u001b[38;5;241m.\u001b[39mkeys()]\n\u001b[1;32m      6\u001b[0m     data \u001b[38;5;241m=\u001b[39m get_movie_info(link)\u001b[38;5;241m.\u001b[39mvalues()\n\u001b[1;32m      7\u001b[0m     df1 \u001b[38;5;241m=\u001b[39m (pd\u001b[38;5;241m.\u001b[39mDataFrame(data, cols)\u001b[38;5;241m.\u001b[39mT)\n",
      "Input \u001b[0;32mIn [3]\u001b[0m, in \u001b[0;36mget_movie_info\u001b[0;34m(url_movie)\u001b[0m\n\u001b[1;32m      2\u001b[0m response \u001b[38;5;241m=\u001b[39m requests\u001b[38;5;241m.\u001b[39mget(url_movie, proxies\u001b[38;5;241m=\u001b[39mproxies)\n\u001b[1;32m      3\u001b[0m soup \u001b[38;5;241m=\u001b[39m BeautifulSoup(response\u001b[38;5;241m.\u001b[39mcontent)\n\u001b[0;32m----> 4\u001b[0m fields \u001b[38;5;241m=\u001b[39m {\u001b[38;5;124m'\u001b[39m\u001b[38;5;124mTitle\u001b[39m\u001b[38;5;124m'\u001b[39m: \u001b[43msoup\u001b[49m\u001b[38;5;241;43m.\u001b[39;49m\u001b[43mselect_one\u001b[49m\u001b[43m(\u001b[49m\u001b[38;5;124;43m'\u001b[39;49m\u001b[38;5;124;43mh1.scoreboard__title\u001b[39;49m\u001b[38;5;124;43m'\u001b[39;49m\u001b[43m)\u001b[49m\u001b[38;5;241;43m.\u001b[39;49m\u001b[43mtext\u001b[49m,\n\u001b[1;32m      5\u001b[0m           \u001b[38;5;124m'\u001b[39m\u001b[38;5;124mSynopsis\u001b[39m\u001b[38;5;124m'\u001b[39m: soup\u001b[38;5;241m.\u001b[39mselect_one(\u001b[38;5;124m'\u001b[39m\u001b[38;5;124m#movieSynopsis\u001b[39m\u001b[38;5;124m'\u001b[39m)\u001b[38;5;241m.\u001b[39mtext\u001b[38;5;241m.\u001b[39mstrip(),\n\u001b[1;32m      6\u001b[0m           \u001b[38;5;124m'\u001b[39m\u001b[38;5;124mCasts_and_crew\u001b[39m\u001b[38;5;124m'\u001b[39m: (\n\u001b[1;32m      7\u001b[0m               \u001b[38;5;124m'\u001b[39m\u001b[38;5;124m, \u001b[39m\u001b[38;5;124m'\u001b[39m\u001b[38;5;241m.\u001b[39mjoin([name\u001b[38;5;241m.\u001b[39mget_text()\u001b[38;5;241m.\u001b[39mstrip()\n\u001b[1;32m      8\u001b[0m                          \u001b[38;5;28;01mfor\u001b[39;00m name \u001b[38;5;129;01min\u001b[39;00m soup\u001b[38;5;241m.\u001b[39mselect(\n\u001b[1;32m      9\u001b[0m                              \u001b[38;5;124m\"\u001b[39m\u001b[38;5;124m#movie-cast > div > div > div > div.media-body > a > span\u001b[39m\u001b[38;5;124m\"\u001b[39m)]))}\n\u001b[1;32m     10\u001b[0m fields2 \u001b[38;5;241m=\u001b[39m [a\u001b[38;5;241m.\u001b[39mget_text()\u001b[38;5;241m.\u001b[39mreplace(\u001b[38;5;124m'\u001b[39m\u001b[38;5;130;01m\\n\u001b[39;00m\u001b[38;5;124m'\u001b[39m, \u001b[38;5;124m\"\u001b[39m\u001b[38;5;124m\"\u001b[39m)\u001b[38;5;241m.\u001b[39mreplace(\u001b[38;5;124m\"\u001b[39m\u001b[38;5;124m  \u001b[39m\u001b[38;5;124m\"\u001b[39m, \u001b[38;5;124m'\u001b[39m\u001b[38;5;124m'\u001b[39m)\u001b[38;5;241m.\u001b[39mstrip(\n\u001b[1;32m     11\u001b[0m )\u001b[38;5;241m.\u001b[39msplit(\u001b[38;5;124m'\u001b[39m\u001b[38;5;124m:\u001b[39m\u001b[38;5;124m'\u001b[39m) \u001b[38;5;28;01mfor\u001b[39;00m a \u001b[38;5;129;01min\u001b[39;00m soup\u001b[38;5;241m.\u001b[39mselect(\u001b[38;5;124m'\u001b[39m\u001b[38;5;124mli.meta-row\u001b[39m\u001b[38;5;124m'\u001b[39m)]\n\u001b[1;32m     12\u001b[0m fields2 \u001b[38;5;241m=\u001b[39m {x[\u001b[38;5;241m0\u001b[39m]: x[\u001b[38;5;241m1\u001b[39m] \u001b[38;5;28;01mfor\u001b[39;00m x \u001b[38;5;129;01min\u001b[39;00m fields2}\n",
      "\u001b[0;31mAttributeError\u001b[0m: 'NoneType' object has no attribute 'text'"
     ]
    }
   ],
   "source": [
    "# movie_links_cd7 = {A:N for (A,N) in [x for x in movie_links_cd6.items()][876:]}\n",
    "# df_movie_info_cd7 = df_movie_info_cd6.copy()\n",
    "\n",
    "# for movie, link in tqdm(movie_links_cd7.items()):\n",
    "#     cols = [col for col in get_movie_info(link).keys()]\n",
    "#     data = get_movie_info(link).values()\n",
    "#     df1 = (pd.DataFrame(data, cols).T)\n",
    "#     df_movie_info_cd7 = pd.concat([df_movie_info_cd7, df1], ignore_index=True)\n",
    "# display(df_movie_info_cd7)"
   ]
  },
  {
   "cell_type": "markdown",
   "id": "335ab04f",
   "metadata": {},
   "source": [
    "#### Append the 8th batch\n",
    "Append the 8th batch of movie info from the links in movie_links_cd:"
   ]
  },
  {
   "cell_type": "code",
   "execution_count": 220,
   "id": "f6522d3e",
   "metadata": {
    "ExecuteTime": {
     "end_time": "2022-11-13T01:15:51.575189Z",
     "start_time": "2022-11-13T01:00:04.072841Z"
    }
   },
   "outputs": [
    {
     "name": "stderr",
     "output_type": "stream",
     "text": [
      " 12%|█▏        | 691/5647 [15:47<1:53:15,  1.37s/it]\n"
     ]
    },
    {
     "ename": "AttributeError",
     "evalue": "'NoneType' object has no attribute 'text'",
     "output_type": "error",
     "traceback": [
      "\u001b[0;31m---------------------------------------------------------------------------\u001b[0m",
      "\u001b[0;31mAttributeError\u001b[0m                            Traceback (most recent call last)",
      "Input \u001b[0;32mIn [220]\u001b[0m, in \u001b[0;36m<cell line: 4>\u001b[0;34m()\u001b[0m\n\u001b[1;32m      2\u001b[0m df_movie_info_cd8 \u001b[38;5;241m=\u001b[39m df_movie_info_cd7\u001b[38;5;241m.\u001b[39mcopy()\n\u001b[1;32m      4\u001b[0m \u001b[38;5;28;01mfor\u001b[39;00m movie, link \u001b[38;5;129;01min\u001b[39;00m tqdm(movie_links_cd8\u001b[38;5;241m.\u001b[39mitems()):\n\u001b[0;32m----> 5\u001b[0m     cols \u001b[38;5;241m=\u001b[39m [col \u001b[38;5;28;01mfor\u001b[39;00m col \u001b[38;5;129;01min\u001b[39;00m \u001b[43mget_movie_info\u001b[49m\u001b[43m(\u001b[49m\u001b[43mlink\u001b[49m\u001b[43m)\u001b[49m\u001b[38;5;241m.\u001b[39mkeys()]\n\u001b[1;32m      6\u001b[0m     data \u001b[38;5;241m=\u001b[39m get_movie_info(link)\u001b[38;5;241m.\u001b[39mvalues()\n\u001b[1;32m      7\u001b[0m     df1 \u001b[38;5;241m=\u001b[39m (pd\u001b[38;5;241m.\u001b[39mDataFrame(data, cols)\u001b[38;5;241m.\u001b[39mT)\n",
      "Input \u001b[0;32mIn [3]\u001b[0m, in \u001b[0;36mget_movie_info\u001b[0;34m(url_movie)\u001b[0m\n\u001b[1;32m      2\u001b[0m response \u001b[38;5;241m=\u001b[39m requests\u001b[38;5;241m.\u001b[39mget(url_movie, proxies\u001b[38;5;241m=\u001b[39mproxies)\n\u001b[1;32m      3\u001b[0m soup \u001b[38;5;241m=\u001b[39m BeautifulSoup(response\u001b[38;5;241m.\u001b[39mcontent)\n\u001b[0;32m----> 4\u001b[0m fields \u001b[38;5;241m=\u001b[39m {\u001b[38;5;124m'\u001b[39m\u001b[38;5;124mTitle\u001b[39m\u001b[38;5;124m'\u001b[39m: \u001b[43msoup\u001b[49m\u001b[38;5;241;43m.\u001b[39;49m\u001b[43mselect_one\u001b[49m\u001b[43m(\u001b[49m\u001b[38;5;124;43m'\u001b[39;49m\u001b[38;5;124;43mh1.scoreboard__title\u001b[39;49m\u001b[38;5;124;43m'\u001b[39;49m\u001b[43m)\u001b[49m\u001b[38;5;241;43m.\u001b[39;49m\u001b[43mtext\u001b[49m,\n\u001b[1;32m      5\u001b[0m           \u001b[38;5;124m'\u001b[39m\u001b[38;5;124mSynopsis\u001b[39m\u001b[38;5;124m'\u001b[39m: soup\u001b[38;5;241m.\u001b[39mselect_one(\u001b[38;5;124m'\u001b[39m\u001b[38;5;124m#movieSynopsis\u001b[39m\u001b[38;5;124m'\u001b[39m)\u001b[38;5;241m.\u001b[39mtext\u001b[38;5;241m.\u001b[39mstrip(),\n\u001b[1;32m      6\u001b[0m           \u001b[38;5;124m'\u001b[39m\u001b[38;5;124mCasts_and_crew\u001b[39m\u001b[38;5;124m'\u001b[39m: (\n\u001b[1;32m      7\u001b[0m               \u001b[38;5;124m'\u001b[39m\u001b[38;5;124m, \u001b[39m\u001b[38;5;124m'\u001b[39m\u001b[38;5;241m.\u001b[39mjoin([name\u001b[38;5;241m.\u001b[39mget_text()\u001b[38;5;241m.\u001b[39mstrip()\n\u001b[1;32m      8\u001b[0m                          \u001b[38;5;28;01mfor\u001b[39;00m name \u001b[38;5;129;01min\u001b[39;00m soup\u001b[38;5;241m.\u001b[39mselect(\n\u001b[1;32m      9\u001b[0m                              \u001b[38;5;124m\"\u001b[39m\u001b[38;5;124m#movie-cast > div > div > div > div.media-body > a > span\u001b[39m\u001b[38;5;124m\"\u001b[39m)]))}\n\u001b[1;32m     10\u001b[0m fields2 \u001b[38;5;241m=\u001b[39m [a\u001b[38;5;241m.\u001b[39mget_text()\u001b[38;5;241m.\u001b[39mreplace(\u001b[38;5;124m'\u001b[39m\u001b[38;5;130;01m\\n\u001b[39;00m\u001b[38;5;124m'\u001b[39m, \u001b[38;5;124m\"\u001b[39m\u001b[38;5;124m\"\u001b[39m)\u001b[38;5;241m.\u001b[39mreplace(\u001b[38;5;124m\"\u001b[39m\u001b[38;5;124m  \u001b[39m\u001b[38;5;124m\"\u001b[39m, \u001b[38;5;124m'\u001b[39m\u001b[38;5;124m'\u001b[39m)\u001b[38;5;241m.\u001b[39mstrip(\n\u001b[1;32m     11\u001b[0m )\u001b[38;5;241m.\u001b[39msplit(\u001b[38;5;124m'\u001b[39m\u001b[38;5;124m:\u001b[39m\u001b[38;5;124m'\u001b[39m) \u001b[38;5;28;01mfor\u001b[39;00m a \u001b[38;5;129;01min\u001b[39;00m soup\u001b[38;5;241m.\u001b[39mselect(\u001b[38;5;124m'\u001b[39m\u001b[38;5;124mli.meta-row\u001b[39m\u001b[38;5;124m'\u001b[39m)]\n\u001b[1;32m     12\u001b[0m fields2 \u001b[38;5;241m=\u001b[39m {x[\u001b[38;5;241m0\u001b[39m]: x[\u001b[38;5;241m1\u001b[39m] \u001b[38;5;28;01mfor\u001b[39;00m x \u001b[38;5;129;01min\u001b[39;00m fields2}\n",
      "\u001b[0;31mAttributeError\u001b[0m: 'NoneType' object has no attribute 'text'"
     ]
    }
   ],
   "source": [
    "# movie_links_cd8 = {A:N for (A,N) in [x for x in movie_links_cd7.items()][220:]}\n",
    "# df_movie_info_cd8 = df_movie_info_cd7.copy()\n",
    "\n",
    "# for movie, link in tqdm(movie_links_cd8.items()):\n",
    "#     cols = [col for col in get_movie_info(link).keys()]\n",
    "#     data = get_movie_info(link).values()\n",
    "#     df1 = (pd.DataFrame(data, cols).T)\n",
    "#     df_movie_info_cd8 = pd.concat([df_movie_info_cd8, df1], ignore_index=True)\n",
    "# display(df_movie_info_cd8)"
   ]
  },
  {
   "cell_type": "markdown",
   "id": "5462f6b7",
   "metadata": {},
   "source": [
    "#### Append the 9th batch\n",
    "Append the 9th batch of movie info from the links in movie_links_cd:"
   ]
  },
  {
   "cell_type": "code",
   "execution_count": 224,
   "id": "0865a7ae",
   "metadata": {
    "ExecuteTime": {
     "end_time": "2022-11-13T01:26:13.800621Z",
     "start_time": "2022-11-13T01:17:38.337463Z"
    }
   },
   "outputs": [
    {
     "name": "stderr",
     "output_type": "stream",
     "text": [
      "  6%|▋         | 316/4956 [08:35<2:06:07,  1.63s/it] \n"
     ]
    },
    {
     "ename": "InvalidURL",
     "evalue": "Invalid URL 'https:': No host supplied",
     "output_type": "error",
     "traceback": [
      "\u001b[0;31m---------------------------------------------------------------------------\u001b[0m",
      "\u001b[0;31mInvalidURL\u001b[0m                                Traceback (most recent call last)",
      "Input \u001b[0;32mIn [224]\u001b[0m, in \u001b[0;36m<cell line: 4>\u001b[0;34m()\u001b[0m\n\u001b[1;32m      2\u001b[0m df_movie_info_cd9 \u001b[38;5;241m=\u001b[39m df_movie_info_cd8\u001b[38;5;241m.\u001b[39mcopy()\n\u001b[1;32m      4\u001b[0m \u001b[38;5;28;01mfor\u001b[39;00m movie, link \u001b[38;5;129;01min\u001b[39;00m tqdm(movie_links_cd9\u001b[38;5;241m.\u001b[39mitems()):\n\u001b[0;32m----> 5\u001b[0m     cols \u001b[38;5;241m=\u001b[39m [col \u001b[38;5;28;01mfor\u001b[39;00m col \u001b[38;5;129;01min\u001b[39;00m \u001b[43mget_movie_info\u001b[49m\u001b[43m(\u001b[49m\u001b[43mlink\u001b[49m\u001b[43m)\u001b[49m\u001b[38;5;241m.\u001b[39mkeys()]\n\u001b[1;32m      6\u001b[0m     data \u001b[38;5;241m=\u001b[39m get_movie_info(link)\u001b[38;5;241m.\u001b[39mvalues()\n\u001b[1;32m      7\u001b[0m     df1 \u001b[38;5;241m=\u001b[39m (pd\u001b[38;5;241m.\u001b[39mDataFrame(data, cols)\u001b[38;5;241m.\u001b[39mT)\n",
      "Input \u001b[0;32mIn [3]\u001b[0m, in \u001b[0;36mget_movie_info\u001b[0;34m(url_movie)\u001b[0m\n\u001b[1;32m      1\u001b[0m \u001b[38;5;28;01mdef\u001b[39;00m \u001b[38;5;21mget_movie_info\u001b[39m(url_movie):\n\u001b[0;32m----> 2\u001b[0m     response \u001b[38;5;241m=\u001b[39m \u001b[43mrequests\u001b[49m\u001b[38;5;241;43m.\u001b[39;49m\u001b[43mget\u001b[49m\u001b[43m(\u001b[49m\u001b[43murl_movie\u001b[49m\u001b[43m,\u001b[49m\u001b[43m \u001b[49m\u001b[43mproxies\u001b[49m\u001b[38;5;241;43m=\u001b[39;49m\u001b[43mproxies\u001b[49m\u001b[43m)\u001b[49m\n\u001b[1;32m      3\u001b[0m     soup \u001b[38;5;241m=\u001b[39m BeautifulSoup(response\u001b[38;5;241m.\u001b[39mcontent)\n\u001b[1;32m      4\u001b[0m     fields \u001b[38;5;241m=\u001b[39m {\u001b[38;5;124m'\u001b[39m\u001b[38;5;124mTitle\u001b[39m\u001b[38;5;124m'\u001b[39m: soup\u001b[38;5;241m.\u001b[39mselect_one(\u001b[38;5;124m'\u001b[39m\u001b[38;5;124mh1.scoreboard__title\u001b[39m\u001b[38;5;124m'\u001b[39m)\u001b[38;5;241m.\u001b[39mtext,\n\u001b[1;32m      5\u001b[0m               \u001b[38;5;124m'\u001b[39m\u001b[38;5;124mSynopsis\u001b[39m\u001b[38;5;124m'\u001b[39m: soup\u001b[38;5;241m.\u001b[39mselect_one(\u001b[38;5;124m'\u001b[39m\u001b[38;5;124m#movieSynopsis\u001b[39m\u001b[38;5;124m'\u001b[39m)\u001b[38;5;241m.\u001b[39mtext\u001b[38;5;241m.\u001b[39mstrip(),\n\u001b[1;32m      6\u001b[0m               \u001b[38;5;124m'\u001b[39m\u001b[38;5;124mCasts_and_crew\u001b[39m\u001b[38;5;124m'\u001b[39m: (\n\u001b[1;32m      7\u001b[0m                   \u001b[38;5;124m'\u001b[39m\u001b[38;5;124m, \u001b[39m\u001b[38;5;124m'\u001b[39m\u001b[38;5;241m.\u001b[39mjoin([name\u001b[38;5;241m.\u001b[39mget_text()\u001b[38;5;241m.\u001b[39mstrip()\n\u001b[1;32m      8\u001b[0m                              \u001b[38;5;28;01mfor\u001b[39;00m name \u001b[38;5;129;01min\u001b[39;00m soup\u001b[38;5;241m.\u001b[39mselect(\n\u001b[1;32m      9\u001b[0m                                  \u001b[38;5;124m\"\u001b[39m\u001b[38;5;124m#movie-cast > div > div > div > div.media-body > a > span\u001b[39m\u001b[38;5;124m\"\u001b[39m)]))}\n",
      "File \u001b[0;32m/opt/conda/lib/python3.9/site-packages/requests/api.py:73\u001b[0m, in \u001b[0;36mget\u001b[0;34m(url, params, **kwargs)\u001b[0m\n\u001b[1;32m     62\u001b[0m \u001b[38;5;28;01mdef\u001b[39;00m \u001b[38;5;21mget\u001b[39m(url, params\u001b[38;5;241m=\u001b[39m\u001b[38;5;28;01mNone\u001b[39;00m, \u001b[38;5;241m*\u001b[39m\u001b[38;5;241m*\u001b[39mkwargs):\n\u001b[1;32m     63\u001b[0m     \u001b[38;5;124mr\u001b[39m\u001b[38;5;124;03m\"\"\"Sends a GET request.\u001b[39;00m\n\u001b[1;32m     64\u001b[0m \n\u001b[1;32m     65\u001b[0m \u001b[38;5;124;03m    :param url: URL for the new :class:`Request` object.\u001b[39;00m\n\u001b[0;32m   (...)\u001b[0m\n\u001b[1;32m     70\u001b[0m \u001b[38;5;124;03m    :rtype: requests.Response\u001b[39;00m\n\u001b[1;32m     71\u001b[0m \u001b[38;5;124;03m    \"\"\"\u001b[39;00m\n\u001b[0;32m---> 73\u001b[0m     \u001b[38;5;28;01mreturn\u001b[39;00m \u001b[43mrequest\u001b[49m\u001b[43m(\u001b[49m\u001b[38;5;124;43m\"\u001b[39;49m\u001b[38;5;124;43mget\u001b[39;49m\u001b[38;5;124;43m\"\u001b[39;49m\u001b[43m,\u001b[49m\u001b[43m \u001b[49m\u001b[43murl\u001b[49m\u001b[43m,\u001b[49m\u001b[43m \u001b[49m\u001b[43mparams\u001b[49m\u001b[38;5;241;43m=\u001b[39;49m\u001b[43mparams\u001b[49m\u001b[43m,\u001b[49m\u001b[43m \u001b[49m\u001b[38;5;241;43m*\u001b[39;49m\u001b[38;5;241;43m*\u001b[39;49m\u001b[43mkwargs\u001b[49m\u001b[43m)\u001b[49m\n",
      "File \u001b[0;32m/opt/conda/lib/python3.9/site-packages/requests/api.py:59\u001b[0m, in \u001b[0;36mrequest\u001b[0;34m(method, url, **kwargs)\u001b[0m\n\u001b[1;32m     55\u001b[0m \u001b[38;5;66;03m# By using the 'with' statement we are sure the session is closed, thus we\u001b[39;00m\n\u001b[1;32m     56\u001b[0m \u001b[38;5;66;03m# avoid leaving sockets open which can trigger a ResourceWarning in some\u001b[39;00m\n\u001b[1;32m     57\u001b[0m \u001b[38;5;66;03m# cases, and look like a memory leak in others.\u001b[39;00m\n\u001b[1;32m     58\u001b[0m \u001b[38;5;28;01mwith\u001b[39;00m sessions\u001b[38;5;241m.\u001b[39mSession() \u001b[38;5;28;01mas\u001b[39;00m session:\n\u001b[0;32m---> 59\u001b[0m     \u001b[38;5;28;01mreturn\u001b[39;00m \u001b[43msession\u001b[49m\u001b[38;5;241;43m.\u001b[39;49m\u001b[43mrequest\u001b[49m\u001b[43m(\u001b[49m\u001b[43mmethod\u001b[49m\u001b[38;5;241;43m=\u001b[39;49m\u001b[43mmethod\u001b[49m\u001b[43m,\u001b[49m\u001b[43m \u001b[49m\u001b[43murl\u001b[49m\u001b[38;5;241;43m=\u001b[39;49m\u001b[43murl\u001b[49m\u001b[43m,\u001b[49m\u001b[43m \u001b[49m\u001b[38;5;241;43m*\u001b[39;49m\u001b[38;5;241;43m*\u001b[39;49m\u001b[43mkwargs\u001b[49m\u001b[43m)\u001b[49m\n",
      "File \u001b[0;32m/opt/conda/lib/python3.9/site-packages/requests/sessions.py:573\u001b[0m, in \u001b[0;36mSession.request\u001b[0;34m(self, method, url, params, data, headers, cookies, files, auth, timeout, allow_redirects, proxies, hooks, stream, verify, cert, json)\u001b[0m\n\u001b[1;32m    560\u001b[0m \u001b[38;5;66;03m# Create the Request.\u001b[39;00m\n\u001b[1;32m    561\u001b[0m req \u001b[38;5;241m=\u001b[39m Request(\n\u001b[1;32m    562\u001b[0m     method\u001b[38;5;241m=\u001b[39mmethod\u001b[38;5;241m.\u001b[39mupper(),\n\u001b[1;32m    563\u001b[0m     url\u001b[38;5;241m=\u001b[39murl,\n\u001b[0;32m   (...)\u001b[0m\n\u001b[1;32m    571\u001b[0m     hooks\u001b[38;5;241m=\u001b[39mhooks,\n\u001b[1;32m    572\u001b[0m )\n\u001b[0;32m--> 573\u001b[0m prep \u001b[38;5;241m=\u001b[39m \u001b[38;5;28;43mself\u001b[39;49m\u001b[38;5;241;43m.\u001b[39;49m\u001b[43mprepare_request\u001b[49m\u001b[43m(\u001b[49m\u001b[43mreq\u001b[49m\u001b[43m)\u001b[49m\n\u001b[1;32m    575\u001b[0m proxies \u001b[38;5;241m=\u001b[39m proxies \u001b[38;5;129;01mor\u001b[39;00m {}\n\u001b[1;32m    577\u001b[0m settings \u001b[38;5;241m=\u001b[39m \u001b[38;5;28mself\u001b[39m\u001b[38;5;241m.\u001b[39mmerge_environment_settings(\n\u001b[1;32m    578\u001b[0m     prep\u001b[38;5;241m.\u001b[39murl, proxies, stream, verify, cert\n\u001b[1;32m    579\u001b[0m )\n",
      "File \u001b[0;32m/opt/conda/lib/python3.9/site-packages/requests/sessions.py:484\u001b[0m, in \u001b[0;36mSession.prepare_request\u001b[0;34m(self, request)\u001b[0m\n\u001b[1;32m    481\u001b[0m     auth \u001b[38;5;241m=\u001b[39m get_netrc_auth(request\u001b[38;5;241m.\u001b[39murl)\n\u001b[1;32m    483\u001b[0m p \u001b[38;5;241m=\u001b[39m PreparedRequest()\n\u001b[0;32m--> 484\u001b[0m \u001b[43mp\u001b[49m\u001b[38;5;241;43m.\u001b[39;49m\u001b[43mprepare\u001b[49m\u001b[43m(\u001b[49m\n\u001b[1;32m    485\u001b[0m \u001b[43m    \u001b[49m\u001b[43mmethod\u001b[49m\u001b[38;5;241;43m=\u001b[39;49m\u001b[43mrequest\u001b[49m\u001b[38;5;241;43m.\u001b[39;49m\u001b[43mmethod\u001b[49m\u001b[38;5;241;43m.\u001b[39;49m\u001b[43mupper\u001b[49m\u001b[43m(\u001b[49m\u001b[43m)\u001b[49m\u001b[43m,\u001b[49m\n\u001b[1;32m    486\u001b[0m \u001b[43m    \u001b[49m\u001b[43murl\u001b[49m\u001b[38;5;241;43m=\u001b[39;49m\u001b[43mrequest\u001b[49m\u001b[38;5;241;43m.\u001b[39;49m\u001b[43murl\u001b[49m\u001b[43m,\u001b[49m\n\u001b[1;32m    487\u001b[0m \u001b[43m    \u001b[49m\u001b[43mfiles\u001b[49m\u001b[38;5;241;43m=\u001b[39;49m\u001b[43mrequest\u001b[49m\u001b[38;5;241;43m.\u001b[39;49m\u001b[43mfiles\u001b[49m\u001b[43m,\u001b[49m\n\u001b[1;32m    488\u001b[0m \u001b[43m    \u001b[49m\u001b[43mdata\u001b[49m\u001b[38;5;241;43m=\u001b[39;49m\u001b[43mrequest\u001b[49m\u001b[38;5;241;43m.\u001b[39;49m\u001b[43mdata\u001b[49m\u001b[43m,\u001b[49m\n\u001b[1;32m    489\u001b[0m \u001b[43m    \u001b[49m\u001b[43mjson\u001b[49m\u001b[38;5;241;43m=\u001b[39;49m\u001b[43mrequest\u001b[49m\u001b[38;5;241;43m.\u001b[39;49m\u001b[43mjson\u001b[49m\u001b[43m,\u001b[49m\n\u001b[1;32m    490\u001b[0m \u001b[43m    \u001b[49m\u001b[43mheaders\u001b[49m\u001b[38;5;241;43m=\u001b[39;49m\u001b[43mmerge_setting\u001b[49m\u001b[43m(\u001b[49m\n\u001b[1;32m    491\u001b[0m \u001b[43m        \u001b[49m\u001b[43mrequest\u001b[49m\u001b[38;5;241;43m.\u001b[39;49m\u001b[43mheaders\u001b[49m\u001b[43m,\u001b[49m\u001b[43m \u001b[49m\u001b[38;5;28;43mself\u001b[39;49m\u001b[38;5;241;43m.\u001b[39;49m\u001b[43mheaders\u001b[49m\u001b[43m,\u001b[49m\u001b[43m \u001b[49m\u001b[43mdict_class\u001b[49m\u001b[38;5;241;43m=\u001b[39;49m\u001b[43mCaseInsensitiveDict\u001b[49m\n\u001b[1;32m    492\u001b[0m \u001b[43m    \u001b[49m\u001b[43m)\u001b[49m\u001b[43m,\u001b[49m\n\u001b[1;32m    493\u001b[0m \u001b[43m    \u001b[49m\u001b[43mparams\u001b[49m\u001b[38;5;241;43m=\u001b[39;49m\u001b[43mmerge_setting\u001b[49m\u001b[43m(\u001b[49m\u001b[43mrequest\u001b[49m\u001b[38;5;241;43m.\u001b[39;49m\u001b[43mparams\u001b[49m\u001b[43m,\u001b[49m\u001b[43m \u001b[49m\u001b[38;5;28;43mself\u001b[39;49m\u001b[38;5;241;43m.\u001b[39;49m\u001b[43mparams\u001b[49m\u001b[43m)\u001b[49m\u001b[43m,\u001b[49m\n\u001b[1;32m    494\u001b[0m \u001b[43m    \u001b[49m\u001b[43mauth\u001b[49m\u001b[38;5;241;43m=\u001b[39;49m\u001b[43mmerge_setting\u001b[49m\u001b[43m(\u001b[49m\u001b[43mauth\u001b[49m\u001b[43m,\u001b[49m\u001b[43m \u001b[49m\u001b[38;5;28;43mself\u001b[39;49m\u001b[38;5;241;43m.\u001b[39;49m\u001b[43mauth\u001b[49m\u001b[43m)\u001b[49m\u001b[43m,\u001b[49m\n\u001b[1;32m    495\u001b[0m \u001b[43m    \u001b[49m\u001b[43mcookies\u001b[49m\u001b[38;5;241;43m=\u001b[39;49m\u001b[43mmerged_cookies\u001b[49m\u001b[43m,\u001b[49m\n\u001b[1;32m    496\u001b[0m \u001b[43m    \u001b[49m\u001b[43mhooks\u001b[49m\u001b[38;5;241;43m=\u001b[39;49m\u001b[43mmerge_hooks\u001b[49m\u001b[43m(\u001b[49m\u001b[43mrequest\u001b[49m\u001b[38;5;241;43m.\u001b[39;49m\u001b[43mhooks\u001b[49m\u001b[43m,\u001b[49m\u001b[43m \u001b[49m\u001b[38;5;28;43mself\u001b[39;49m\u001b[38;5;241;43m.\u001b[39;49m\u001b[43mhooks\u001b[49m\u001b[43m)\u001b[49m\u001b[43m,\u001b[49m\n\u001b[1;32m    497\u001b[0m \u001b[43m\u001b[49m\u001b[43m)\u001b[49m\n\u001b[1;32m    498\u001b[0m \u001b[38;5;28;01mreturn\u001b[39;00m p\n",
      "File \u001b[0;32m/opt/conda/lib/python3.9/site-packages/requests/models.py:368\u001b[0m, in \u001b[0;36mPreparedRequest.prepare\u001b[0;34m(self, method, url, headers, files, data, params, auth, cookies, hooks, json)\u001b[0m\n\u001b[1;32m    365\u001b[0m \u001b[38;5;124;03m\"\"\"Prepares the entire request with the given parameters.\"\"\"\u001b[39;00m\n\u001b[1;32m    367\u001b[0m \u001b[38;5;28mself\u001b[39m\u001b[38;5;241m.\u001b[39mprepare_method(method)\n\u001b[0;32m--> 368\u001b[0m \u001b[38;5;28;43mself\u001b[39;49m\u001b[38;5;241;43m.\u001b[39;49m\u001b[43mprepare_url\u001b[49m\u001b[43m(\u001b[49m\u001b[43murl\u001b[49m\u001b[43m,\u001b[49m\u001b[43m \u001b[49m\u001b[43mparams\u001b[49m\u001b[43m)\u001b[49m\n\u001b[1;32m    369\u001b[0m \u001b[38;5;28mself\u001b[39m\u001b[38;5;241m.\u001b[39mprepare_headers(headers)\n\u001b[1;32m    370\u001b[0m \u001b[38;5;28mself\u001b[39m\u001b[38;5;241m.\u001b[39mprepare_cookies(cookies)\n",
      "File \u001b[0;32m/opt/conda/lib/python3.9/site-packages/requests/models.py:445\u001b[0m, in \u001b[0;36mPreparedRequest.prepare_url\u001b[0;34m(self, url, params)\u001b[0m\n\u001b[1;32m    439\u001b[0m     \u001b[38;5;28;01mraise\u001b[39;00m MissingSchema(\n\u001b[1;32m    440\u001b[0m         \u001b[38;5;124mf\u001b[39m\u001b[38;5;124m\"\u001b[39m\u001b[38;5;124mInvalid URL \u001b[39m\u001b[38;5;132;01m{\u001b[39;00murl\u001b[38;5;132;01m!r}\u001b[39;00m\u001b[38;5;124m: No scheme supplied. \u001b[39m\u001b[38;5;124m\"\u001b[39m\n\u001b[1;32m    441\u001b[0m         \u001b[38;5;124mf\u001b[39m\u001b[38;5;124m\"\u001b[39m\u001b[38;5;124mPerhaps you meant http://\u001b[39m\u001b[38;5;132;01m{\u001b[39;00murl\u001b[38;5;132;01m}\u001b[39;00m\u001b[38;5;124m?\u001b[39m\u001b[38;5;124m\"\u001b[39m\n\u001b[1;32m    442\u001b[0m     )\n\u001b[1;32m    444\u001b[0m \u001b[38;5;28;01mif\u001b[39;00m \u001b[38;5;129;01mnot\u001b[39;00m host:\n\u001b[0;32m--> 445\u001b[0m     \u001b[38;5;28;01mraise\u001b[39;00m InvalidURL(\u001b[38;5;124mf\u001b[39m\u001b[38;5;124m\"\u001b[39m\u001b[38;5;124mInvalid URL \u001b[39m\u001b[38;5;132;01m{\u001b[39;00murl\u001b[38;5;132;01m!r}\u001b[39;00m\u001b[38;5;124m: No host supplied\u001b[39m\u001b[38;5;124m\"\u001b[39m)\n\u001b[1;32m    447\u001b[0m \u001b[38;5;66;03m# In general, we want to try IDNA encoding the hostname if the string contains\u001b[39;00m\n\u001b[1;32m    448\u001b[0m \u001b[38;5;66;03m# non-ASCII characters. This allows users to automatically get the correct IDNA\u001b[39;00m\n\u001b[1;32m    449\u001b[0m \u001b[38;5;66;03m# behaviour. For strings containing only ASCII characters, we need to also verify\u001b[39;00m\n\u001b[1;32m    450\u001b[0m \u001b[38;5;66;03m# it doesn't start with a wildcard (*), before allowing the unencoded hostname.\u001b[39;00m\n\u001b[1;32m    451\u001b[0m \u001b[38;5;28;01mif\u001b[39;00m \u001b[38;5;129;01mnot\u001b[39;00m unicode_is_ascii(host):\n",
      "\u001b[0;31mInvalidURL\u001b[0m: Invalid URL 'https:': No host supplied"
     ]
    }
   ],
   "source": [
    "# movie_links_cd9 = {A:N for (A,N) in [x for x in movie_links_cd8.items()][691:]}\n",
    "# df_movie_info_cd9 = df_movie_info_cd8.copy()\n",
    "\n",
    "# for movie, link in tqdm(movie_links_cd9.items()):\n",
    "#     cols = [col for col in get_movie_info(link).keys()]\n",
    "#     data = get_movie_info(link).values()\n",
    "#     df1 = (pd.DataFrame(data, cols).T)\n",
    "#     df_movie_info_cd9 = pd.concat([df_movie_info_cd9, df1], ignore_index=True)\n",
    "# display(df_movie_info_cd9)"
   ]
  },
  {
   "cell_type": "markdown",
   "id": "fa8f9065",
   "metadata": {},
   "source": [
    "#### Append the 10th batch\n",
    "Append the 10th batch of movie info from the links in movie_links_cd:"
   ]
  },
  {
   "cell_type": "code",
   "execution_count": 234,
   "id": "ce8cef8b",
   "metadata": {
    "ExecuteTime": {
     "end_time": "2022-11-13T01:47:01.608423Z",
     "start_time": "2022-11-13T01:32:07.786072Z"
    }
   },
   "outputs": [
    {
     "name": "stderr",
     "output_type": "stream",
     "text": [
      " 13%|█▎        | 604/4639 [14:53<1:39:30,  1.48s/it]\n"
     ]
    },
    {
     "ename": "AttributeError",
     "evalue": "'NoneType' object has no attribute 'text'",
     "output_type": "error",
     "traceback": [
      "\u001b[0;31m---------------------------------------------------------------------------\u001b[0m",
      "\u001b[0;31mAttributeError\u001b[0m                            Traceback (most recent call last)",
      "Input \u001b[0;32mIn [234]\u001b[0m, in \u001b[0;36m<cell line: 5>\u001b[0;34m()\u001b[0m\n\u001b[1;32m      3\u001b[0m \u001b[38;5;66;03m# df_movie_info_cd10 = df_movie_info_cd9.copy()\u001b[39;00m\n\u001b[1;32m      5\u001b[0m \u001b[38;5;28;01mfor\u001b[39;00m movie, link \u001b[38;5;129;01min\u001b[39;00m tqdm(movie_links_cd10\u001b[38;5;241m.\u001b[39mitems()):\n\u001b[0;32m----> 6\u001b[0m     cols \u001b[38;5;241m=\u001b[39m [col \u001b[38;5;28;01mfor\u001b[39;00m col \u001b[38;5;129;01min\u001b[39;00m \u001b[43mget_movie_info\u001b[49m\u001b[43m(\u001b[49m\u001b[43mlink\u001b[49m\u001b[43m)\u001b[49m\u001b[38;5;241m.\u001b[39mkeys()]\n\u001b[1;32m      7\u001b[0m     data \u001b[38;5;241m=\u001b[39m get_movie_info(link)\u001b[38;5;241m.\u001b[39mvalues()\n\u001b[1;32m      8\u001b[0m     df1 \u001b[38;5;241m=\u001b[39m (pd\u001b[38;5;241m.\u001b[39mDataFrame(data, cols)\u001b[38;5;241m.\u001b[39mT)\n",
      "Input \u001b[0;32mIn [3]\u001b[0m, in \u001b[0;36mget_movie_info\u001b[0;34m(url_movie)\u001b[0m\n\u001b[1;32m      2\u001b[0m response \u001b[38;5;241m=\u001b[39m requests\u001b[38;5;241m.\u001b[39mget(url_movie, proxies\u001b[38;5;241m=\u001b[39mproxies)\n\u001b[1;32m      3\u001b[0m soup \u001b[38;5;241m=\u001b[39m BeautifulSoup(response\u001b[38;5;241m.\u001b[39mcontent)\n\u001b[0;32m----> 4\u001b[0m fields \u001b[38;5;241m=\u001b[39m {\u001b[38;5;124m'\u001b[39m\u001b[38;5;124mTitle\u001b[39m\u001b[38;5;124m'\u001b[39m: \u001b[43msoup\u001b[49m\u001b[38;5;241;43m.\u001b[39;49m\u001b[43mselect_one\u001b[49m\u001b[43m(\u001b[49m\u001b[38;5;124;43m'\u001b[39;49m\u001b[38;5;124;43mh1.scoreboard__title\u001b[39;49m\u001b[38;5;124;43m'\u001b[39;49m\u001b[43m)\u001b[49m\u001b[38;5;241;43m.\u001b[39;49m\u001b[43mtext\u001b[49m,\n\u001b[1;32m      5\u001b[0m           \u001b[38;5;124m'\u001b[39m\u001b[38;5;124mSynopsis\u001b[39m\u001b[38;5;124m'\u001b[39m: soup\u001b[38;5;241m.\u001b[39mselect_one(\u001b[38;5;124m'\u001b[39m\u001b[38;5;124m#movieSynopsis\u001b[39m\u001b[38;5;124m'\u001b[39m)\u001b[38;5;241m.\u001b[39mtext\u001b[38;5;241m.\u001b[39mstrip(),\n\u001b[1;32m      6\u001b[0m           \u001b[38;5;124m'\u001b[39m\u001b[38;5;124mCasts_and_crew\u001b[39m\u001b[38;5;124m'\u001b[39m: (\n\u001b[1;32m      7\u001b[0m               \u001b[38;5;124m'\u001b[39m\u001b[38;5;124m, \u001b[39m\u001b[38;5;124m'\u001b[39m\u001b[38;5;241m.\u001b[39mjoin([name\u001b[38;5;241m.\u001b[39mget_text()\u001b[38;5;241m.\u001b[39mstrip()\n\u001b[1;32m      8\u001b[0m                          \u001b[38;5;28;01mfor\u001b[39;00m name \u001b[38;5;129;01min\u001b[39;00m soup\u001b[38;5;241m.\u001b[39mselect(\n\u001b[1;32m      9\u001b[0m                              \u001b[38;5;124m\"\u001b[39m\u001b[38;5;124m#movie-cast > div > div > div > div.media-body > a > span\u001b[39m\u001b[38;5;124m\"\u001b[39m)]))}\n\u001b[1;32m     10\u001b[0m fields2 \u001b[38;5;241m=\u001b[39m [a\u001b[38;5;241m.\u001b[39mget_text()\u001b[38;5;241m.\u001b[39mreplace(\u001b[38;5;124m'\u001b[39m\u001b[38;5;130;01m\\n\u001b[39;00m\u001b[38;5;124m'\u001b[39m, \u001b[38;5;124m\"\u001b[39m\u001b[38;5;124m\"\u001b[39m)\u001b[38;5;241m.\u001b[39mreplace(\u001b[38;5;124m\"\u001b[39m\u001b[38;5;124m  \u001b[39m\u001b[38;5;124m\"\u001b[39m, \u001b[38;5;124m'\u001b[39m\u001b[38;5;124m'\u001b[39m)\u001b[38;5;241m.\u001b[39mstrip(\n\u001b[1;32m     11\u001b[0m )\u001b[38;5;241m.\u001b[39msplit(\u001b[38;5;124m'\u001b[39m\u001b[38;5;124m:\u001b[39m\u001b[38;5;124m'\u001b[39m) \u001b[38;5;28;01mfor\u001b[39;00m a \u001b[38;5;129;01min\u001b[39;00m soup\u001b[38;5;241m.\u001b[39mselect(\u001b[38;5;124m'\u001b[39m\u001b[38;5;124mli.meta-row\u001b[39m\u001b[38;5;124m'\u001b[39m)]\n\u001b[1;32m     12\u001b[0m fields2 \u001b[38;5;241m=\u001b[39m {x[\u001b[38;5;241m0\u001b[39m]: x[\u001b[38;5;241m1\u001b[39m] \u001b[38;5;28;01mfor\u001b[39;00m x \u001b[38;5;129;01min\u001b[39;00m fields2}\n",
      "\u001b[0;31mAttributeError\u001b[0m: 'NoneType' object has no attribute 'text'"
     ]
    }
   ],
   "source": [
    "# movie_links_cd10 = {A:N for (A,N) in [x for x in movie_links_cd9.items()][317:]}\n",
    "# df_movie_info_cd10 = pd.DataFrame(columns=columns)\n",
    "# # df_movie_info_cd10 = df_movie_info_cd9.copy()\n",
    "\n",
    "# for movie, link in tqdm(movie_links_cd10.items()):\n",
    "#     cols = [col for col in get_movie_info(link).keys()]\n",
    "#     data = get_movie_info(link).values()\n",
    "#     df1 = (pd.DataFrame(data, cols).T)\n",
    "#     df_movie_info_cd10 = pd.concat([df_movie_info_cd10, df1], ignore_index=True)\n",
    "# display(df_movie_info_cd10)"
   ]
  },
  {
   "cell_type": "markdown",
   "id": "9184a263",
   "metadata": {},
   "source": [
    "#### Append the 11th batch\n",
    "Append the 11th batch of movie info from the links in movie_links_cd:"
   ]
  },
  {
   "cell_type": "code",
   "execution_count": 238,
   "id": "cb4d4a93",
   "metadata": {
    "ExecuteTime": {
     "end_time": "2022-11-13T02:34:41.789411Z",
     "start_time": "2022-11-13T01:51:20.722061Z"
    }
   },
   "outputs": [
    {
     "name": "stderr",
     "output_type": "stream",
     "text": [
      " 43%|████▎     | 1740/4035 [43:21<57:10,  1.49s/it]  \n"
     ]
    },
    {
     "ename": "AttributeError",
     "evalue": "'NoneType' object has no attribute 'text'",
     "output_type": "error",
     "traceback": [
      "\u001b[0;31m---------------------------------------------------------------------------\u001b[0m",
      "\u001b[0;31mAttributeError\u001b[0m                            Traceback (most recent call last)",
      "Input \u001b[0;32mIn [238]\u001b[0m, in \u001b[0;36m<cell line: 4>\u001b[0;34m()\u001b[0m\n\u001b[1;32m      2\u001b[0m df_movie_info_cd11 \u001b[38;5;241m=\u001b[39m df_movie_info_cd10\u001b[38;5;241m.\u001b[39mcopy()\n\u001b[1;32m      4\u001b[0m \u001b[38;5;28;01mfor\u001b[39;00m movie, link \u001b[38;5;129;01min\u001b[39;00m tqdm(movie_links_cd11\u001b[38;5;241m.\u001b[39mitems()):\n\u001b[0;32m----> 5\u001b[0m     cols \u001b[38;5;241m=\u001b[39m [col \u001b[38;5;28;01mfor\u001b[39;00m col \u001b[38;5;129;01min\u001b[39;00m \u001b[43mget_movie_info\u001b[49m\u001b[43m(\u001b[49m\u001b[43mlink\u001b[49m\u001b[43m)\u001b[49m\u001b[38;5;241m.\u001b[39mkeys()]\n\u001b[1;32m      6\u001b[0m     data \u001b[38;5;241m=\u001b[39m get_movie_info(link)\u001b[38;5;241m.\u001b[39mvalues()\n\u001b[1;32m      7\u001b[0m     df1 \u001b[38;5;241m=\u001b[39m (pd\u001b[38;5;241m.\u001b[39mDataFrame(data, cols)\u001b[38;5;241m.\u001b[39mT)\n",
      "Input \u001b[0;32mIn [3]\u001b[0m, in \u001b[0;36mget_movie_info\u001b[0;34m(url_movie)\u001b[0m\n\u001b[1;32m      2\u001b[0m response \u001b[38;5;241m=\u001b[39m requests\u001b[38;5;241m.\u001b[39mget(url_movie, proxies\u001b[38;5;241m=\u001b[39mproxies)\n\u001b[1;32m      3\u001b[0m soup \u001b[38;5;241m=\u001b[39m BeautifulSoup(response\u001b[38;5;241m.\u001b[39mcontent)\n\u001b[0;32m----> 4\u001b[0m fields \u001b[38;5;241m=\u001b[39m {\u001b[38;5;124m'\u001b[39m\u001b[38;5;124mTitle\u001b[39m\u001b[38;5;124m'\u001b[39m: \u001b[43msoup\u001b[49m\u001b[38;5;241;43m.\u001b[39;49m\u001b[43mselect_one\u001b[49m\u001b[43m(\u001b[49m\u001b[38;5;124;43m'\u001b[39;49m\u001b[38;5;124;43mh1.scoreboard__title\u001b[39;49m\u001b[38;5;124;43m'\u001b[39;49m\u001b[43m)\u001b[49m\u001b[38;5;241;43m.\u001b[39;49m\u001b[43mtext\u001b[49m,\n\u001b[1;32m      5\u001b[0m           \u001b[38;5;124m'\u001b[39m\u001b[38;5;124mSynopsis\u001b[39m\u001b[38;5;124m'\u001b[39m: soup\u001b[38;5;241m.\u001b[39mselect_one(\u001b[38;5;124m'\u001b[39m\u001b[38;5;124m#movieSynopsis\u001b[39m\u001b[38;5;124m'\u001b[39m)\u001b[38;5;241m.\u001b[39mtext\u001b[38;5;241m.\u001b[39mstrip(),\n\u001b[1;32m      6\u001b[0m           \u001b[38;5;124m'\u001b[39m\u001b[38;5;124mCasts_and_crew\u001b[39m\u001b[38;5;124m'\u001b[39m: (\n\u001b[1;32m      7\u001b[0m               \u001b[38;5;124m'\u001b[39m\u001b[38;5;124m, \u001b[39m\u001b[38;5;124m'\u001b[39m\u001b[38;5;241m.\u001b[39mjoin([name\u001b[38;5;241m.\u001b[39mget_text()\u001b[38;5;241m.\u001b[39mstrip()\n\u001b[1;32m      8\u001b[0m                          \u001b[38;5;28;01mfor\u001b[39;00m name \u001b[38;5;129;01min\u001b[39;00m soup\u001b[38;5;241m.\u001b[39mselect(\n\u001b[1;32m      9\u001b[0m                              \u001b[38;5;124m\"\u001b[39m\u001b[38;5;124m#movie-cast > div > div > div > div.media-body > a > span\u001b[39m\u001b[38;5;124m\"\u001b[39m)]))}\n\u001b[1;32m     10\u001b[0m fields2 \u001b[38;5;241m=\u001b[39m [a\u001b[38;5;241m.\u001b[39mget_text()\u001b[38;5;241m.\u001b[39mreplace(\u001b[38;5;124m'\u001b[39m\u001b[38;5;130;01m\\n\u001b[39;00m\u001b[38;5;124m'\u001b[39m, \u001b[38;5;124m\"\u001b[39m\u001b[38;5;124m\"\u001b[39m)\u001b[38;5;241m.\u001b[39mreplace(\u001b[38;5;124m\"\u001b[39m\u001b[38;5;124m  \u001b[39m\u001b[38;5;124m\"\u001b[39m, \u001b[38;5;124m'\u001b[39m\u001b[38;5;124m'\u001b[39m)\u001b[38;5;241m.\u001b[39mstrip(\n\u001b[1;32m     11\u001b[0m )\u001b[38;5;241m.\u001b[39msplit(\u001b[38;5;124m'\u001b[39m\u001b[38;5;124m:\u001b[39m\u001b[38;5;124m'\u001b[39m) \u001b[38;5;28;01mfor\u001b[39;00m a \u001b[38;5;129;01min\u001b[39;00m soup\u001b[38;5;241m.\u001b[39mselect(\u001b[38;5;124m'\u001b[39m\u001b[38;5;124mli.meta-row\u001b[39m\u001b[38;5;124m'\u001b[39m)]\n\u001b[1;32m     12\u001b[0m fields2 \u001b[38;5;241m=\u001b[39m {x[\u001b[38;5;241m0\u001b[39m]: x[\u001b[38;5;241m1\u001b[39m] \u001b[38;5;28;01mfor\u001b[39;00m x \u001b[38;5;129;01min\u001b[39;00m fields2}\n",
      "\u001b[0;31mAttributeError\u001b[0m: 'NoneType' object has no attribute 'text'"
     ]
    }
   ],
   "source": [
    "# movie_links_cd11 = {A:N for (A,N) in [x for x in movie_links_cd10.items()][604:]}\n",
    "# df_movie_info_cd11 = df_movie_info_cd10.copy()\n",
    "\n",
    "# for movie, link in tqdm(movie_links_cd11.items()):\n",
    "#     cols = [col for col in get_movie_info(link).keys()]\n",
    "#     data = get_movie_info(link).values()\n",
    "#     df1 = (pd.DataFrame(data, cols).T)\n",
    "#     df_movie_info_cd11 = pd.concat([df_movie_info_cd11, df1], ignore_index=True)\n",
    "# display(df_movie_info_cd11)"
   ]
  },
  {
   "cell_type": "markdown",
   "id": "fb94b0aa",
   "metadata": {},
   "source": [
    "#### Append the 12th batch\n",
    "Append the 12th batch of movie info from the links in movie_links_cd:"
   ]
  },
  {
   "cell_type": "code",
   "execution_count": 241,
   "id": "dc1bad58",
   "metadata": {
    "ExecuteTime": {
     "end_time": "2022-11-13T02:54:44.665052Z",
     "start_time": "2022-11-13T02:36:52.545521Z"
    }
   },
   "outputs": [
    {
     "name": "stderr",
     "output_type": "stream",
     "text": [
      " 29%|██▉       | 672/2295 [17:52<43:09,  1.60s/it]  \n"
     ]
    },
    {
     "ename": "AttributeError",
     "evalue": "'NoneType' object has no attribute 'text'",
     "output_type": "error",
     "traceback": [
      "\u001b[0;31m---------------------------------------------------------------------------\u001b[0m",
      "\u001b[0;31mAttributeError\u001b[0m                            Traceback (most recent call last)",
      "Input \u001b[0;32mIn [241]\u001b[0m, in \u001b[0;36m<cell line: 4>\u001b[0;34m()\u001b[0m\n\u001b[1;32m      2\u001b[0m df_movie_info_cd12 \u001b[38;5;241m=\u001b[39m df_movie_info_cd11\u001b[38;5;241m.\u001b[39mcopy()\n\u001b[1;32m      4\u001b[0m \u001b[38;5;28;01mfor\u001b[39;00m movie, link \u001b[38;5;129;01min\u001b[39;00m tqdm(movie_links_cd12\u001b[38;5;241m.\u001b[39mitems()):\n\u001b[0;32m----> 5\u001b[0m     cols \u001b[38;5;241m=\u001b[39m [col \u001b[38;5;28;01mfor\u001b[39;00m col \u001b[38;5;129;01min\u001b[39;00m \u001b[43mget_movie_info\u001b[49m\u001b[43m(\u001b[49m\u001b[43mlink\u001b[49m\u001b[43m)\u001b[49m\u001b[38;5;241m.\u001b[39mkeys()]\n\u001b[1;32m      6\u001b[0m     data \u001b[38;5;241m=\u001b[39m get_movie_info(link)\u001b[38;5;241m.\u001b[39mvalues()\n\u001b[1;32m      7\u001b[0m     df1 \u001b[38;5;241m=\u001b[39m (pd\u001b[38;5;241m.\u001b[39mDataFrame(data, cols)\u001b[38;5;241m.\u001b[39mT)\n",
      "Input \u001b[0;32mIn [3]\u001b[0m, in \u001b[0;36mget_movie_info\u001b[0;34m(url_movie)\u001b[0m\n\u001b[1;32m      2\u001b[0m response \u001b[38;5;241m=\u001b[39m requests\u001b[38;5;241m.\u001b[39mget(url_movie, proxies\u001b[38;5;241m=\u001b[39mproxies)\n\u001b[1;32m      3\u001b[0m soup \u001b[38;5;241m=\u001b[39m BeautifulSoup(response\u001b[38;5;241m.\u001b[39mcontent)\n\u001b[0;32m----> 4\u001b[0m fields \u001b[38;5;241m=\u001b[39m {\u001b[38;5;124m'\u001b[39m\u001b[38;5;124mTitle\u001b[39m\u001b[38;5;124m'\u001b[39m: \u001b[43msoup\u001b[49m\u001b[38;5;241;43m.\u001b[39;49m\u001b[43mselect_one\u001b[49m\u001b[43m(\u001b[49m\u001b[38;5;124;43m'\u001b[39;49m\u001b[38;5;124;43mh1.scoreboard__title\u001b[39;49m\u001b[38;5;124;43m'\u001b[39;49m\u001b[43m)\u001b[49m\u001b[38;5;241;43m.\u001b[39;49m\u001b[43mtext\u001b[49m,\n\u001b[1;32m      5\u001b[0m           \u001b[38;5;124m'\u001b[39m\u001b[38;5;124mSynopsis\u001b[39m\u001b[38;5;124m'\u001b[39m: soup\u001b[38;5;241m.\u001b[39mselect_one(\u001b[38;5;124m'\u001b[39m\u001b[38;5;124m#movieSynopsis\u001b[39m\u001b[38;5;124m'\u001b[39m)\u001b[38;5;241m.\u001b[39mtext\u001b[38;5;241m.\u001b[39mstrip(),\n\u001b[1;32m      6\u001b[0m           \u001b[38;5;124m'\u001b[39m\u001b[38;5;124mCasts_and_crew\u001b[39m\u001b[38;5;124m'\u001b[39m: (\n\u001b[1;32m      7\u001b[0m               \u001b[38;5;124m'\u001b[39m\u001b[38;5;124m, \u001b[39m\u001b[38;5;124m'\u001b[39m\u001b[38;5;241m.\u001b[39mjoin([name\u001b[38;5;241m.\u001b[39mget_text()\u001b[38;5;241m.\u001b[39mstrip()\n\u001b[1;32m      8\u001b[0m                          \u001b[38;5;28;01mfor\u001b[39;00m name \u001b[38;5;129;01min\u001b[39;00m soup\u001b[38;5;241m.\u001b[39mselect(\n\u001b[1;32m      9\u001b[0m                              \u001b[38;5;124m\"\u001b[39m\u001b[38;5;124m#movie-cast > div > div > div > div.media-body > a > span\u001b[39m\u001b[38;5;124m\"\u001b[39m)]))}\n\u001b[1;32m     10\u001b[0m fields2 \u001b[38;5;241m=\u001b[39m [a\u001b[38;5;241m.\u001b[39mget_text()\u001b[38;5;241m.\u001b[39mreplace(\u001b[38;5;124m'\u001b[39m\u001b[38;5;130;01m\\n\u001b[39;00m\u001b[38;5;124m'\u001b[39m, \u001b[38;5;124m\"\u001b[39m\u001b[38;5;124m\"\u001b[39m)\u001b[38;5;241m.\u001b[39mreplace(\u001b[38;5;124m\"\u001b[39m\u001b[38;5;124m  \u001b[39m\u001b[38;5;124m\"\u001b[39m, \u001b[38;5;124m'\u001b[39m\u001b[38;5;124m'\u001b[39m)\u001b[38;5;241m.\u001b[39mstrip(\n\u001b[1;32m     11\u001b[0m )\u001b[38;5;241m.\u001b[39msplit(\u001b[38;5;124m'\u001b[39m\u001b[38;5;124m:\u001b[39m\u001b[38;5;124m'\u001b[39m) \u001b[38;5;28;01mfor\u001b[39;00m a \u001b[38;5;129;01min\u001b[39;00m soup\u001b[38;5;241m.\u001b[39mselect(\u001b[38;5;124m'\u001b[39m\u001b[38;5;124mli.meta-row\u001b[39m\u001b[38;5;124m'\u001b[39m)]\n\u001b[1;32m     12\u001b[0m fields2 \u001b[38;5;241m=\u001b[39m {x[\u001b[38;5;241m0\u001b[39m]: x[\u001b[38;5;241m1\u001b[39m] \u001b[38;5;28;01mfor\u001b[39;00m x \u001b[38;5;129;01min\u001b[39;00m fields2}\n",
      "\u001b[0;31mAttributeError\u001b[0m: 'NoneType' object has no attribute 'text'"
     ]
    }
   ],
   "source": [
    "# movie_links_cd12 = {A:N for (A,N) in [x for x in movie_links_cd11.items()][1740:]}\n",
    "# df_movie_info_cd12 = df_movie_info_cd11.copy()\n",
    "\n",
    "# for movie, link in tqdm(movie_links_cd12.items()):\n",
    "#     cols = [col for col in get_movie_info(link).keys()]\n",
    "#     data = get_movie_info(link).values()\n",
    "#     df1 = (pd.DataFrame(data, cols).T)\n",
    "#     df_movie_info_cd12 = pd.concat([df_movie_info_cd12, df1], ignore_index=True)\n",
    "# display(df_movie_info_cd12)"
   ]
  },
  {
   "cell_type": "markdown",
   "id": "654d6b3a",
   "metadata": {},
   "source": [
    "#### Append the 13th batch\n",
    "Append the 13th batch of movie info from the links in movie_links_cd:"
   ]
  },
  {
   "cell_type": "code",
   "execution_count": 245,
   "id": "6bd6c2e9",
   "metadata": {
    "ExecuteTime": {
     "end_time": "2022-11-13T03:05:24.752083Z",
     "start_time": "2022-11-13T03:00:45.695230Z"
    }
   },
   "outputs": [
    {
     "name": "stderr",
     "output_type": "stream",
     "text": [
      " 14%|█▎        | 222/1623 [04:38<29:20,  1.26s/it] \n"
     ]
    },
    {
     "ename": "AttributeError",
     "evalue": "'NoneType' object has no attribute 'text'",
     "output_type": "error",
     "traceback": [
      "\u001b[0;31m---------------------------------------------------------------------------\u001b[0m",
      "\u001b[0;31mAttributeError\u001b[0m                            Traceback (most recent call last)",
      "Input \u001b[0;32mIn [245]\u001b[0m, in \u001b[0;36m<cell line: 4>\u001b[0;34m()\u001b[0m\n\u001b[1;32m      2\u001b[0m df_movie_info_cd13 \u001b[38;5;241m=\u001b[39m df_movie_info_cd12\u001b[38;5;241m.\u001b[39mcopy()\n\u001b[1;32m      4\u001b[0m \u001b[38;5;28;01mfor\u001b[39;00m movie, link \u001b[38;5;129;01min\u001b[39;00m tqdm(movie_links_cd13\u001b[38;5;241m.\u001b[39mitems()):\n\u001b[0;32m----> 5\u001b[0m     cols \u001b[38;5;241m=\u001b[39m [col \u001b[38;5;28;01mfor\u001b[39;00m col \u001b[38;5;129;01min\u001b[39;00m \u001b[43mget_movie_info\u001b[49m\u001b[43m(\u001b[49m\u001b[43mlink\u001b[49m\u001b[43m)\u001b[49m\u001b[38;5;241m.\u001b[39mkeys()]\n\u001b[1;32m      6\u001b[0m     data \u001b[38;5;241m=\u001b[39m get_movie_info(link)\u001b[38;5;241m.\u001b[39mvalues()\n\u001b[1;32m      7\u001b[0m     df1 \u001b[38;5;241m=\u001b[39m (pd\u001b[38;5;241m.\u001b[39mDataFrame(data, cols)\u001b[38;5;241m.\u001b[39mT)\n",
      "Input \u001b[0;32mIn [3]\u001b[0m, in \u001b[0;36mget_movie_info\u001b[0;34m(url_movie)\u001b[0m\n\u001b[1;32m      2\u001b[0m response \u001b[38;5;241m=\u001b[39m requests\u001b[38;5;241m.\u001b[39mget(url_movie, proxies\u001b[38;5;241m=\u001b[39mproxies)\n\u001b[1;32m      3\u001b[0m soup \u001b[38;5;241m=\u001b[39m BeautifulSoup(response\u001b[38;5;241m.\u001b[39mcontent)\n\u001b[0;32m----> 4\u001b[0m fields \u001b[38;5;241m=\u001b[39m {\u001b[38;5;124m'\u001b[39m\u001b[38;5;124mTitle\u001b[39m\u001b[38;5;124m'\u001b[39m: \u001b[43msoup\u001b[49m\u001b[38;5;241;43m.\u001b[39;49m\u001b[43mselect_one\u001b[49m\u001b[43m(\u001b[49m\u001b[38;5;124;43m'\u001b[39;49m\u001b[38;5;124;43mh1.scoreboard__title\u001b[39;49m\u001b[38;5;124;43m'\u001b[39;49m\u001b[43m)\u001b[49m\u001b[38;5;241;43m.\u001b[39;49m\u001b[43mtext\u001b[49m,\n\u001b[1;32m      5\u001b[0m           \u001b[38;5;124m'\u001b[39m\u001b[38;5;124mSynopsis\u001b[39m\u001b[38;5;124m'\u001b[39m: soup\u001b[38;5;241m.\u001b[39mselect_one(\u001b[38;5;124m'\u001b[39m\u001b[38;5;124m#movieSynopsis\u001b[39m\u001b[38;5;124m'\u001b[39m)\u001b[38;5;241m.\u001b[39mtext\u001b[38;5;241m.\u001b[39mstrip(),\n\u001b[1;32m      6\u001b[0m           \u001b[38;5;124m'\u001b[39m\u001b[38;5;124mCasts_and_crew\u001b[39m\u001b[38;5;124m'\u001b[39m: (\n\u001b[1;32m      7\u001b[0m               \u001b[38;5;124m'\u001b[39m\u001b[38;5;124m, \u001b[39m\u001b[38;5;124m'\u001b[39m\u001b[38;5;241m.\u001b[39mjoin([name\u001b[38;5;241m.\u001b[39mget_text()\u001b[38;5;241m.\u001b[39mstrip()\n\u001b[1;32m      8\u001b[0m                          \u001b[38;5;28;01mfor\u001b[39;00m name \u001b[38;5;129;01min\u001b[39;00m soup\u001b[38;5;241m.\u001b[39mselect(\n\u001b[1;32m      9\u001b[0m                              \u001b[38;5;124m\"\u001b[39m\u001b[38;5;124m#movie-cast > div > div > div > div.media-body > a > span\u001b[39m\u001b[38;5;124m\"\u001b[39m)]))}\n\u001b[1;32m     10\u001b[0m fields2 \u001b[38;5;241m=\u001b[39m [a\u001b[38;5;241m.\u001b[39mget_text()\u001b[38;5;241m.\u001b[39mreplace(\u001b[38;5;124m'\u001b[39m\u001b[38;5;130;01m\\n\u001b[39;00m\u001b[38;5;124m'\u001b[39m, \u001b[38;5;124m\"\u001b[39m\u001b[38;5;124m\"\u001b[39m)\u001b[38;5;241m.\u001b[39mreplace(\u001b[38;5;124m\"\u001b[39m\u001b[38;5;124m  \u001b[39m\u001b[38;5;124m\"\u001b[39m, \u001b[38;5;124m'\u001b[39m\u001b[38;5;124m'\u001b[39m)\u001b[38;5;241m.\u001b[39mstrip(\n\u001b[1;32m     11\u001b[0m )\u001b[38;5;241m.\u001b[39msplit(\u001b[38;5;124m'\u001b[39m\u001b[38;5;124m:\u001b[39m\u001b[38;5;124m'\u001b[39m) \u001b[38;5;28;01mfor\u001b[39;00m a \u001b[38;5;129;01min\u001b[39;00m soup\u001b[38;5;241m.\u001b[39mselect(\u001b[38;5;124m'\u001b[39m\u001b[38;5;124mli.meta-row\u001b[39m\u001b[38;5;124m'\u001b[39m)]\n\u001b[1;32m     12\u001b[0m fields2 \u001b[38;5;241m=\u001b[39m {x[\u001b[38;5;241m0\u001b[39m]: x[\u001b[38;5;241m1\u001b[39m] \u001b[38;5;28;01mfor\u001b[39;00m x \u001b[38;5;129;01min\u001b[39;00m fields2}\n",
      "\u001b[0;31mAttributeError\u001b[0m: 'NoneType' object has no attribute 'text'"
     ]
    }
   ],
   "source": [
    "# movie_links_cd13 = {A:N for (A,N) in [x for x in movie_links_cd12.items()][672:]}\n",
    "# df_movie_info_cd13 = df_movie_info_cd12.copy()\n",
    "\n",
    "# for movie, link in tqdm(movie_links_cd13.items()):\n",
    "#     cols = [col for col in get_movie_info(link).keys()]\n",
    "#     data = get_movie_info(link).values()\n",
    "#     df1 = (pd.DataFrame(data, cols).T)\n",
    "#     df_movie_info_cd13 = pd.concat([df_movie_info_cd13, df1], ignore_index=True)\n",
    "# display(df_movie_info_cd13)"
   ]
  },
  {
   "cell_type": "markdown",
   "id": "253de96c",
   "metadata": {},
   "source": [
    "#### Append the 14th batch\n",
    "Append the 14th batch of movie info from the links in movie_links_cd:"
   ]
  },
  {
   "cell_type": "code",
   "execution_count": 248,
   "id": "d8b6f7ef",
   "metadata": {
    "ExecuteTime": {
     "end_time": "2022-11-13T03:11:42.358394Z",
     "start_time": "2022-11-13T03:07:08.060609Z"
    }
   },
   "outputs": [
    {
     "name": "stderr",
     "output_type": "stream",
     "text": [
      " 12%|█▏        | 169/1401 [04:34<33:19,  1.62s/it]\n"
     ]
    },
    {
     "ename": "AttributeError",
     "evalue": "'NoneType' object has no attribute 'text'",
     "output_type": "error",
     "traceback": [
      "\u001b[0;31m---------------------------------------------------------------------------\u001b[0m",
      "\u001b[0;31mAttributeError\u001b[0m                            Traceback (most recent call last)",
      "Input \u001b[0;32mIn [248]\u001b[0m, in \u001b[0;36m<cell line: 4>\u001b[0;34m()\u001b[0m\n\u001b[1;32m      2\u001b[0m df_movie_info_cd14 \u001b[38;5;241m=\u001b[39m df_movie_info_cd13\u001b[38;5;241m.\u001b[39mcopy()\n\u001b[1;32m      4\u001b[0m \u001b[38;5;28;01mfor\u001b[39;00m movie, link \u001b[38;5;129;01min\u001b[39;00m tqdm(movie_links_cd14\u001b[38;5;241m.\u001b[39mitems()):\n\u001b[0;32m----> 5\u001b[0m     cols \u001b[38;5;241m=\u001b[39m [col \u001b[38;5;28;01mfor\u001b[39;00m col \u001b[38;5;129;01min\u001b[39;00m \u001b[43mget_movie_info\u001b[49m\u001b[43m(\u001b[49m\u001b[43mlink\u001b[49m\u001b[43m)\u001b[49m\u001b[38;5;241m.\u001b[39mkeys()]\n\u001b[1;32m      6\u001b[0m     data \u001b[38;5;241m=\u001b[39m get_movie_info(link)\u001b[38;5;241m.\u001b[39mvalues()\n\u001b[1;32m      7\u001b[0m     df1 \u001b[38;5;241m=\u001b[39m (pd\u001b[38;5;241m.\u001b[39mDataFrame(data, cols)\u001b[38;5;241m.\u001b[39mT)\n",
      "Input \u001b[0;32mIn [3]\u001b[0m, in \u001b[0;36mget_movie_info\u001b[0;34m(url_movie)\u001b[0m\n\u001b[1;32m      2\u001b[0m response \u001b[38;5;241m=\u001b[39m requests\u001b[38;5;241m.\u001b[39mget(url_movie, proxies\u001b[38;5;241m=\u001b[39mproxies)\n\u001b[1;32m      3\u001b[0m soup \u001b[38;5;241m=\u001b[39m BeautifulSoup(response\u001b[38;5;241m.\u001b[39mcontent)\n\u001b[0;32m----> 4\u001b[0m fields \u001b[38;5;241m=\u001b[39m {\u001b[38;5;124m'\u001b[39m\u001b[38;5;124mTitle\u001b[39m\u001b[38;5;124m'\u001b[39m: \u001b[43msoup\u001b[49m\u001b[38;5;241;43m.\u001b[39;49m\u001b[43mselect_one\u001b[49m\u001b[43m(\u001b[49m\u001b[38;5;124;43m'\u001b[39;49m\u001b[38;5;124;43mh1.scoreboard__title\u001b[39;49m\u001b[38;5;124;43m'\u001b[39;49m\u001b[43m)\u001b[49m\u001b[38;5;241;43m.\u001b[39;49m\u001b[43mtext\u001b[49m,\n\u001b[1;32m      5\u001b[0m           \u001b[38;5;124m'\u001b[39m\u001b[38;5;124mSynopsis\u001b[39m\u001b[38;5;124m'\u001b[39m: soup\u001b[38;5;241m.\u001b[39mselect_one(\u001b[38;5;124m'\u001b[39m\u001b[38;5;124m#movieSynopsis\u001b[39m\u001b[38;5;124m'\u001b[39m)\u001b[38;5;241m.\u001b[39mtext\u001b[38;5;241m.\u001b[39mstrip(),\n\u001b[1;32m      6\u001b[0m           \u001b[38;5;124m'\u001b[39m\u001b[38;5;124mCasts_and_crew\u001b[39m\u001b[38;5;124m'\u001b[39m: (\n\u001b[1;32m      7\u001b[0m               \u001b[38;5;124m'\u001b[39m\u001b[38;5;124m, \u001b[39m\u001b[38;5;124m'\u001b[39m\u001b[38;5;241m.\u001b[39mjoin([name\u001b[38;5;241m.\u001b[39mget_text()\u001b[38;5;241m.\u001b[39mstrip()\n\u001b[1;32m      8\u001b[0m                          \u001b[38;5;28;01mfor\u001b[39;00m name \u001b[38;5;129;01min\u001b[39;00m soup\u001b[38;5;241m.\u001b[39mselect(\n\u001b[1;32m      9\u001b[0m                              \u001b[38;5;124m\"\u001b[39m\u001b[38;5;124m#movie-cast > div > div > div > div.media-body > a > span\u001b[39m\u001b[38;5;124m\"\u001b[39m)]))}\n\u001b[1;32m     10\u001b[0m fields2 \u001b[38;5;241m=\u001b[39m [a\u001b[38;5;241m.\u001b[39mget_text()\u001b[38;5;241m.\u001b[39mreplace(\u001b[38;5;124m'\u001b[39m\u001b[38;5;130;01m\\n\u001b[39;00m\u001b[38;5;124m'\u001b[39m, \u001b[38;5;124m\"\u001b[39m\u001b[38;5;124m\"\u001b[39m)\u001b[38;5;241m.\u001b[39mreplace(\u001b[38;5;124m\"\u001b[39m\u001b[38;5;124m  \u001b[39m\u001b[38;5;124m\"\u001b[39m, \u001b[38;5;124m'\u001b[39m\u001b[38;5;124m'\u001b[39m)\u001b[38;5;241m.\u001b[39mstrip(\n\u001b[1;32m     11\u001b[0m )\u001b[38;5;241m.\u001b[39msplit(\u001b[38;5;124m'\u001b[39m\u001b[38;5;124m:\u001b[39m\u001b[38;5;124m'\u001b[39m) \u001b[38;5;28;01mfor\u001b[39;00m a \u001b[38;5;129;01min\u001b[39;00m soup\u001b[38;5;241m.\u001b[39mselect(\u001b[38;5;124m'\u001b[39m\u001b[38;5;124mli.meta-row\u001b[39m\u001b[38;5;124m'\u001b[39m)]\n\u001b[1;32m     12\u001b[0m fields2 \u001b[38;5;241m=\u001b[39m {x[\u001b[38;5;241m0\u001b[39m]: x[\u001b[38;5;241m1\u001b[39m] \u001b[38;5;28;01mfor\u001b[39;00m x \u001b[38;5;129;01min\u001b[39;00m fields2}\n",
      "\u001b[0;31mAttributeError\u001b[0m: 'NoneType' object has no attribute 'text'"
     ]
    }
   ],
   "source": [
    "# movie_links_cd14 = {A:N for (A,N) in [x for x in movie_links_cd13.items()][222:]}\n",
    "# df_movie_info_cd14 = df_movie_info_cd13.copy()\n",
    "\n",
    "# for movie, link in tqdm(movie_links_cd14.items()):\n",
    "#     cols = [col for col in get_movie_info(link).keys()]\n",
    "#     data = get_movie_info(link).values()\n",
    "#     df1 = (pd.DataFrame(data, cols).T)\n",
    "#     df_movie_info_cd14 = pd.concat([df_movie_info_cd14, df1], ignore_index=True)\n",
    "# display(df_movie_info_cd14)"
   ]
  },
  {
   "cell_type": "markdown",
   "id": "73a62546",
   "metadata": {},
   "source": [
    "#### Append the 15th batch\n",
    "Append the 15th batch of movie info from the links in movie_links_cd:"
   ]
  },
  {
   "cell_type": "code",
   "execution_count": 251,
   "id": "e3d6b4d7",
   "metadata": {
    "ExecuteTime": {
     "end_time": "2022-11-13T03:34:12.145660Z",
     "start_time": "2022-11-13T03:12:56.943825Z"
    }
   },
   "outputs": [
    {
     "name": "stderr",
     "output_type": "stream",
     "text": [
      " 70%|███████   | 864/1232 [21:15<09:03,  1.48s/it]  \n"
     ]
    },
    {
     "ename": "AttributeError",
     "evalue": "'NoneType' object has no attribute 'text'",
     "output_type": "error",
     "traceback": [
      "\u001b[0;31m---------------------------------------------------------------------------\u001b[0m",
      "\u001b[0;31mAttributeError\u001b[0m                            Traceback (most recent call last)",
      "Input \u001b[0;32mIn [251]\u001b[0m, in \u001b[0;36m<cell line: 4>\u001b[0;34m()\u001b[0m\n\u001b[1;32m      2\u001b[0m df_movie_info_cd15 \u001b[38;5;241m=\u001b[39m df_movie_info_cd14\u001b[38;5;241m.\u001b[39mcopy()\n\u001b[1;32m      4\u001b[0m \u001b[38;5;28;01mfor\u001b[39;00m movie, link \u001b[38;5;129;01min\u001b[39;00m tqdm(movie_links_cd15\u001b[38;5;241m.\u001b[39mitems()):\n\u001b[0;32m----> 5\u001b[0m     cols \u001b[38;5;241m=\u001b[39m [col \u001b[38;5;28;01mfor\u001b[39;00m col \u001b[38;5;129;01min\u001b[39;00m \u001b[43mget_movie_info\u001b[49m\u001b[43m(\u001b[49m\u001b[43mlink\u001b[49m\u001b[43m)\u001b[49m\u001b[38;5;241m.\u001b[39mkeys()]\n\u001b[1;32m      6\u001b[0m     data \u001b[38;5;241m=\u001b[39m get_movie_info(link)\u001b[38;5;241m.\u001b[39mvalues()\n\u001b[1;32m      7\u001b[0m     df1 \u001b[38;5;241m=\u001b[39m (pd\u001b[38;5;241m.\u001b[39mDataFrame(data, cols)\u001b[38;5;241m.\u001b[39mT)\n",
      "Input \u001b[0;32mIn [3]\u001b[0m, in \u001b[0;36mget_movie_info\u001b[0;34m(url_movie)\u001b[0m\n\u001b[1;32m      2\u001b[0m response \u001b[38;5;241m=\u001b[39m requests\u001b[38;5;241m.\u001b[39mget(url_movie, proxies\u001b[38;5;241m=\u001b[39mproxies)\n\u001b[1;32m      3\u001b[0m soup \u001b[38;5;241m=\u001b[39m BeautifulSoup(response\u001b[38;5;241m.\u001b[39mcontent)\n\u001b[0;32m----> 4\u001b[0m fields \u001b[38;5;241m=\u001b[39m {\u001b[38;5;124m'\u001b[39m\u001b[38;5;124mTitle\u001b[39m\u001b[38;5;124m'\u001b[39m: \u001b[43msoup\u001b[49m\u001b[38;5;241;43m.\u001b[39;49m\u001b[43mselect_one\u001b[49m\u001b[43m(\u001b[49m\u001b[38;5;124;43m'\u001b[39;49m\u001b[38;5;124;43mh1.scoreboard__title\u001b[39;49m\u001b[38;5;124;43m'\u001b[39;49m\u001b[43m)\u001b[49m\u001b[38;5;241;43m.\u001b[39;49m\u001b[43mtext\u001b[49m,\n\u001b[1;32m      5\u001b[0m           \u001b[38;5;124m'\u001b[39m\u001b[38;5;124mSynopsis\u001b[39m\u001b[38;5;124m'\u001b[39m: soup\u001b[38;5;241m.\u001b[39mselect_one(\u001b[38;5;124m'\u001b[39m\u001b[38;5;124m#movieSynopsis\u001b[39m\u001b[38;5;124m'\u001b[39m)\u001b[38;5;241m.\u001b[39mtext\u001b[38;5;241m.\u001b[39mstrip(),\n\u001b[1;32m      6\u001b[0m           \u001b[38;5;124m'\u001b[39m\u001b[38;5;124mCasts_and_crew\u001b[39m\u001b[38;5;124m'\u001b[39m: (\n\u001b[1;32m      7\u001b[0m               \u001b[38;5;124m'\u001b[39m\u001b[38;5;124m, \u001b[39m\u001b[38;5;124m'\u001b[39m\u001b[38;5;241m.\u001b[39mjoin([name\u001b[38;5;241m.\u001b[39mget_text()\u001b[38;5;241m.\u001b[39mstrip()\n\u001b[1;32m      8\u001b[0m                          \u001b[38;5;28;01mfor\u001b[39;00m name \u001b[38;5;129;01min\u001b[39;00m soup\u001b[38;5;241m.\u001b[39mselect(\n\u001b[1;32m      9\u001b[0m                              \u001b[38;5;124m\"\u001b[39m\u001b[38;5;124m#movie-cast > div > div > div > div.media-body > a > span\u001b[39m\u001b[38;5;124m\"\u001b[39m)]))}\n\u001b[1;32m     10\u001b[0m fields2 \u001b[38;5;241m=\u001b[39m [a\u001b[38;5;241m.\u001b[39mget_text()\u001b[38;5;241m.\u001b[39mreplace(\u001b[38;5;124m'\u001b[39m\u001b[38;5;130;01m\\n\u001b[39;00m\u001b[38;5;124m'\u001b[39m, \u001b[38;5;124m\"\u001b[39m\u001b[38;5;124m\"\u001b[39m)\u001b[38;5;241m.\u001b[39mreplace(\u001b[38;5;124m\"\u001b[39m\u001b[38;5;124m  \u001b[39m\u001b[38;5;124m\"\u001b[39m, \u001b[38;5;124m'\u001b[39m\u001b[38;5;124m'\u001b[39m)\u001b[38;5;241m.\u001b[39mstrip(\n\u001b[1;32m     11\u001b[0m )\u001b[38;5;241m.\u001b[39msplit(\u001b[38;5;124m'\u001b[39m\u001b[38;5;124m:\u001b[39m\u001b[38;5;124m'\u001b[39m) \u001b[38;5;28;01mfor\u001b[39;00m a \u001b[38;5;129;01min\u001b[39;00m soup\u001b[38;5;241m.\u001b[39mselect(\u001b[38;5;124m'\u001b[39m\u001b[38;5;124mli.meta-row\u001b[39m\u001b[38;5;124m'\u001b[39m)]\n\u001b[1;32m     12\u001b[0m fields2 \u001b[38;5;241m=\u001b[39m {x[\u001b[38;5;241m0\u001b[39m]: x[\u001b[38;5;241m1\u001b[39m] \u001b[38;5;28;01mfor\u001b[39;00m x \u001b[38;5;129;01min\u001b[39;00m fields2}\n",
      "\u001b[0;31mAttributeError\u001b[0m: 'NoneType' object has no attribute 'text'"
     ]
    }
   ],
   "source": [
    "# movie_links_cd15 = {A:N for (A,N) in [x for x in movie_links_cd14.items()][169:]}\n",
    "# df_movie_info_cd15 = df_movie_info_cd14.copy()\n",
    "\n",
    "# for movie, link in tqdm(movie_links_cd15.items()):\n",
    "#     cols = [col for col in get_movie_info(link).keys()]\n",
    "#     data = get_movie_info(link).values()\n",
    "#     df1 = (pd.DataFrame(data, cols).T)\n",
    "#     df_movie_info_cd15 = pd.concat([df_movie_info_cd15, df1], ignore_index=True)\n",
    "# display(df_movie_info_cd15)"
   ]
  },
  {
   "cell_type": "markdown",
   "id": "5edb91bd",
   "metadata": {},
   "source": [
    "#### Append the 16th batch\n",
    "Append the 16th batch of movie info from the links in movie_links_cd:"
   ]
  },
  {
   "cell_type": "code",
   "execution_count": 254,
   "id": "a195d6f4",
   "metadata": {
    "ExecuteTime": {
     "end_time": "2022-11-13T03:46:18.815431Z",
     "start_time": "2022-11-13T03:35:59.872824Z"
    }
   },
   "outputs": [
    {
     "name": "stderr",
     "output_type": "stream",
     "text": [
      "100%|██████████| 368/368 [10:18<00:00,  1.68s/it]\n"
     ]
    },
    {
     "data": {
      "text/html": [
       "<div>\n",
       "<style scoped>\n",
       "    .dataframe tbody tr th:only-of-type {\n",
       "        vertical-align: middle;\n",
       "    }\n",
       "\n",
       "    .dataframe tbody tr th {\n",
       "        vertical-align: top;\n",
       "    }\n",
       "\n",
       "    .dataframe thead th {\n",
       "        text-align: right;\n",
       "    }\n",
       "</style>\n",
       "<table border=\"1\" class=\"dataframe\">\n",
       "  <thead>\n",
       "    <tr style=\"text-align: right;\">\n",
       "      <th></th>\n",
       "      <th>Title</th>\n",
       "      <th>Aspect Ratio</th>\n",
       "      <th>Box Office (Gross USA)</th>\n",
       "      <th>Casts_and_crew</th>\n",
       "      <th>Director</th>\n",
       "      <th>Distributor</th>\n",
       "      <th>Genre</th>\n",
       "      <th>Original Language</th>\n",
       "      <th>Producer</th>\n",
       "      <th>Rating</th>\n",
       "      <th>Release Date (Streaming)</th>\n",
       "      <th>Release Date (Theaters)</th>\n",
       "      <th>Runtime</th>\n",
       "      <th>Sound Mix</th>\n",
       "      <th>Synopsis</th>\n",
       "      <th>View the collection</th>\n",
       "      <th>Writer</th>\n",
       "    </tr>\n",
       "  </thead>\n",
       "  <tbody>\n",
       "    <tr>\n",
       "      <th>0</th>\n",
       "      <td>Nostalgia</td>\n",
       "      <td>NaN</td>\n",
       "      <td>NaN</td>\n",
       "      <td>Pierfrancesco Favino, Francesco Di Leva, Tomma...</td>\n",
       "      <td>Mario Martone</td>\n",
       "      <td>NaN</td>\n",
       "      <td>Drama</td>\n",
       "      <td>Italian</td>\n",
       "      <td>Roberto Sessa, Luciano Stella, Maria Carolina ...</td>\n",
       "      <td>NaN</td>\n",
       "      <td>NaN</td>\n",
       "      <td>NaN</td>\n",
       "      <td>1h 58m</td>\n",
       "      <td>NaN</td>\n",
       "      <td>After living 40 years abroad, Felice returns t...</td>\n",
       "      <td>NaN</td>\n",
       "      <td>Mario Martone, Ippolita Di Majo</td>\n",
       "    </tr>\n",
       "    <tr>\n",
       "      <th>1</th>\n",
       "      <td>Close</td>\n",
       "      <td>NaN</td>\n",
       "      <td>NaN</td>\n",
       "      <td>Eden Dambrine, Gustav De Waele, Émilie Dequenn...</td>\n",
       "      <td>Lukas Dhont</td>\n",
       "      <td>NaN</td>\n",
       "      <td>Drama</td>\n",
       "      <td>Dutch</td>\n",
       "      <td>Michiel Dhont, Dirk Impens</td>\n",
       "      <td>PG-13 (Brief Strong Language|Thematic Material...</td>\n",
       "      <td>NaN</td>\n",
       "      <td>NaN</td>\n",
       "      <td>1h 45m</td>\n",
       "      <td>NaN</td>\n",
       "      <td>Leo and Remi are two thirteen-year-old best fr...</td>\n",
       "      <td>NaN</td>\n",
       "      <td>Lukas Dhont, Angelo Tijssens</td>\n",
       "    </tr>\n",
       "    <tr>\n",
       "      <th>2</th>\n",
       "      <td>Leila's Brothers</td>\n",
       "      <td>NaN</td>\n",
       "      <td>NaN</td>\n",
       "      <td>Taraneh Alidoosti, Navid Mohammadzadeh, Peyman...</td>\n",
       "      <td>Saeed Roustayi</td>\n",
       "      <td>NaN</td>\n",
       "      <td>Drama</td>\n",
       "      <td>Persian</td>\n",
       "      <td>Javad Noruzbegi, Saeed Roustayi</td>\n",
       "      <td>NaN</td>\n",
       "      <td>NaN</td>\n",
       "      <td>NaN</td>\n",
       "      <td>2h 45m</td>\n",
       "      <td>NaN</td>\n",
       "      <td>At 40 years old, Leila has spent her whole lif...</td>\n",
       "      <td>NaN</td>\n",
       "      <td>Saeed Roustayi</td>\n",
       "    </tr>\n",
       "    <tr>\n",
       "      <th>3</th>\n",
       "      <td>Rodeo</td>\n",
       "      <td>NaN</td>\n",
       "      <td>NaN</td>\n",
       "      <td>Julie Ledru, Yannis Lafki, Louis Sotton, Junio...</td>\n",
       "      <td>Lola Quivoron</td>\n",
       "      <td>NaN</td>\n",
       "      <td>Drama</td>\n",
       "      <td>French</td>\n",
       "      <td>Charles Gillibert</td>\n",
       "      <td>NaN</td>\n",
       "      <td>NaN</td>\n",
       "      <td>NaN</td>\n",
       "      <td>1h 44m</td>\n",
       "      <td>NaN</td>\n",
       "      <td>Hot tempered and fiercely independent, Julia f...</td>\n",
       "      <td>NaN</td>\n",
       "      <td>Lola Quivoron, Antonia Buresi</td>\n",
       "    </tr>\n",
       "    <tr>\n",
       "      <th>4</th>\n",
       "      <td>Tchaikovsky's Wife</td>\n",
       "      <td>NaN</td>\n",
       "      <td>NaN</td>\n",
       "      <td>Alyona Mikhailova, Nikita Elenev, Kirill Sereb...</td>\n",
       "      <td>Kirill Serebrennikov</td>\n",
       "      <td>NaN</td>\n",
       "      <td>Biography, Drama</td>\n",
       "      <td>Russian</td>\n",
       "      <td>Ilya Stewart</td>\n",
       "      <td>NaN</td>\n",
       "      <td>NaN</td>\n",
       "      <td>NaN</td>\n",
       "      <td>2h 23m</td>\n",
       "      <td>NaN</td>\n",
       "      <td>Tumultuous relationship between Pyotr Tchaikov...</td>\n",
       "      <td>NaN</td>\n",
       "      <td>NaN</td>\n",
       "    </tr>\n",
       "    <tr>\n",
       "      <th>...</th>\n",
       "      <td>...</td>\n",
       "      <td>...</td>\n",
       "      <td>...</td>\n",
       "      <td>...</td>\n",
       "      <td>...</td>\n",
       "      <td>...</td>\n",
       "      <td>...</td>\n",
       "      <td>...</td>\n",
       "      <td>...</td>\n",
       "      <td>...</td>\n",
       "      <td>...</td>\n",
       "      <td>...</td>\n",
       "      <td>...</td>\n",
       "      <td>...</td>\n",
       "      <td>...</td>\n",
       "      <td>...</td>\n",
       "      <td>...</td>\n",
       "    </tr>\n",
       "    <tr>\n",
       "      <th>4634</th>\n",
       "      <td>Pitch Perfect 3</td>\n",
       "      <td>Flat (1.85</td>\n",
       "      <td>$104.9M</td>\n",
       "      <td>Anna Kendrick, Hailee Steinfeld, Rebel Wilson,...</td>\n",
       "      <td>Trish Sie</td>\n",
       "      <td>Universal Pictures</td>\n",
       "      <td>Musical, Comedy</td>\n",
       "      <td>English</td>\n",
       "      <td>Paul Brooks, Max Handelman, Elizabeth Banks</td>\n",
       "      <td>PG-13 (Language|Crude and Sexual Content|Some ...</td>\n",
       "      <td>Mar 20, 2018</td>\n",
       "      <td>Dec 22, 2017 wide</td>\n",
       "      <td>1h 34m</td>\n",
       "      <td>Dolby Digital</td>\n",
       "      <td>After the highs of winning the world champions...</td>\n",
       "      <td>NaN</td>\n",
       "      <td>Kay Cannon, Mike White</td>\n",
       "    </tr>\n",
       "    <tr>\n",
       "      <th>4635</th>\n",
       "      <td>The Star</td>\n",
       "      <td>Flat (1.85</td>\n",
       "      <td>$40.4M</td>\n",
       "      <td>Steven Yeun, Keegan-Michael Key, Aidy Bryant, ...</td>\n",
       "      <td>Timothy Reckart</td>\n",
       "      <td>Sony Pictures Entertainment</td>\n",
       "      <td>Kids &amp; family, Holiday, Comedy, Adventure, Ani...</td>\n",
       "      <td>English</td>\n",
       "      <td>Jenni Magee-Cook</td>\n",
       "      <td>PG (Some Thematic Elements)</td>\n",
       "      <td>Feb 20, 2018</td>\n",
       "      <td>Nov 17, 2017 wide</td>\n",
       "      <td>1h 26m</td>\n",
       "      <td>DTS, Dolby Atmos, Dolby Digital</td>\n",
       "      <td>A small but brave donkey named Bo yearns for a...</td>\n",
       "      <td>NaN</td>\n",
       "      <td>Carlos Kotkin</td>\n",
       "    </tr>\n",
       "    <tr>\n",
       "      <th>4636</th>\n",
       "      <td>LBJ</td>\n",
       "      <td>Flat (1.85</td>\n",
       "      <td>$2.5M</td>\n",
       "      <td>Woody Harrelson, Richard Jenkins, Jennifer Jas...</td>\n",
       "      <td>Rob Reiner</td>\n",
       "      <td>Electric Entertainment</td>\n",
       "      <td>History, Drama, Biography</td>\n",
       "      <td>English</td>\n",
       "      <td>Matthew George, Liz Glotzer, Rob Reiner, Tim W...</td>\n",
       "      <td>R (Language)</td>\n",
       "      <td>Feb 6, 2018</td>\n",
       "      <td>Nov 3, 2017 wide</td>\n",
       "      <td>1h 38m</td>\n",
       "      <td>NaN</td>\n",
       "      <td>Lyndon Johnson (Woody Harrelson) goes from bei...</td>\n",
       "      <td>NaN</td>\n",
       "      <td>Joey Hartstone</td>\n",
       "    </tr>\n",
       "    <tr>\n",
       "      <th>4637</th>\n",
       "      <td>Ferdinand</td>\n",
       "      <td>Scope (2.35</td>\n",
       "      <td>$84.2M</td>\n",
       "      <td>John Cena, Kate McKinnon, Gina Rodriguez, Dave...</td>\n",
       "      <td>Carlos Saldanha</td>\n",
       "      <td>20th Century Fox</td>\n",
       "      <td>Kids &amp; family, Comedy, Adventure, Animation</td>\n",
       "      <td>English</td>\n",
       "      <td>Bruce Anderson, John Davis, Lori Forte, Lisa M...</td>\n",
       "      <td>PG (Rude Humor|Action|Some Thematic Elements)</td>\n",
       "      <td>Mar 13, 2018</td>\n",
       "      <td>Dec 15, 2017 wide</td>\n",
       "      <td>1h 48m</td>\n",
       "      <td>Dolby Digital, Dolby Atmos</td>\n",
       "      <td>Ferdinand is a young bull who escapes from a t...</td>\n",
       "      <td>NaN</td>\n",
       "      <td>Robert L. Baird, Tim Federle, Brad Copeland</td>\n",
       "    </tr>\n",
       "    <tr>\n",
       "      <th>4638</th>\n",
       "      <td>Darkest Hour</td>\n",
       "      <td>Flat (1.85</td>\n",
       "      <td>$56.3M</td>\n",
       "      <td>Gary Oldman, Kristin Scott Thomas, Ben Mendels...</td>\n",
       "      <td>Joe Wright</td>\n",
       "      <td>Focus Features</td>\n",
       "      <td>History, Drama, Biography, War</td>\n",
       "      <td>English</td>\n",
       "      <td>Tim Bevan, Eric Fellner, Lisa Bruce, Anthony M...</td>\n",
       "      <td>PG-13 (Some Thematic Material)</td>\n",
       "      <td>Feb 27, 2018</td>\n",
       "      <td>Dec 22, 2017 wide</td>\n",
       "      <td>2h 5m</td>\n",
       "      <td>Dolby Atmos</td>\n",
       "      <td>The fate of Western Europe hangs on Winston Ch...</td>\n",
       "      <td>NaN</td>\n",
       "      <td>Anthony McCarten</td>\n",
       "    </tr>\n",
       "  </tbody>\n",
       "</table>\n",
       "<p>4639 rows × 17 columns</p>\n",
       "</div>"
      ],
      "text/plain": [
       "                   Title Aspect Ratio Box Office (Gross USA)  \\\n",
       "0              Nostalgia          NaN                    NaN   \n",
       "1                  Close          NaN                    NaN   \n",
       "2       Leila's Brothers          NaN                    NaN   \n",
       "3                  Rodeo          NaN                    NaN   \n",
       "4     Tchaikovsky's Wife          NaN                    NaN   \n",
       "...                  ...          ...                    ...   \n",
       "4634     Pitch Perfect 3   Flat (1.85                $104.9M   \n",
       "4635            The Star   Flat (1.85                 $40.4M   \n",
       "4636                 LBJ   Flat (1.85                  $2.5M   \n",
       "4637           Ferdinand  Scope (2.35                 $84.2M   \n",
       "4638        Darkest Hour   Flat (1.85                 $56.3M   \n",
       "\n",
       "                                         Casts_and_crew              Director  \\\n",
       "0     Pierfrancesco Favino, Francesco Di Leva, Tomma...         Mario Martone   \n",
       "1     Eden Dambrine, Gustav De Waele, Émilie Dequenn...           Lukas Dhont   \n",
       "2     Taraneh Alidoosti, Navid Mohammadzadeh, Peyman...        Saeed Roustayi   \n",
       "3     Julie Ledru, Yannis Lafki, Louis Sotton, Junio...         Lola Quivoron   \n",
       "4     Alyona Mikhailova, Nikita Elenev, Kirill Sereb...  Kirill Serebrennikov   \n",
       "...                                                 ...                   ...   \n",
       "4634  Anna Kendrick, Hailee Steinfeld, Rebel Wilson,...             Trish Sie   \n",
       "4635  Steven Yeun, Keegan-Michael Key, Aidy Bryant, ...       Timothy Reckart   \n",
       "4636  Woody Harrelson, Richard Jenkins, Jennifer Jas...            Rob Reiner   \n",
       "4637  John Cena, Kate McKinnon, Gina Rodriguez, Dave...       Carlos Saldanha   \n",
       "4638  Gary Oldman, Kristin Scott Thomas, Ben Mendels...            Joe Wright   \n",
       "\n",
       "                      Distributor  \\\n",
       "0                             NaN   \n",
       "1                             NaN   \n",
       "2                             NaN   \n",
       "3                             NaN   \n",
       "4                             NaN   \n",
       "...                           ...   \n",
       "4634           Universal Pictures   \n",
       "4635  Sony Pictures Entertainment   \n",
       "4636       Electric Entertainment   \n",
       "4637             20th Century Fox   \n",
       "4638               Focus Features   \n",
       "\n",
       "                                                  Genre Original Language  \\\n",
       "0                                                 Drama           Italian   \n",
       "1                                                 Drama             Dutch   \n",
       "2                                                 Drama           Persian   \n",
       "3                                                 Drama            French   \n",
       "4                                      Biography, Drama           Russian   \n",
       "...                                                 ...               ...   \n",
       "4634                                    Musical, Comedy           English   \n",
       "4635  Kids & family, Holiday, Comedy, Adventure, Ani...           English   \n",
       "4636                          History, Drama, Biography           English   \n",
       "4637        Kids & family, Comedy, Adventure, Animation           English   \n",
       "4638                     History, Drama, Biography, War           English   \n",
       "\n",
       "                                               Producer  \\\n",
       "0     Roberto Sessa, Luciano Stella, Maria Carolina ...   \n",
       "1                            Michiel Dhont, Dirk Impens   \n",
       "2                       Javad Noruzbegi, Saeed Roustayi   \n",
       "3                                     Charles Gillibert   \n",
       "4                                          Ilya Stewart   \n",
       "...                                                 ...   \n",
       "4634        Paul Brooks, Max Handelman, Elizabeth Banks   \n",
       "4635                                   Jenni Magee-Cook   \n",
       "4636  Matthew George, Liz Glotzer, Rob Reiner, Tim W...   \n",
       "4637  Bruce Anderson, John Davis, Lori Forte, Lisa M...   \n",
       "4638  Tim Bevan, Eric Fellner, Lisa Bruce, Anthony M...   \n",
       "\n",
       "                                                 Rating  \\\n",
       "0                                                   NaN   \n",
       "1     PG-13 (Brief Strong Language|Thematic Material...   \n",
       "2                                                   NaN   \n",
       "3                                                   NaN   \n",
       "4                                                   NaN   \n",
       "...                                                 ...   \n",
       "4634  PG-13 (Language|Crude and Sexual Content|Some ...   \n",
       "4635                        PG (Some Thematic Elements)   \n",
       "4636                                       R (Language)   \n",
       "4637      PG (Rude Humor|Action|Some Thematic Elements)   \n",
       "4638                     PG-13 (Some Thematic Material)   \n",
       "\n",
       "     Release Date (Streaming) Release Date (Theaters) Runtime  \\\n",
       "0                         NaN                     NaN  1h 58m   \n",
       "1                         NaN                     NaN  1h 45m   \n",
       "2                         NaN                     NaN  2h 45m   \n",
       "3                         NaN                     NaN  1h 44m   \n",
       "4                         NaN                     NaN  2h 23m   \n",
       "...                       ...                     ...     ...   \n",
       "4634             Mar 20, 2018       Dec 22, 2017 wide  1h 34m   \n",
       "4635             Feb 20, 2018       Nov 17, 2017 wide  1h 26m   \n",
       "4636              Feb 6, 2018        Nov 3, 2017 wide  1h 38m   \n",
       "4637             Mar 13, 2018       Dec 15, 2017 wide  1h 48m   \n",
       "4638             Feb 27, 2018       Dec 22, 2017 wide   2h 5m   \n",
       "\n",
       "                            Sound Mix  \\\n",
       "0                                 NaN   \n",
       "1                                 NaN   \n",
       "2                                 NaN   \n",
       "3                                 NaN   \n",
       "4                                 NaN   \n",
       "...                               ...   \n",
       "4634                    Dolby Digital   \n",
       "4635  DTS, Dolby Atmos, Dolby Digital   \n",
       "4636                              NaN   \n",
       "4637       Dolby Digital, Dolby Atmos   \n",
       "4638                      Dolby Atmos   \n",
       "\n",
       "                                               Synopsis View the collection  \\\n",
       "0     After living 40 years abroad, Felice returns t...                 NaN   \n",
       "1     Leo and Remi are two thirteen-year-old best fr...                 NaN   \n",
       "2     At 40 years old, Leila has spent her whole lif...                 NaN   \n",
       "3     Hot tempered and fiercely independent, Julia f...                 NaN   \n",
       "4     Tumultuous relationship between Pyotr Tchaikov...                 NaN   \n",
       "...                                                 ...                 ...   \n",
       "4634  After the highs of winning the world champions...                 NaN   \n",
       "4635  A small but brave donkey named Bo yearns for a...                 NaN   \n",
       "4636  Lyndon Johnson (Woody Harrelson) goes from bei...                 NaN   \n",
       "4637  Ferdinand is a young bull who escapes from a t...                 NaN   \n",
       "4638  The fate of Western Europe hangs on Winston Ch...                 NaN   \n",
       "\n",
       "                                           Writer  \n",
       "0                 Mario Martone, Ippolita Di Majo  \n",
       "1                    Lukas Dhont, Angelo Tijssens  \n",
       "2                                  Saeed Roustayi  \n",
       "3                   Lola Quivoron, Antonia Buresi  \n",
       "4                                             NaN  \n",
       "...                                           ...  \n",
       "4634                       Kay Cannon, Mike White  \n",
       "4635                                Carlos Kotkin  \n",
       "4636                               Joey Hartstone  \n",
       "4637  Robert L. Baird, Tim Federle, Brad Copeland  \n",
       "4638                             Anthony McCarten  \n",
       "\n",
       "[4639 rows x 17 columns]"
      ]
     },
     "metadata": {},
     "output_type": "display_data"
    }
   ],
   "source": [
    "# movie_links_cd16 = {A:N for (A,N) in [x for x in movie_links_cd15.items()][864:]}\n",
    "# df_movie_info_cd16 = df_movie_info_cd15.copy()\n",
    "\n",
    "# for movie, link in tqdm(movie_links_cd16.items()):\n",
    "#     cols = [col for col in get_movie_info(link).keys()]\n",
    "#     data = get_movie_info(link).values()\n",
    "#     df1 = (pd.DataFrame(data, cols).T)\n",
    "#     df_movie_info_cd16 = pd.concat([df_movie_info_cd16, df1], ignore_index=True)\n",
    "# display(df_movie_info_cd16)"
   ]
  },
  {
   "cell_type": "markdown",
   "id": "b54ca631",
   "metadata": {},
   "source": [
    "#### Combine 9th and 16th batches"
   ]
  },
  {
   "cell_type": "code",
   "execution_count": 258,
   "id": "3368e673",
   "metadata": {
    "ExecuteTime": {
     "end_time": "2022-11-13T03:47:44.887323Z",
     "start_time": "2022-11-13T03:47:44.879807Z"
    }
   },
   "outputs": [
    {
     "name": "stdout",
     "output_type": "stream",
     "text": [
      "4044\n",
      "4639\n"
     ]
    }
   ],
   "source": [
    "# print(len(df_movie_info_cd9))\n",
    "# print(len(df_movie_info_cd16))"
   ]
  },
  {
   "cell_type": "code",
   "execution_count": 260,
   "id": "23dd30ea",
   "metadata": {
    "ExecuteTime": {
     "end_time": "2022-11-13T03:49:33.376300Z",
     "start_time": "2022-11-13T03:49:33.357197Z"
    }
   },
   "outputs": [],
   "source": [
    "# df_movie_info_countdowns = pd.concat([df_movie_info_cd16, df_movie_info_cd9], ignore_index=True)"
   ]
  },
  {
   "cell_type": "code",
   "execution_count": 261,
   "id": "7663a13a",
   "metadata": {
    "ExecuteTime": {
     "end_time": "2022-11-13T03:49:35.129603Z",
     "start_time": "2022-11-13T03:49:35.119163Z"
    }
   },
   "outputs": [
    {
     "data": {
      "text/plain": [
       "8683"
      ]
     },
     "execution_count": 261,
     "metadata": {},
     "output_type": "execute_result"
    }
   ],
   "source": [
    "# len(df_movie_info_countdowns)"
   ]
  },
  {
   "cell_type": "markdown",
   "id": "66cc9b82",
   "metadata": {},
   "source": [
    "## Save the data frame to a pickle file"
   ]
  },
  {
   "cell_type": "code",
   "execution_count": 86,
   "id": "4c2506aa",
   "metadata": {
    "ExecuteTime": {
     "end_time": "2022-11-12T22:06:12.488305Z",
     "start_time": "2022-11-12T22:06:12.453712Z"
    }
   },
   "outputs": [],
   "source": [
    "# df_movie_info_alltime.to_pickle(\"/mnt/processed/private/msds2023/lt2/Lab2/Movie_Info_All_Time_Lists.pkl\")"
   ]
  },
  {
   "cell_type": "code",
   "execution_count": 262,
   "id": "aaabdd6c",
   "metadata": {
    "ExecuteTime": {
     "end_time": "2022-11-13T03:50:53.270198Z",
     "start_time": "2022-11-13T03:50:53.188073Z"
    }
   },
   "outputs": [],
   "source": [
    "# df_movie_info_countdowns.to_pickle(\"/mnt/processed/private/msds2023/lt2/Lab2/Movie_Info_Countdown_Lists.pkl\")"
   ]
  },
  {
   "cell_type": "code",
   "execution_count": 87,
   "id": "723ebc59",
   "metadata": {
    "ExecuteTime": {
     "end_time": "2022-11-12T22:06:45.792868Z",
     "start_time": "2022-11-12T22:06:45.742628Z"
    }
   },
   "outputs": [
    {
     "data": {
      "text/html": [
       "<div>\n",
       "<style scoped>\n",
       "    .dataframe tbody tr th:only-of-type {\n",
       "        vertical-align: middle;\n",
       "    }\n",
       "\n",
       "    .dataframe tbody tr th {\n",
       "        vertical-align: top;\n",
       "    }\n",
       "\n",
       "    .dataframe thead th {\n",
       "        text-align: right;\n",
       "    }\n",
       "</style>\n",
       "<table border=\"1\" class=\"dataframe\">\n",
       "  <thead>\n",
       "    <tr style=\"text-align: right;\">\n",
       "      <th></th>\n",
       "      <th>Title</th>\n",
       "      <th>Aspect Ratio</th>\n",
       "      <th>Box Office (Gross USA)</th>\n",
       "      <th>Casts_and_crew</th>\n",
       "      <th>Director</th>\n",
       "      <th>Distributor</th>\n",
       "      <th>Genre</th>\n",
       "      <th>Original Language</th>\n",
       "      <th>Producer</th>\n",
       "      <th>Rating</th>\n",
       "      <th>Release Date (Streaming)</th>\n",
       "      <th>Release Date (Theaters)</th>\n",
       "      <th>Runtime</th>\n",
       "      <th>Sound Mix</th>\n",
       "      <th>Synopsis</th>\n",
       "      <th>View the collection</th>\n",
       "      <th>Writer</th>\n",
       "    </tr>\n",
       "  </thead>\n",
       "  <tbody>\n",
       "    <tr>\n",
       "      <th>0</th>\n",
       "      <td>One Missed Call</td>\n",
       "      <td>Flat (1.85</td>\n",
       "      <td>$26.9M</td>\n",
       "      <td>Shannyn Sossamon, Edward Burns, Ana Claudia Ta...</td>\n",
       "      <td>Éric Valette</td>\n",
       "      <td>Warner Bros.</td>\n",
       "      <td>Horror, Mystery &amp; thriller</td>\n",
       "      <td>English</td>\n",
       "      <td>Broderick Johnson, Andrew A. Kosove, Scott Kro...</td>\n",
       "      <td>PG-13 (Intense Sequences of Terror|Frightening...</td>\n",
       "      <td>Apr 22, 2008</td>\n",
       "      <td>Jan 4, 2008 wide</td>\n",
       "      <td>1h 27m</td>\n",
       "      <td>Dolby SRD, DTS, SDDS</td>\n",
       "      <td>When Beth Raymond (Shannyn Sossamon) witnesses...</td>\n",
       "      <td>NaN</td>\n",
       "      <td>Andrew Klavan</td>\n",
       "    </tr>\n",
       "    <tr>\n",
       "      <th>1</th>\n",
       "      <td>Cabin Fever</td>\n",
       "      <td>NaN</td>\n",
       "      <td>NaN</td>\n",
       "      <td>Nadine Crocker, Matthew Daddario, Samuel Davis...</td>\n",
       "      <td>Travis Zariwny</td>\n",
       "      <td>IFC Films</td>\n",
       "      <td>Horror</td>\n",
       "      <td>English</td>\n",
       "      <td>Evan Astrowsky, Christopher Lemole, Tim Zajaros</td>\n",
       "      <td>R (Language|Horror Violence and Gore|Nudity|Se...</td>\n",
       "      <td>Jul 5, 2016</td>\n",
       "      <td>Feb 12, 2016 limited</td>\n",
       "      <td>1h 39m</td>\n",
       "      <td>NaN</td>\n",
       "      <td>Fresh out of college, five friends (Nadine Cro...</td>\n",
       "      <td>NaN</td>\n",
       "      <td>Eli Roth, Randy Pearlstein</td>\n",
       "    </tr>\n",
       "    <tr>\n",
       "      <th>2</th>\n",
       "      <td>Kite</td>\n",
       "      <td>NaN</td>\n",
       "      <td>NaN</td>\n",
       "      <td>India Eisley, Callan McAuliffe, Samuel L. Jack...</td>\n",
       "      <td>Ralph Ziman</td>\n",
       "      <td>Freestyle Releasing</td>\n",
       "      <td>Action, Mystery &amp; thriller</td>\n",
       "      <td>English</td>\n",
       "      <td>Anant Singh, Brian Cox, Moisés Cosío</td>\n",
       "      <td>R (Strong Bloody Violence|Grisly Images|Drug a...</td>\n",
       "      <td>Nov 25, 2014</td>\n",
       "      <td>Oct 10, 2014 limited</td>\n",
       "      <td>1h 30m</td>\n",
       "      <td>NaN</td>\n",
       "      <td>With the help of her father's ex-partner (Samu...</td>\n",
       "      <td>NaN</td>\n",
       "      <td>Brian Cox</td>\n",
       "    </tr>\n",
       "    <tr>\n",
       "      <th>3</th>\n",
       "      <td>Rollerball</td>\n",
       "      <td>Flat (1.85</td>\n",
       "      <td>NaN</td>\n",
       "      <td>James Caan, John Houseman, Maud Adams, John Be...</td>\n",
       "      <td>Norman Jewison</td>\n",
       "      <td>United Artists</td>\n",
       "      <td>Sci-fi, Action</td>\n",
       "      <td>English</td>\n",
       "      <td>Norman Jewison</td>\n",
       "      <td>R</td>\n",
       "      <td>Jun 5, 2001</td>\n",
       "      <td>Jan 1, 1975 wide</td>\n",
       "      <td>2h 8m</td>\n",
       "      <td>Stereo</td>\n",
       "      <td>The year is 2018 in a futuristic society where...</td>\n",
       "      <td>NaN</td>\n",
       "      <td>William Harrison, William Harrison</td>\n",
       "    </tr>\n",
       "    <tr>\n",
       "      <th>4</th>\n",
       "      <td>Flatliners</td>\n",
       "      <td>Scope (2.35</td>\n",
       "      <td>$16.9M</td>\n",
       "      <td>Diego Luna, Nina Dobrev, James Norton, Kiersey...</td>\n",
       "      <td>Niels Arden Oplev</td>\n",
       "      <td>Sony Pictures Entertainment</td>\n",
       "      <td>Mystery &amp; thriller, Sci-fi</td>\n",
       "      <td>English</td>\n",
       "      <td>Laurence Mark, Michael Douglas, Peter Safran</td>\n",
       "      <td>PG-13 (Sexual Content|Language|Some Drug Refer...</td>\n",
       "      <td>Dec 19, 2017</td>\n",
       "      <td>Sep 29, 2017 wide</td>\n",
       "      <td>1h 48m</td>\n",
       "      <td>Dolby Atmos</td>\n",
       "      <td>Five medical students embark on a daring and d...</td>\n",
       "      <td>NaN</td>\n",
       "      <td>Ben Ripley</td>\n",
       "    </tr>\n",
       "    <tr>\n",
       "      <th>...</th>\n",
       "      <td>...</td>\n",
       "      <td>...</td>\n",
       "      <td>...</td>\n",
       "      <td>...</td>\n",
       "      <td>...</td>\n",
       "      <td>...</td>\n",
       "      <td>...</td>\n",
       "      <td>...</td>\n",
       "      <td>...</td>\n",
       "      <td>...</td>\n",
       "      <td>...</td>\n",
       "      <td>...</td>\n",
       "      <td>...</td>\n",
       "      <td>...</td>\n",
       "      <td>...</td>\n",
       "      <td>...</td>\n",
       "      <td>...</td>\n",
       "    </tr>\n",
       "    <tr>\n",
       "      <th>1547</th>\n",
       "      <td>Ghost World</td>\n",
       "      <td>Flat (1.85</td>\n",
       "      <td>$6.2M</td>\n",
       "      <td>Thora Birch, Scarlett Johansson, Steve Buscemi...</td>\n",
       "      <td>Terry Zwigoff</td>\n",
       "      <td>United Artists</td>\n",
       "      <td>Comedy, Drama</td>\n",
       "      <td>English</td>\n",
       "      <td>Lianne Halfon, John Malkovich, Russell Smith</td>\n",
       "      <td>R (Strong Language|Some Sexual Content)</td>\n",
       "      <td>Feb 5, 2002</td>\n",
       "      <td>Jun 16, 2001 original</td>\n",
       "      <td>1h 51m</td>\n",
       "      <td>Dolby SR, DTS, Dolby Stereo, Surround, SDDS, D...</td>\n",
       "      <td>The story of neo-cool Enid (Thora Birch) and R...</td>\n",
       "      <td>NaN</td>\n",
       "      <td>Terry Zwigoff, Daniel Clowes, Daniel Clowes</td>\n",
       "    </tr>\n",
       "    <tr>\n",
       "      <th>1548</th>\n",
       "      <td>Juno</td>\n",
       "      <td>Flat (1.85</td>\n",
       "      <td>$143.5M</td>\n",
       "      <td>Elliot Page, Michael Cera, Jennifer Garner, Ja...</td>\n",
       "      <td>Jason Reitman</td>\n",
       "      <td>Fox</td>\n",
       "      <td>Comedy, Drama</td>\n",
       "      <td>English</td>\n",
       "      <td>Lianne Halfon, John Malkovich, Mason Novick, R...</td>\n",
       "      <td>PG-13 (Mature Thematic Material|Language|Sexua...</td>\n",
       "      <td>Apr 15, 2008</td>\n",
       "      <td>Dec 25, 2007 wide</td>\n",
       "      <td>1h 36m</td>\n",
       "      <td>SDDS, Dolby Digital, DTS, Dolby SRD</td>\n",
       "      <td>When precocious teen Juno MacGuff becomes preg...</td>\n",
       "      <td>NaN</td>\n",
       "      <td>Diablo Cody</td>\n",
       "    </tr>\n",
       "    <tr>\n",
       "      <th>1549</th>\n",
       "      <td>The Edge of Seventeen</td>\n",
       "      <td>NaN</td>\n",
       "      <td>$14.4M</td>\n",
       "      <td>Hailee Steinfeld, Haley Lu Richardson, Blake J...</td>\n",
       "      <td>Kelly Fremon Craig</td>\n",
       "      <td>STX Entertainment</td>\n",
       "      <td>Comedy, Drama</td>\n",
       "      <td>English</td>\n",
       "      <td>James L. Brooks, Richard Sakai, Julie Ansell</td>\n",
       "      <td>R (Sexual Content|Language|Some Drinking)</td>\n",
       "      <td>Feb 14, 2017</td>\n",
       "      <td>Nov 18, 2016 wide</td>\n",
       "      <td>1h 45m</td>\n",
       "      <td>NaN</td>\n",
       "      <td>Everyone knows that growing up is hard, and li...</td>\n",
       "      <td>NaN</td>\n",
       "      <td>Kelly Fremon Craig</td>\n",
       "    </tr>\n",
       "    <tr>\n",
       "      <th>1550</th>\n",
       "      <td>Say Anything...</td>\n",
       "      <td>Flat (1.85</td>\n",
       "      <td>$20.0M</td>\n",
       "      <td>John Cusack, Ione Skye, John Mahoney, Lili Tay...</td>\n",
       "      <td>Cameron Crowe</td>\n",
       "      <td>20th Century Fox</td>\n",
       "      <td>Romance</td>\n",
       "      <td>English</td>\n",
       "      <td>Polly Platt</td>\n",
       "      <td>PG-13</td>\n",
       "      <td>Mar 5, 2002</td>\n",
       "      <td>Apr 14, 1989 wide</td>\n",
       "      <td>1h 40m</td>\n",
       "      <td>Surround, Dolby SR, Dolby A, Dolby Stereo</td>\n",
       "      <td>In a charming, critically acclaimed tale of fi...</td>\n",
       "      <td>NaN</td>\n",
       "      <td>Cameron Crowe</td>\n",
       "    </tr>\n",
       "    <tr>\n",
       "      <th>1551</th>\n",
       "      <td>The Last Picture Show</td>\n",
       "      <td>NaN</td>\n",
       "      <td>NaN</td>\n",
       "      <td>Timothy Bottoms, Jeff Bridges, Cybill Shepherd...</td>\n",
       "      <td>Peter Bogdanovich</td>\n",
       "      <td>Columbia Pictures</td>\n",
       "      <td>Drama</td>\n",
       "      <td>English</td>\n",
       "      <td>Stephen Friedman</td>\n",
       "      <td>R (Nudity|Language|Sexuality)</td>\n",
       "      <td>Nov 30, 1999</td>\n",
       "      <td>Jan 1, 1971 wide</td>\n",
       "      <td>1h 58m</td>\n",
       "      <td>Mono</td>\n",
       "      <td>High school seniors and best friends, Sonny (T...</td>\n",
       "      <td>NaN</td>\n",
       "      <td>Peter Bogdanovich, Larry McMurtry, Larry McMurtry</td>\n",
       "    </tr>\n",
       "  </tbody>\n",
       "</table>\n",
       "<p>1552 rows × 17 columns</p>\n",
       "</div>"
      ],
      "text/plain": [
       "                      Title Aspect Ratio Box Office (Gross USA)  \\\n",
       "0           One Missed Call   Flat (1.85                 $26.9M   \n",
       "1               Cabin Fever          NaN                    NaN   \n",
       "2                      Kite          NaN                    NaN   \n",
       "3                Rollerball   Flat (1.85                    NaN   \n",
       "4                Flatliners  Scope (2.35                 $16.9M   \n",
       "...                     ...          ...                    ...   \n",
       "1547            Ghost World   Flat (1.85                  $6.2M   \n",
       "1548                   Juno   Flat (1.85                $143.5M   \n",
       "1549  The Edge of Seventeen          NaN                 $14.4M   \n",
       "1550        Say Anything...   Flat (1.85                 $20.0M   \n",
       "1551  The Last Picture Show          NaN                    NaN   \n",
       "\n",
       "                                         Casts_and_crew            Director  \\\n",
       "0     Shannyn Sossamon, Edward Burns, Ana Claudia Ta...        Éric Valette   \n",
       "1     Nadine Crocker, Matthew Daddario, Samuel Davis...      Travis Zariwny   \n",
       "2     India Eisley, Callan McAuliffe, Samuel L. Jack...         Ralph Ziman   \n",
       "3     James Caan, John Houseman, Maud Adams, John Be...      Norman Jewison   \n",
       "4     Diego Luna, Nina Dobrev, James Norton, Kiersey...   Niels Arden Oplev   \n",
       "...                                                 ...                 ...   \n",
       "1547  Thora Birch, Scarlett Johansson, Steve Buscemi...       Terry Zwigoff   \n",
       "1548  Elliot Page, Michael Cera, Jennifer Garner, Ja...       Jason Reitman   \n",
       "1549  Hailee Steinfeld, Haley Lu Richardson, Blake J...  Kelly Fremon Craig   \n",
       "1550  John Cusack, Ione Skye, John Mahoney, Lili Tay...       Cameron Crowe   \n",
       "1551  Timothy Bottoms, Jeff Bridges, Cybill Shepherd...   Peter Bogdanovich   \n",
       "\n",
       "                      Distributor                       Genre  \\\n",
       "0                    Warner Bros.  Horror, Mystery & thriller   \n",
       "1                       IFC Films                      Horror   \n",
       "2             Freestyle Releasing  Action, Mystery & thriller   \n",
       "3                  United Artists              Sci-fi, Action   \n",
       "4     Sony Pictures Entertainment  Mystery & thriller, Sci-fi   \n",
       "...                           ...                         ...   \n",
       "1547               United Artists               Comedy, Drama   \n",
       "1548                          Fox               Comedy, Drama   \n",
       "1549            STX Entertainment               Comedy, Drama   \n",
       "1550             20th Century Fox                     Romance   \n",
       "1551            Columbia Pictures                       Drama   \n",
       "\n",
       "     Original Language                                           Producer  \\\n",
       "0              English  Broderick Johnson, Andrew A. Kosove, Scott Kro...   \n",
       "1              English    Evan Astrowsky, Christopher Lemole, Tim Zajaros   \n",
       "2              English               Anant Singh, Brian Cox, Moisés Cosío   \n",
       "3              English                                     Norman Jewison   \n",
       "4              English       Laurence Mark, Michael Douglas, Peter Safran   \n",
       "...                ...                                                ...   \n",
       "1547           English       Lianne Halfon, John Malkovich, Russell Smith   \n",
       "1548           English  Lianne Halfon, John Malkovich, Mason Novick, R...   \n",
       "1549           English       James L. Brooks, Richard Sakai, Julie Ansell   \n",
       "1550           English                                        Polly Platt   \n",
       "1551           English                                   Stephen Friedman   \n",
       "\n",
       "                                                 Rating  \\\n",
       "0     PG-13 (Intense Sequences of Terror|Frightening...   \n",
       "1     R (Language|Horror Violence and Gore|Nudity|Se...   \n",
       "2     R (Strong Bloody Violence|Grisly Images|Drug a...   \n",
       "3                                                     R   \n",
       "4     PG-13 (Sexual Content|Language|Some Drug Refer...   \n",
       "...                                                 ...   \n",
       "1547            R (Strong Language|Some Sexual Content)   \n",
       "1548  PG-13 (Mature Thematic Material|Language|Sexua...   \n",
       "1549          R (Sexual Content|Language|Some Drinking)   \n",
       "1550                                              PG-13   \n",
       "1551                      R (Nudity|Language|Sexuality)   \n",
       "\n",
       "     Release Date (Streaming) Release Date (Theaters) Runtime  \\\n",
       "0                Apr 22, 2008        Jan 4, 2008 wide  1h 27m   \n",
       "1                 Jul 5, 2016    Feb 12, 2016 limited  1h 39m   \n",
       "2                Nov 25, 2014    Oct 10, 2014 limited  1h 30m   \n",
       "3                 Jun 5, 2001        Jan 1, 1975 wide   2h 8m   \n",
       "4                Dec 19, 2017       Sep 29, 2017 wide  1h 48m   \n",
       "...                       ...                     ...     ...   \n",
       "1547              Feb 5, 2002   Jun 16, 2001 original  1h 51m   \n",
       "1548             Apr 15, 2008       Dec 25, 2007 wide  1h 36m   \n",
       "1549             Feb 14, 2017       Nov 18, 2016 wide  1h 45m   \n",
       "1550              Mar 5, 2002       Apr 14, 1989 wide  1h 40m   \n",
       "1551             Nov 30, 1999        Jan 1, 1971 wide  1h 58m   \n",
       "\n",
       "                                              Sound Mix  \\\n",
       "0                                  Dolby SRD, DTS, SDDS   \n",
       "1                                                   NaN   \n",
       "2                                                   NaN   \n",
       "3                                                Stereo   \n",
       "4                                           Dolby Atmos   \n",
       "...                                                 ...   \n",
       "1547  Dolby SR, DTS, Dolby Stereo, Surround, SDDS, D...   \n",
       "1548                SDDS, Dolby Digital, DTS, Dolby SRD   \n",
       "1549                                                NaN   \n",
       "1550          Surround, Dolby SR, Dolby A, Dolby Stereo   \n",
       "1551                                               Mono   \n",
       "\n",
       "                                               Synopsis View the collection  \\\n",
       "0     When Beth Raymond (Shannyn Sossamon) witnesses...                 NaN   \n",
       "1     Fresh out of college, five friends (Nadine Cro...                 NaN   \n",
       "2     With the help of her father's ex-partner (Samu...                 NaN   \n",
       "3     The year is 2018 in a futuristic society where...                 NaN   \n",
       "4     Five medical students embark on a daring and d...                 NaN   \n",
       "...                                                 ...                 ...   \n",
       "1547  The story of neo-cool Enid (Thora Birch) and R...                 NaN   \n",
       "1548  When precocious teen Juno MacGuff becomes preg...                 NaN   \n",
       "1549  Everyone knows that growing up is hard, and li...                 NaN   \n",
       "1550  In a charming, critically acclaimed tale of fi...                 NaN   \n",
       "1551  High school seniors and best friends, Sonny (T...                 NaN   \n",
       "\n",
       "                                                 Writer  \n",
       "0                                         Andrew Klavan  \n",
       "1                            Eli Roth, Randy Pearlstein  \n",
       "2                                             Brian Cox  \n",
       "3                    William Harrison, William Harrison  \n",
       "4                                            Ben Ripley  \n",
       "...                                                 ...  \n",
       "1547        Terry Zwigoff, Daniel Clowes, Daniel Clowes  \n",
       "1548                                        Diablo Cody  \n",
       "1549                                 Kelly Fremon Craig  \n",
       "1550                                      Cameron Crowe  \n",
       "1551  Peter Bogdanovich, Larry McMurtry, Larry McMurtry  \n",
       "\n",
       "[1552 rows x 17 columns]"
      ]
     },
     "execution_count": 87,
     "metadata": {},
     "output_type": "execute_result"
    }
   ],
   "source": [
    "# pd.read_pickle(\"/mnt/processed/private/msds2023/lt2/Lab2/Movie_Info_All_Time_Lists.pkl\")"
   ]
  },
  {
   "cell_type": "code",
   "execution_count": 263,
   "id": "9162d705",
   "metadata": {
    "ExecuteTime": {
     "end_time": "2022-11-13T03:51:20.202680Z",
     "start_time": "2022-11-13T03:51:20.139722Z"
    }
   },
   "outputs": [
    {
     "data": {
      "text/html": [
       "<div>\n",
       "<style scoped>\n",
       "    .dataframe tbody tr th:only-of-type {\n",
       "        vertical-align: middle;\n",
       "    }\n",
       "\n",
       "    .dataframe tbody tr th {\n",
       "        vertical-align: top;\n",
       "    }\n",
       "\n",
       "    .dataframe thead th {\n",
       "        text-align: right;\n",
       "    }\n",
       "</style>\n",
       "<table border=\"1\" class=\"dataframe\">\n",
       "  <thead>\n",
       "    <tr style=\"text-align: right;\">\n",
       "      <th></th>\n",
       "      <th>Title</th>\n",
       "      <th>Aspect Ratio</th>\n",
       "      <th>Box Office (Gross USA)</th>\n",
       "      <th>Casts_and_crew</th>\n",
       "      <th>Director</th>\n",
       "      <th>Distributor</th>\n",
       "      <th>Genre</th>\n",
       "      <th>Original Language</th>\n",
       "      <th>Producer</th>\n",
       "      <th>Rating</th>\n",
       "      <th>Release Date (Streaming)</th>\n",
       "      <th>Release Date (Theaters)</th>\n",
       "      <th>Runtime</th>\n",
       "      <th>Sound Mix</th>\n",
       "      <th>Synopsis</th>\n",
       "      <th>View the collection</th>\n",
       "      <th>Writer</th>\n",
       "    </tr>\n",
       "  </thead>\n",
       "  <tbody>\n",
       "    <tr>\n",
       "      <th>0</th>\n",
       "      <td>Nostalgia</td>\n",
       "      <td>NaN</td>\n",
       "      <td>NaN</td>\n",
       "      <td>Pierfrancesco Favino, Francesco Di Leva, Tomma...</td>\n",
       "      <td>Mario Martone</td>\n",
       "      <td>NaN</td>\n",
       "      <td>Drama</td>\n",
       "      <td>Italian</td>\n",
       "      <td>Roberto Sessa, Luciano Stella, Maria Carolina ...</td>\n",
       "      <td>NaN</td>\n",
       "      <td>NaN</td>\n",
       "      <td>NaN</td>\n",
       "      <td>1h 58m</td>\n",
       "      <td>NaN</td>\n",
       "      <td>After living 40 years abroad, Felice returns t...</td>\n",
       "      <td>NaN</td>\n",
       "      <td>Mario Martone, Ippolita Di Majo</td>\n",
       "    </tr>\n",
       "    <tr>\n",
       "      <th>1</th>\n",
       "      <td>Close</td>\n",
       "      <td>NaN</td>\n",
       "      <td>NaN</td>\n",
       "      <td>Eden Dambrine, Gustav De Waele, Émilie Dequenn...</td>\n",
       "      <td>Lukas Dhont</td>\n",
       "      <td>NaN</td>\n",
       "      <td>Drama</td>\n",
       "      <td>Dutch</td>\n",
       "      <td>Michiel Dhont, Dirk Impens</td>\n",
       "      <td>PG-13 (Brief Strong Language|Thematic Material...</td>\n",
       "      <td>NaN</td>\n",
       "      <td>NaN</td>\n",
       "      <td>1h 45m</td>\n",
       "      <td>NaN</td>\n",
       "      <td>Leo and Remi are two thirteen-year-old best fr...</td>\n",
       "      <td>NaN</td>\n",
       "      <td>Lukas Dhont, Angelo Tijssens</td>\n",
       "    </tr>\n",
       "    <tr>\n",
       "      <th>2</th>\n",
       "      <td>Leila's Brothers</td>\n",
       "      <td>NaN</td>\n",
       "      <td>NaN</td>\n",
       "      <td>Taraneh Alidoosti, Navid Mohammadzadeh, Peyman...</td>\n",
       "      <td>Saeed Roustayi</td>\n",
       "      <td>NaN</td>\n",
       "      <td>Drama</td>\n",
       "      <td>Persian</td>\n",
       "      <td>Javad Noruzbegi, Saeed Roustayi</td>\n",
       "      <td>NaN</td>\n",
       "      <td>NaN</td>\n",
       "      <td>NaN</td>\n",
       "      <td>2h 45m</td>\n",
       "      <td>NaN</td>\n",
       "      <td>At 40 years old, Leila has spent her whole lif...</td>\n",
       "      <td>NaN</td>\n",
       "      <td>Saeed Roustayi</td>\n",
       "    </tr>\n",
       "    <tr>\n",
       "      <th>3</th>\n",
       "      <td>Rodeo</td>\n",
       "      <td>NaN</td>\n",
       "      <td>NaN</td>\n",
       "      <td>Julie Ledru, Yannis Lafki, Louis Sotton, Junio...</td>\n",
       "      <td>Lola Quivoron</td>\n",
       "      <td>NaN</td>\n",
       "      <td>Drama</td>\n",
       "      <td>French</td>\n",
       "      <td>Charles Gillibert</td>\n",
       "      <td>NaN</td>\n",
       "      <td>NaN</td>\n",
       "      <td>NaN</td>\n",
       "      <td>1h 44m</td>\n",
       "      <td>NaN</td>\n",
       "      <td>Hot tempered and fiercely independent, Julia f...</td>\n",
       "      <td>NaN</td>\n",
       "      <td>Lola Quivoron, Antonia Buresi</td>\n",
       "    </tr>\n",
       "    <tr>\n",
       "      <th>4</th>\n",
       "      <td>Tchaikovsky's Wife</td>\n",
       "      <td>NaN</td>\n",
       "      <td>NaN</td>\n",
       "      <td>Alyona Mikhailova, Nikita Elenev, Kirill Sereb...</td>\n",
       "      <td>Kirill Serebrennikov</td>\n",
       "      <td>NaN</td>\n",
       "      <td>Biography, Drama</td>\n",
       "      <td>Russian</td>\n",
       "      <td>Ilya Stewart</td>\n",
       "      <td>NaN</td>\n",
       "      <td>NaN</td>\n",
       "      <td>NaN</td>\n",
       "      <td>2h 23m</td>\n",
       "      <td>NaN</td>\n",
       "      <td>Tumultuous relationship between Pyotr Tchaikov...</td>\n",
       "      <td>NaN</td>\n",
       "      <td>NaN</td>\n",
       "    </tr>\n",
       "    <tr>\n",
       "      <th>...</th>\n",
       "      <td>...</td>\n",
       "      <td>...</td>\n",
       "      <td>...</td>\n",
       "      <td>...</td>\n",
       "      <td>...</td>\n",
       "      <td>...</td>\n",
       "      <td>...</td>\n",
       "      <td>...</td>\n",
       "      <td>...</td>\n",
       "      <td>...</td>\n",
       "      <td>...</td>\n",
       "      <td>...</td>\n",
       "      <td>...</td>\n",
       "      <td>...</td>\n",
       "      <td>...</td>\n",
       "      <td>...</td>\n",
       "      <td>...</td>\n",
       "    </tr>\n",
       "    <tr>\n",
       "      <th>8678</th>\n",
       "      <td>Losin' It</td>\n",
       "      <td>NaN</td>\n",
       "      <td>NaN</td>\n",
       "      <td>Tom Cruise, Shelley Long, Jackie Earle Haley, ...</td>\n",
       "      <td>Curtis Hanson</td>\n",
       "      <td>NaN</td>\n",
       "      <td>Comedy</td>\n",
       "      <td>English</td>\n",
       "      <td>Bryan Gindoff, Hannah Hempstead</td>\n",
       "      <td>R</td>\n",
       "      <td>Mar 1, 2011</td>\n",
       "      <td>Aug 20, 1982 limited</td>\n",
       "      <td>1h 40m</td>\n",
       "      <td>NaN</td>\n",
       "      <td>A teenager (Tom Cruise) and his buddies drive ...</td>\n",
       "      <td>NaN</td>\n",
       "      <td>NaN</td>\n",
       "    </tr>\n",
       "    <tr>\n",
       "      <th>8679</th>\n",
       "      <td>Cocktail</td>\n",
       "      <td>NaN</td>\n",
       "      <td>$77.3M</td>\n",
       "      <td>Tom Cruise, Bryan Brown, Elisabeth Shue, Lisa ...</td>\n",
       "      <td>Roger Donaldson</td>\n",
       "      <td>Touchstone Pictures</td>\n",
       "      <td>Romance, Comedy, Drama</td>\n",
       "      <td>English</td>\n",
       "      <td>Robert W. Cort, Ted Field</td>\n",
       "      <td>R</td>\n",
       "      <td>Apr 29, 2003</td>\n",
       "      <td>Jul 29, 1988 original</td>\n",
       "      <td>1h 44m</td>\n",
       "      <td>Surround, Stereo</td>\n",
       "      <td>Brian Flanagan (Tom Cruise) wants a high-payin...</td>\n",
       "      <td>NaN</td>\n",
       "      <td>Heywood Gould</td>\n",
       "    </tr>\n",
       "    <tr>\n",
       "      <th>8680</th>\n",
       "      <td>All That Breathes</td>\n",
       "      <td>NaN</td>\n",
       "      <td>NaN</td>\n",
       "      <td>Shaunak Sen, Shaunak Sen, Aman Mann, Teddy Lei...</td>\n",
       "      <td>Shaunak Sen</td>\n",
       "      <td>Submarine Deluxe</td>\n",
       "      <td>Documentary</td>\n",
       "      <td>Hindi</td>\n",
       "      <td>Shaunak Sen, Aman Mann, Teddy Leifer</td>\n",
       "      <td>NaN</td>\n",
       "      <td>NaN</td>\n",
       "      <td>Oct 21, 2022 limited</td>\n",
       "      <td>1h 31m</td>\n",
       "      <td>NaN</td>\n",
       "      <td>In one of the world's most populated cities, c...</td>\n",
       "      <td>NaN</td>\n",
       "      <td>NaN</td>\n",
       "    </tr>\n",
       "    <tr>\n",
       "      <th>8681</th>\n",
       "      <td>More than Ever</td>\n",
       "      <td>NaN</td>\n",
       "      <td>NaN</td>\n",
       "      <td>Vicky Krieps, Gaspard Ulliel, Bjørn Floberg, E...</td>\n",
       "      <td>Emily Atef</td>\n",
       "      <td>NaN</td>\n",
       "      <td>Drama</td>\n",
       "      <td>French</td>\n",
       "      <td>Xénia Maingot</td>\n",
       "      <td>NaN</td>\n",
       "      <td>NaN</td>\n",
       "      <td>NaN</td>\n",
       "      <td>NaN</td>\n",
       "      <td>NaN</td>\n",
       "      <td>Hélène and Mathieu have been happy together ...</td>\n",
       "      <td>NaN</td>\n",
       "      <td>Emily Atef, Lars Hubrich</td>\n",
       "    </tr>\n",
       "    <tr>\n",
       "      <th>8682</th>\n",
       "      <td>Father &amp; Soldier</td>\n",
       "      <td>NaN</td>\n",
       "      <td>NaN</td>\n",
       "      <td>Omar Sy, Alassane Diong, Jonas Bloquet, Alassa...</td>\n",
       "      <td>Mathieu Vadepied</td>\n",
       "      <td>NaN</td>\n",
       "      <td>Drama, Action, War</td>\n",
       "      <td>French (France)</td>\n",
       "      <td>Bruno Nahon, Omar Sy</td>\n",
       "      <td>NaN</td>\n",
       "      <td>NaN</td>\n",
       "      <td>NaN</td>\n",
       "      <td>1h 40m</td>\n",
       "      <td>NaN</td>\n",
       "      <td>A father enlists in the army to stick by his t...</td>\n",
       "      <td>NaN</td>\n",
       "      <td>Olivier Demangel, Mathieu Vadepied</td>\n",
       "    </tr>\n",
       "  </tbody>\n",
       "</table>\n",
       "<p>8683 rows × 17 columns</p>\n",
       "</div>"
      ],
      "text/plain": [
       "                   Title Aspect Ratio Box Office (Gross USA)  \\\n",
       "0              Nostalgia          NaN                    NaN   \n",
       "1                  Close          NaN                    NaN   \n",
       "2       Leila's Brothers          NaN                    NaN   \n",
       "3                  Rodeo          NaN                    NaN   \n",
       "4     Tchaikovsky's Wife          NaN                    NaN   \n",
       "...                  ...          ...                    ...   \n",
       "8678           Losin' It          NaN                    NaN   \n",
       "8679            Cocktail          NaN                 $77.3M   \n",
       "8680   All That Breathes          NaN                    NaN   \n",
       "8681      More than Ever          NaN                    NaN   \n",
       "8682    Father & Soldier          NaN                    NaN   \n",
       "\n",
       "                                         Casts_and_crew              Director  \\\n",
       "0     Pierfrancesco Favino, Francesco Di Leva, Tomma...         Mario Martone   \n",
       "1     Eden Dambrine, Gustav De Waele, Émilie Dequenn...           Lukas Dhont   \n",
       "2     Taraneh Alidoosti, Navid Mohammadzadeh, Peyman...        Saeed Roustayi   \n",
       "3     Julie Ledru, Yannis Lafki, Louis Sotton, Junio...         Lola Quivoron   \n",
       "4     Alyona Mikhailova, Nikita Elenev, Kirill Sereb...  Kirill Serebrennikov   \n",
       "...                                                 ...                   ...   \n",
       "8678  Tom Cruise, Shelley Long, Jackie Earle Haley, ...         Curtis Hanson   \n",
       "8679  Tom Cruise, Bryan Brown, Elisabeth Shue, Lisa ...       Roger Donaldson   \n",
       "8680  Shaunak Sen, Shaunak Sen, Aman Mann, Teddy Lei...           Shaunak Sen   \n",
       "8681  Vicky Krieps, Gaspard Ulliel, Bjørn Floberg, E...            Emily Atef   \n",
       "8682  Omar Sy, Alassane Diong, Jonas Bloquet, Alassa...      Mathieu Vadepied   \n",
       "\n",
       "              Distributor                   Genre Original Language  \\\n",
       "0                     NaN                   Drama           Italian   \n",
       "1                     NaN                   Drama             Dutch   \n",
       "2                     NaN                   Drama           Persian   \n",
       "3                     NaN                   Drama            French   \n",
       "4                     NaN        Biography, Drama           Russian   \n",
       "...                   ...                     ...               ...   \n",
       "8678                  NaN                  Comedy           English   \n",
       "8679  Touchstone Pictures  Romance, Comedy, Drama           English   \n",
       "8680     Submarine Deluxe             Documentary             Hindi   \n",
       "8681                  NaN                   Drama            French   \n",
       "8682                  NaN      Drama, Action, War   French (France)   \n",
       "\n",
       "                                               Producer  \\\n",
       "0     Roberto Sessa, Luciano Stella, Maria Carolina ...   \n",
       "1                            Michiel Dhont, Dirk Impens   \n",
       "2                       Javad Noruzbegi, Saeed Roustayi   \n",
       "3                                     Charles Gillibert   \n",
       "4                                          Ilya Stewart   \n",
       "...                                                 ...   \n",
       "8678                    Bryan Gindoff, Hannah Hempstead   \n",
       "8679                          Robert W. Cort, Ted Field   \n",
       "8680               Shaunak Sen, Aman Mann, Teddy Leifer   \n",
       "8681                                      Xénia Maingot   \n",
       "8682                               Bruno Nahon, Omar Sy   \n",
       "\n",
       "                                                 Rating  \\\n",
       "0                                                   NaN   \n",
       "1     PG-13 (Brief Strong Language|Thematic Material...   \n",
       "2                                                   NaN   \n",
       "3                                                   NaN   \n",
       "4                                                   NaN   \n",
       "...                                                 ...   \n",
       "8678                                                  R   \n",
       "8679                                                  R   \n",
       "8680                                                NaN   \n",
       "8681                                                NaN   \n",
       "8682                                                NaN   \n",
       "\n",
       "     Release Date (Streaming) Release Date (Theaters) Runtime  \\\n",
       "0                         NaN                     NaN  1h 58m   \n",
       "1                         NaN                     NaN  1h 45m   \n",
       "2                         NaN                     NaN  2h 45m   \n",
       "3                         NaN                     NaN  1h 44m   \n",
       "4                         NaN                     NaN  2h 23m   \n",
       "...                       ...                     ...     ...   \n",
       "8678              Mar 1, 2011    Aug 20, 1982 limited  1h 40m   \n",
       "8679             Apr 29, 2003   Jul 29, 1988 original  1h 44m   \n",
       "8680                      NaN    Oct 21, 2022 limited  1h 31m   \n",
       "8681                      NaN                     NaN     NaN   \n",
       "8682                      NaN                     NaN  1h 40m   \n",
       "\n",
       "             Sound Mix                                           Synopsis  \\\n",
       "0                  NaN  After living 40 years abroad, Felice returns t...   \n",
       "1                  NaN  Leo and Remi are two thirteen-year-old best fr...   \n",
       "2                  NaN  At 40 years old, Leila has spent her whole lif...   \n",
       "3                  NaN  Hot tempered and fiercely independent, Julia f...   \n",
       "4                  NaN  Tumultuous relationship between Pyotr Tchaikov...   \n",
       "...                ...                                                ...   \n",
       "8678               NaN  A teenager (Tom Cruise) and his buddies drive ...   \n",
       "8679  Surround, Stereo  Brian Flanagan (Tom Cruise) wants a high-payin...   \n",
       "8680               NaN  In one of the world's most populated cities, c...   \n",
       "8681               NaN  Hélène and Mathieu have been happy together ...   \n",
       "8682               NaN  A father enlists in the army to stick by his t...   \n",
       "\n",
       "     View the collection                              Writer  \n",
       "0                    NaN     Mario Martone, Ippolita Di Majo  \n",
       "1                    NaN        Lukas Dhont, Angelo Tijssens  \n",
       "2                    NaN                      Saeed Roustayi  \n",
       "3                    NaN       Lola Quivoron, Antonia Buresi  \n",
       "4                    NaN                                 NaN  \n",
       "...                  ...                                 ...  \n",
       "8678                 NaN                                 NaN  \n",
       "8679                 NaN                       Heywood Gould  \n",
       "8680                 NaN                                 NaN  \n",
       "8681                 NaN            Emily Atef, Lars Hubrich  \n",
       "8682                 NaN  Olivier Demangel, Mathieu Vadepied  \n",
       "\n",
       "[8683 rows x 17 columns]"
      ]
     },
     "execution_count": 263,
     "metadata": {},
     "output_type": "execute_result"
    }
   ],
   "source": [
    "# pd.read_pickle(\"/mnt/processed/private/msds2023/lt2/Lab2/Movie_Info_Countdown_Lists.pkl\")"
   ]
  },
  {
   "cell_type": "markdown",
   "id": "fe992999",
   "metadata": {},
   "source": [
    "**END**"
   ]
  }
 ],
 "metadata": {
  "kernelspec": {
   "display_name": "Python 3 (ipykernel)",
   "language": "python",
   "name": "python3"
  },
  "language_info": {
   "codemirror_mode": {
    "name": "ipython",
    "version": 3
   },
   "file_extension": ".py",
   "mimetype": "text/x-python",
   "name": "python",
   "nbconvert_exporter": "python",
   "pygments_lexer": "ipython3",
   "version": "3.9.12"
  },
  "toc": {
   "base_numbering": 1,
   "nav_menu": {},
   "number_sections": true,
   "sideBar": true,
   "skip_h1_title": false,
   "title_cell": "Table of Contents",
   "title_sidebar": "Contents",
   "toc_cell": false,
   "toc_position": {
    "height": "calc(100% - 180px)",
    "left": "10px",
    "top": "150px",
    "width": "343.391px"
   },
   "toc_section_display": true,
   "toc_window_display": true
  }
 },
 "nbformat": 4,
 "nbformat_minor": 5
}
