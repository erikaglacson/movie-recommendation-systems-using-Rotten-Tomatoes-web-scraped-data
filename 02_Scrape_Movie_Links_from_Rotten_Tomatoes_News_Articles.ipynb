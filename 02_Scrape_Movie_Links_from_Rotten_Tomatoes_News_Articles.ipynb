{
 "cells": [
  {
   "cell_type": "code",
   "execution_count": 171,
   "id": "da336b79",
   "metadata": {
    "ExecuteTime": {
     "end_time": "2022-11-12T14:53:53.837138Z",
     "start_time": "2022-11-12T14:53:53.818830Z"
    },
    "deletable": false,
    "editable": false,
    "run_control": {
     "frozen": true
    }
   },
   "outputs": [],
   "source": [
    "import pandas as pd\n",
    "import requests\n",
    "from bs4 import BeautifulSoup\n",
    "from urllib.parse import urljoin\n",
    "from tqdm import tqdm"
   ]
  },
  {
   "cell_type": "markdown",
   "id": "bb77ed90",
   "metadata": {},
   "source": [
    "# Define Functions"
   ]
  },
  {
   "cell_type": "code",
   "execution_count": 186,
   "id": "fa9b4f9d",
   "metadata": {
    "ExecuteTime": {
     "end_time": "2022-11-12T15:12:23.932085Z",
     "start_time": "2022-11-12T15:12:23.917067Z"
    },
    "deletable": false,
    "editable": false,
    "run_control": {
     "frozen": true
    }
   },
   "outputs": [],
   "source": [
    "def scrape_lists(base, path):\n",
    "    url = urljoin(base, path)\n",
    "    url_next = None\n",
    "    soup = BeautifulSoup(requests.get(url, proxies=proxies).content)\n",
    "    \n",
    "    titles = [x.text for x in soup.select('.row .articleLink .title')]\n",
    "    links = [x['href'] for x in soup.select('.row .articleLink')]\n",
    "    years = [int(x.text[-4:]) for x in soup.select('.row .publication-date')]\n",
    "    \n",
    "    \n",
    "    df1 = (pd.DataFrame({'title': titles, 'link': links, 'year': years}))\n",
    "    \n",
    "    # If there is next page, scrape and append to dataframe\n",
    "    if bool(soup.select_one('.js-wpv-pagination-next-link')):\n",
    "        next_path = soup.select_one('.js-wpv-pagination-next-link')['href']\n",
    "        url_next = urljoin(base, next_path)\n",
    "        df2 = scrape_lists(base, url_next)\n",
    "        df1 = pd.concat([df1, df2], axis=0, ignore_index=True)\n",
    "    \n",
    "    return df1[df1['year'] > 2015]"
   ]
  },
  {
   "cell_type": "code",
   "execution_count": 133,
   "id": "dee2efe8",
   "metadata": {
    "ExecuteTime": {
     "end_time": "2022-11-12T14:38:58.355439Z",
     "start_time": "2022-11-12T14:38:58.346565Z"
    },
    "deletable": false,
    "editable": false,
    "run_control": {
     "frozen": true
    },
    "scrolled": true
   },
   "outputs": [],
   "source": [
    "def get_movies(url):\n",
    "    proxies = {'http': 'http://206.189.157.23'}\n",
    "    soup = BeautifulSoup(requests.get(url, proxies=proxies).content)\n",
    "    return {x.text:x['href'] for x in soup.select('.countdown-item h2 a')}"
   ]
  },
  {
   "cell_type": "markdown",
   "id": "c1a1fc49",
   "metadata": {},
   "source": [
    "# Scrape Articles from News Categories"
   ]
  },
  {
   "cell_type": "markdown",
   "id": "6fbdd651",
   "metadata": {},
   "source": [
    "## Scrape All-Time-Lists"
   ]
  },
  {
   "cell_type": "code",
   "execution_count": 187,
   "id": "247fb43c",
   "metadata": {
    "ExecuteTime": {
     "end_time": "2022-11-12T15:12:25.074551Z",
     "start_time": "2022-11-12T15:12:24.664179Z"
    },
    "deletable": false,
    "editable": false,
    "run_control": {
     "frozen": true
    },
    "scrolled": false
   },
   "outputs": [
    {
     "data": {
      "text/html": [
       "<div>\n",
       "<style scoped>\n",
       "    .dataframe tbody tr th:only-of-type {\n",
       "        vertical-align: middle;\n",
       "    }\n",
       "\n",
       "    .dataframe tbody tr th {\n",
       "        vertical-align: top;\n",
       "    }\n",
       "\n",
       "    .dataframe thead th {\n",
       "        text-align: right;\n",
       "    }\n",
       "</style>\n",
       "<table border=\"1\" class=\"dataframe\">\n",
       "  <thead>\n",
       "    <tr style=\"text-align: right;\">\n",
       "      <th></th>\n",
       "      <th>title</th>\n",
       "      <th>link</th>\n",
       "      <th>year</th>\n",
       "    </tr>\n",
       "  </thead>\n",
       "  <tbody>\n",
       "    <tr>\n",
       "      <th>0</th>\n",
       "      <td>The 30 Worst-Reviewed Remakes of All Time</td>\n",
       "      <td>https://editorial.rottentomatoes.com/guide/wor...</td>\n",
       "      <td>2022</td>\n",
       "    </tr>\n",
       "    <tr>\n",
       "      <th>1</th>\n",
       "      <td>57 Worst Sequels of All Time</td>\n",
       "      <td>https://editorial.rottentomatoes.com/guide/wor...</td>\n",
       "      <td>2022</td>\n",
       "    </tr>\n",
       "    <tr>\n",
       "      <th>2</th>\n",
       "      <td>All 95 Best Picture Winners, Ranked by Tomato...</td>\n",
       "      <td>https://editorial.rottentomatoes.com/guide/osc...</td>\n",
       "      <td>2022</td>\n",
       "    </tr>\n",
       "    <tr>\n",
       "      <th>3</th>\n",
       "      <td>95 Best Computer-Animated Movies, Ranked by T...</td>\n",
       "      <td>https://editorial.rottentomatoes.com/guide/bes...</td>\n",
       "      <td>2022</td>\n",
       "    </tr>\n",
       "    <tr>\n",
       "      <th>4</th>\n",
       "      <td>The 81 Best Asian-American Movies of All Time</td>\n",
       "      <td>https://editorial.rottentomatoes.com/guide/bes...</td>\n",
       "      <td>2022</td>\n",
       "    </tr>\n",
       "    <tr>\n",
       "      <th>5</th>\n",
       "      <td>88 Best Heist Movies of All Time</td>\n",
       "      <td>https://editorial.rottentomatoes.com/guide/bes...</td>\n",
       "      <td>2021</td>\n",
       "    </tr>\n",
       "    <tr>\n",
       "      <th>6</th>\n",
       "      <td>84 Best Fantasy Movies of All Time, Ranked</td>\n",
       "      <td>https://editorial.rottentomatoes.com/guide/bes...</td>\n",
       "      <td>2021</td>\n",
       "    </tr>\n",
       "    <tr>\n",
       "      <th>7</th>\n",
       "      <td>200 Best Horror Movies of All Time</td>\n",
       "      <td>https://editorial.rottentomatoes.com/guide/bes...</td>\n",
       "      <td>2021</td>\n",
       "    </tr>\n",
       "    <tr>\n",
       "      <th>8</th>\n",
       "      <td>150 Best Sports Movies of All Time</td>\n",
       "      <td>https://editorial.rottentomatoes.com/guide/bes...</td>\n",
       "      <td>2021</td>\n",
       "    </tr>\n",
       "    <tr>\n",
       "      <th>9</th>\n",
       "      <td>150 Essential Comedy Movies To Watch Now</td>\n",
       "      <td>https://editorial.rottentomatoes.com/guide/ess...</td>\n",
       "      <td>2021</td>\n",
       "    </tr>\n",
       "    <tr>\n",
       "      <th>10</th>\n",
       "      <td>140 Essential Action Movies To Watch Now</td>\n",
       "      <td>https://editorial.rottentomatoes.com/guide/140...</td>\n",
       "      <td>2021</td>\n",
       "    </tr>\n",
       "    <tr>\n",
       "      <th>11</th>\n",
       "      <td>60 Essential Adventure Movies</td>\n",
       "      <td>https://editorial.rottentomatoes.com/guide/adv...</td>\n",
       "      <td>2021</td>\n",
       "    </tr>\n",
       "    <tr>\n",
       "      <th>12</th>\n",
       "      <td>Golden Globes Best Picture Winners by Tomatom...</td>\n",
       "      <td>https://editorial.rottentomatoes.com/guide/gol...</td>\n",
       "      <td>2021</td>\n",
       "    </tr>\n",
       "    <tr>\n",
       "      <th>13</th>\n",
       "      <td>25 Essential Slasher Movies</td>\n",
       "      <td>https://editorial.rottentomatoes.com/guide/ess...</td>\n",
       "      <td>2020</td>\n",
       "    </tr>\n",
       "    <tr>\n",
       "      <th>14</th>\n",
       "      <td>150 Best Sci-Fi Movies of All Time – 150 Best...</td>\n",
       "      <td>https://editorial.rottentomatoes.com/guide/ess...</td>\n",
       "      <td>2020</td>\n",
       "    </tr>\n",
       "    <tr>\n",
       "      <th>15</th>\n",
       "      <td>100 Best Animated Movies</td>\n",
       "      <td>https://editorial.rottentomatoes.com/guide/ess...</td>\n",
       "      <td>2018</td>\n",
       "    </tr>\n",
       "    <tr>\n",
       "      <th>16</th>\n",
       "      <td>10 Best-Reviewed Pro Football Movies</td>\n",
       "      <td>https://editorial.rottentomatoes.com/guide/10-...</td>\n",
       "      <td>2018</td>\n",
       "    </tr>\n",
       "    <tr>\n",
       "      <th>17</th>\n",
       "      <td>100 Best Western Movies of All Time</td>\n",
       "      <td>https://editorial.rottentomatoes.com/guide/bes...</td>\n",
       "      <td>2017</td>\n",
       "    </tr>\n",
       "    <tr>\n",
       "      <th>18</th>\n",
       "      <td>100 Best Classic Movies of All Time</td>\n",
       "      <td>https://editorial.rottentomatoes.com/guide/100...</td>\n",
       "      <td>2017</td>\n",
       "    </tr>\n",
       "    <tr>\n",
       "      <th>19</th>\n",
       "      <td>100 Best War Movies of All Time</td>\n",
       "      <td>https://editorial.rottentomatoes.com/guide/bes...</td>\n",
       "      <td>2017</td>\n",
       "    </tr>\n",
       "    <tr>\n",
       "      <th>20</th>\n",
       "      <td>70 Best High School Movies of All Time</td>\n",
       "      <td>https://editorial.rottentomatoes.com/guide/bes...</td>\n",
       "      <td>2017</td>\n",
       "    </tr>\n",
       "  </tbody>\n",
       "</table>\n",
       "</div>"
      ],
      "text/plain": [
       "                                                title  \\\n",
       "0           The 30 Worst-Reviewed Remakes of All Time   \n",
       "1                        57 Worst Sequels of All Time   \n",
       "2    All 95 Best Picture Winners, Ranked by Tomato...   \n",
       "3    95 Best Computer-Animated Movies, Ranked by T...   \n",
       "4       The 81 Best Asian-American Movies of All Time   \n",
       "5                    88 Best Heist Movies of All Time   \n",
       "6          84 Best Fantasy Movies of All Time, Ranked   \n",
       "7                  200 Best Horror Movies of All Time   \n",
       "8                  150 Best Sports Movies of All Time   \n",
       "9            150 Essential Comedy Movies To Watch Now   \n",
       "10           140 Essential Action Movies To Watch Now   \n",
       "11                      60 Essential Adventure Movies   \n",
       "12   Golden Globes Best Picture Winners by Tomatom...   \n",
       "13                        25 Essential Slasher Movies   \n",
       "14   150 Best Sci-Fi Movies of All Time – 150 Best...   \n",
       "15                           100 Best Animated Movies   \n",
       "16               10 Best-Reviewed Pro Football Movies   \n",
       "17                100 Best Western Movies of All Time   \n",
       "18                100 Best Classic Movies of All Time   \n",
       "19                    100 Best War Movies of All Time   \n",
       "20             70 Best High School Movies of All Time   \n",
       "\n",
       "                                                 link  year  \n",
       "0   https://editorial.rottentomatoes.com/guide/wor...  2022  \n",
       "1   https://editorial.rottentomatoes.com/guide/wor...  2022  \n",
       "2   https://editorial.rottentomatoes.com/guide/osc...  2022  \n",
       "3   https://editorial.rottentomatoes.com/guide/bes...  2022  \n",
       "4   https://editorial.rottentomatoes.com/guide/bes...  2022  \n",
       "5   https://editorial.rottentomatoes.com/guide/bes...  2021  \n",
       "6   https://editorial.rottentomatoes.com/guide/bes...  2021  \n",
       "7   https://editorial.rottentomatoes.com/guide/bes...  2021  \n",
       "8   https://editorial.rottentomatoes.com/guide/bes...  2021  \n",
       "9   https://editorial.rottentomatoes.com/guide/ess...  2021  \n",
       "10  https://editorial.rottentomatoes.com/guide/140...  2021  \n",
       "11  https://editorial.rottentomatoes.com/guide/adv...  2021  \n",
       "12  https://editorial.rottentomatoes.com/guide/gol...  2021  \n",
       "13  https://editorial.rottentomatoes.com/guide/ess...  2020  \n",
       "14  https://editorial.rottentomatoes.com/guide/ess...  2020  \n",
       "15  https://editorial.rottentomatoes.com/guide/ess...  2018  \n",
       "16  https://editorial.rottentomatoes.com/guide/10-...  2018  \n",
       "17  https://editorial.rottentomatoes.com/guide/bes...  2017  \n",
       "18  https://editorial.rottentomatoes.com/guide/100...  2017  \n",
       "19  https://editorial.rottentomatoes.com/guide/bes...  2017  \n",
       "20  https://editorial.rottentomatoes.com/guide/bes...  2017  "
      ]
     },
     "execution_count": 187,
     "metadata": {},
     "output_type": "execute_result"
    }
   ],
   "source": [
    "proxies = {'http': 'http://206.189.157.23'}\n",
    "base = 'https://editorial.rottentomatoes.com/'\n",
    "path = 'all-time-lists'\n",
    "\n",
    "all_time_lists = scrape_lists(base, path)\n",
    "all_time_lists"
   ]
  },
  {
   "cell_type": "markdown",
   "id": "1994ed7d",
   "metadata": {},
   "source": [
    "## Scrape Countdowns"
   ]
  },
  {
   "cell_type": "code",
   "execution_count": 188,
   "id": "aee63c76",
   "metadata": {
    "ExecuteTime": {
     "end_time": "2022-11-12T15:13:00.853294Z",
     "start_time": "2022-11-12T15:12:43.923406Z"
    },
    "deletable": false,
    "editable": false,
    "run_control": {
     "frozen": true
    }
   },
   "outputs": [
    {
     "data": {
      "text/html": [
       "<div>\n",
       "<style scoped>\n",
       "    .dataframe tbody tr th:only-of-type {\n",
       "        vertical-align: middle;\n",
       "    }\n",
       "\n",
       "    .dataframe tbody tr th {\n",
       "        vertical-align: top;\n",
       "    }\n",
       "\n",
       "    .dataframe thead th {\n",
       "        text-align: right;\n",
       "    }\n",
       "</style>\n",
       "<table border=\"1\" class=\"dataframe\">\n",
       "  <thead>\n",
       "    <tr style=\"text-align: right;\">\n",
       "      <th></th>\n",
       "      <th>title</th>\n",
       "      <th>link</th>\n",
       "      <th>year</th>\n",
       "    </tr>\n",
       "  </thead>\n",
       "  <tbody>\n",
       "    <tr>\n",
       "      <th>0</th>\n",
       "      <td>24 Batman Animated Movies Ranked</td>\n",
       "      <td>https://editorial.rottentomatoes.com/guide/bat...</td>\n",
       "      <td>2022</td>\n",
       "    </tr>\n",
       "    <tr>\n",
       "      <th>1</th>\n",
       "      <td>All 30 Marvel Movies Ranked: See MCU Movies B...</td>\n",
       "      <td>https://editorial.rottentomatoes.com/guide/all...</td>\n",
       "      <td>2022</td>\n",
       "    </tr>\n",
       "    <tr>\n",
       "      <th>2</th>\n",
       "      <td>Every Steven Spielberg Movie Ranked by Tomato...</td>\n",
       "      <td>https://editorial.rottentomatoes.com/guide/eve...</td>\n",
       "      <td>2022</td>\n",
       "    </tr>\n",
       "    <tr>\n",
       "      <th>3</th>\n",
       "      <td>Time-Travel TV Shows Ranked by Tomatometer</td>\n",
       "      <td>https://editorial.rottentomatoes.com/article/t...</td>\n",
       "      <td>2022</td>\n",
       "    </tr>\n",
       "    <tr>\n",
       "      <th>4</th>\n",
       "      <td>100 Best Christmas Movies of All Time – Class...</td>\n",
       "      <td>https://editorial.rottentomatoes.com/guide/bes...</td>\n",
       "      <td>2022</td>\n",
       "    </tr>\n",
       "    <tr>\n",
       "      <th>...</th>\n",
       "      <td>...</td>\n",
       "      <td>...</td>\n",
       "      <td>...</td>\n",
       "    </tr>\n",
       "    <tr>\n",
       "      <th>418</th>\n",
       "      <td>Venice Film Festival 2017 Scorecard</td>\n",
       "      <td>https://editorial.rottentomatoes.com/guide/ven...</td>\n",
       "      <td>2017</td>\n",
       "    </tr>\n",
       "    <tr>\n",
       "      <th>419</th>\n",
       "      <td>Sundance 2017 Tomatometer Scores</td>\n",
       "      <td>https://editorial.rottentomatoes.com/guide/sun...</td>\n",
       "      <td>2017</td>\n",
       "    </tr>\n",
       "    <tr>\n",
       "      <th>420</th>\n",
       "      <td>Holiday Movie Scorecard 2017</td>\n",
       "      <td>https://editorial.rottentomatoes.com/guide/hol...</td>\n",
       "      <td>2017</td>\n",
       "    </tr>\n",
       "    <tr>\n",
       "      <th>421</th>\n",
       "      <td>Sundance 2016 Tomatometer Scores</td>\n",
       "      <td>https://editorial.rottentomatoes.com/guide/sun...</td>\n",
       "      <td>2016</td>\n",
       "    </tr>\n",
       "    <tr>\n",
       "      <th>422</th>\n",
       "      <td>Oscars Best Picture Nominees 2016 Ranked by T...</td>\n",
       "      <td>https://editorial.rottentomatoes.com/guide/osc...</td>\n",
       "      <td>2016</td>\n",
       "    </tr>\n",
       "  </tbody>\n",
       "</table>\n",
       "<p>423 rows × 3 columns</p>\n",
       "</div>"
      ],
      "text/plain": [
       "                                                 title  \\\n",
       "0                     24 Batman Animated Movies Ranked   \n",
       "1     All 30 Marvel Movies Ranked: See MCU Movies B...   \n",
       "2     Every Steven Spielberg Movie Ranked by Tomato...   \n",
       "3           Time-Travel TV Shows Ranked by Tomatometer   \n",
       "4     100 Best Christmas Movies of All Time – Class...   \n",
       "..                                                 ...   \n",
       "418                Venice Film Festival 2017 Scorecard   \n",
       "419                   Sundance 2017 Tomatometer Scores   \n",
       "420                       Holiday Movie Scorecard 2017   \n",
       "421                   Sundance 2016 Tomatometer Scores   \n",
       "422   Oscars Best Picture Nominees 2016 Ranked by T...   \n",
       "\n",
       "                                                  link  year  \n",
       "0    https://editorial.rottentomatoes.com/guide/bat...  2022  \n",
       "1    https://editorial.rottentomatoes.com/guide/all...  2022  \n",
       "2    https://editorial.rottentomatoes.com/guide/eve...  2022  \n",
       "3    https://editorial.rottentomatoes.com/article/t...  2022  \n",
       "4    https://editorial.rottentomatoes.com/guide/bes...  2022  \n",
       "..                                                 ...   ...  \n",
       "418  https://editorial.rottentomatoes.com/guide/ven...  2017  \n",
       "419  https://editorial.rottentomatoes.com/guide/sun...  2017  \n",
       "420  https://editorial.rottentomatoes.com/guide/hol...  2017  \n",
       "421  https://editorial.rottentomatoes.com/guide/sun...  2016  \n",
       "422  https://editorial.rottentomatoes.com/guide/osc...  2016  \n",
       "\n",
       "[423 rows x 3 columns]"
      ]
     },
     "execution_count": 188,
     "metadata": {},
     "output_type": "execute_result"
    }
   ],
   "source": [
    "proxies = {'http': 'http://206.189.157.23'}\n",
    "base = 'https://editorial.rottentomatoes.com/'\n",
    "path = 'countdown'\n",
    "\n",
    "countdown_lists = scrape_lists(base, path)\n",
    "countdown_lists"
   ]
  },
  {
   "cell_type": "markdown",
   "id": "21756ef5",
   "metadata": {},
   "source": [
    "# Keep only Movie Articles"
   ]
  },
  {
   "cell_type": "code",
   "execution_count": 198,
   "id": "cdaa123e",
   "metadata": {
    "ExecuteTime": {
     "end_time": "2022-11-12T15:31:51.431227Z",
     "start_time": "2022-11-12T15:31:51.408084Z"
    },
    "deletable": false,
    "editable": false,
    "run_control": {
     "frozen": true
    }
   },
   "outputs": [
    {
     "data": {
      "text/html": [
       "<div>\n",
       "<style scoped>\n",
       "    .dataframe tbody tr th:only-of-type {\n",
       "        vertical-align: middle;\n",
       "    }\n",
       "\n",
       "    .dataframe tbody tr th {\n",
       "        vertical-align: top;\n",
       "    }\n",
       "\n",
       "    .dataframe thead th {\n",
       "        text-align: right;\n",
       "    }\n",
       "</style>\n",
       "<table border=\"1\" class=\"dataframe\">\n",
       "  <thead>\n",
       "    <tr style=\"text-align: right;\">\n",
       "      <th></th>\n",
       "      <th>title</th>\n",
       "      <th>link</th>\n",
       "      <th>year</th>\n",
       "    </tr>\n",
       "  </thead>\n",
       "  <tbody>\n",
       "    <tr>\n",
       "      <th>0</th>\n",
       "      <td>24 Batman Animated Movies Ranked</td>\n",
       "      <td>https://editorial.rottentomatoes.com/guide/bat...</td>\n",
       "      <td>2022</td>\n",
       "    </tr>\n",
       "    <tr>\n",
       "      <th>1</th>\n",
       "      <td>All 30 Marvel Movies Ranked: See MCU Movies B...</td>\n",
       "      <td>https://editorial.rottentomatoes.com/guide/all...</td>\n",
       "      <td>2022</td>\n",
       "    </tr>\n",
       "    <tr>\n",
       "      <th>2</th>\n",
       "      <td>Every Steven Spielberg Movie Ranked by Tomato...</td>\n",
       "      <td>https://editorial.rottentomatoes.com/guide/eve...</td>\n",
       "      <td>2022</td>\n",
       "    </tr>\n",
       "    <tr>\n",
       "      <th>3</th>\n",
       "      <td>100 Best Christmas Movies of All Time – Class...</td>\n",
       "      <td>https://editorial.rottentomatoes.com/guide/bes...</td>\n",
       "      <td>2022</td>\n",
       "    </tr>\n",
       "    <tr>\n",
       "      <th>4</th>\n",
       "      <td>Daniel Day-Lewis Movies Ranked by Tomatometer</td>\n",
       "      <td>https://editorial.rottentomatoes.com/guide/dan...</td>\n",
       "      <td>2022</td>\n",
       "    </tr>\n",
       "    <tr>\n",
       "      <th>...</th>\n",
       "      <td>...</td>\n",
       "      <td>...</td>\n",
       "      <td>...</td>\n",
       "    </tr>\n",
       "    <tr>\n",
       "      <th>379</th>\n",
       "      <td>100 Essential Action Movies</td>\n",
       "      <td>https://editorial.rottentomatoes.com/guide/140...</td>\n",
       "      <td>2017</td>\n",
       "    </tr>\n",
       "    <tr>\n",
       "      <th>380</th>\n",
       "      <td>36 Essential Fresh Holiday Family Movies</td>\n",
       "      <td>https://editorial.rottentomatoes.com/guide/36-...</td>\n",
       "      <td>2017</td>\n",
       "    </tr>\n",
       "    <tr>\n",
       "      <th>381</th>\n",
       "      <td>Scary Movies of 2017 by Tomatometer</td>\n",
       "      <td>https://editorial.rottentomatoes.com/guide/sca...</td>\n",
       "      <td>2017</td>\n",
       "    </tr>\n",
       "    <tr>\n",
       "      <th>382</th>\n",
       "      <td>Best Horror Movies by Year Since 1920</td>\n",
       "      <td>https://editorial.rottentomatoes.com/guide/bes...</td>\n",
       "      <td>2017</td>\n",
       "    </tr>\n",
       "    <tr>\n",
       "      <th>383</th>\n",
       "      <td>Holiday Movie Scorecard 2017</td>\n",
       "      <td>https://editorial.rottentomatoes.com/guide/hol...</td>\n",
       "      <td>2017</td>\n",
       "    </tr>\n",
       "  </tbody>\n",
       "</table>\n",
       "<p>384 rows × 3 columns</p>\n",
       "</div>"
      ],
      "text/plain": [
       "                                                 title  \\\n",
       "0                     24 Batman Animated Movies Ranked   \n",
       "1     All 30 Marvel Movies Ranked: See MCU Movies B...   \n",
       "2     Every Steven Spielberg Movie Ranked by Tomato...   \n",
       "3     100 Best Christmas Movies of All Time – Class...   \n",
       "4        Daniel Day-Lewis Movies Ranked by Tomatometer   \n",
       "..                                                 ...   \n",
       "379                        100 Essential Action Movies   \n",
       "380           36 Essential Fresh Holiday Family Movies   \n",
       "381                Scary Movies of 2017 by Tomatometer   \n",
       "382              Best Horror Movies by Year Since 1920   \n",
       "383                       Holiday Movie Scorecard 2017   \n",
       "\n",
       "                                                  link  year  \n",
       "0    https://editorial.rottentomatoes.com/guide/bat...  2022  \n",
       "1    https://editorial.rottentomatoes.com/guide/all...  2022  \n",
       "2    https://editorial.rottentomatoes.com/guide/eve...  2022  \n",
       "3    https://editorial.rottentomatoes.com/guide/bes...  2022  \n",
       "4    https://editorial.rottentomatoes.com/guide/dan...  2022  \n",
       "..                                                 ...   ...  \n",
       "379  https://editorial.rottentomatoes.com/guide/140...  2017  \n",
       "380  https://editorial.rottentomatoes.com/guide/36-...  2017  \n",
       "381  https://editorial.rottentomatoes.com/guide/sca...  2017  \n",
       "382  https://editorial.rottentomatoes.com/guide/bes...  2017  \n",
       "383  https://editorial.rottentomatoes.com/guide/hol...  2017  \n",
       "\n",
       "[384 rows x 3 columns]"
      ]
     },
     "execution_count": 198,
     "metadata": {},
     "output_type": "execute_result"
    }
   ],
   "source": [
    "mv_countdown_lists = countdown_lists[countdown_lists.title.str.contains('Movie')].reset_index(drop=True).copy()\n",
    "mv_countdown_lists"
   ]
  },
  {
   "cell_type": "markdown",
   "id": "6d7e1855",
   "metadata": {},
   "source": [
    "# Scrape Movie Links from Articles"
   ]
  },
  {
   "cell_type": "markdown",
   "id": "b901cdd2",
   "metadata": {},
   "source": [
    "## Sample Dictionary Output"
   ]
  },
  {
   "cell_type": "code",
   "execution_count": 144,
   "id": "186269c4",
   "metadata": {
    "ExecuteTime": {
     "end_time": "2022-11-12T14:44:09.769290Z",
     "start_time": "2022-11-12T14:44:09.578405Z"
    },
    "deletable": false,
    "editable": false,
    "run_control": {
     "frozen": true
    },
    "scrolled": false
   },
   "outputs": [
    {
     "data": {
      "text/plain": [
       "{'One Missed Call': 'https://www.rottentomatoes.com/m/one_missed_call',\n",
       " 'Cabin Fever': 'https://www.rottentomatoes.com/m/cabin_fever_2016',\n",
       " 'Kite': 'https://www.rottentomatoes.com/m/kite_2014',\n",
       " 'Rollerball': 'https://www.rottentomatoes.com/m/rollerball_2002',\n",
       " 'Flatliners': 'https://www.rottentomatoes.com/m/flatliners_2017',\n",
       " 'The Fog': 'https://www.rottentomatoes.com/m/fog',\n",
       " \"Jacob's Ladder\": 'https://www.rottentomatoes.com/m/jacobs_ladder_2019',\n",
       " 'Swept Away': 'https://www.rottentomatoes.com/m/1116774-swept_away',\n",
       " 'Yours, Mine & Ours': 'https://www.rottentomatoes.com/m/yours_mine_and_ours',\n",
       " 'Taxi': 'https://www.rottentomatoes.com/m/taxi',\n",
       " 'Bangkok Dangerous': 'https://www.rottentomatoes.com/m/bangkok_dangerous',\n",
       " 'When a Stranger Calls': 'https://www.rottentomatoes.com/m/when_a_stranger_calls',\n",
       " 'Shutter': 'https://www.rottentomatoes.com/m/10009254-shutter',\n",
       " 'Martyrs': 'https://www.rottentomatoes.com/m/martyrs_2016',\n",
       " 'Point Break': 'https://www.rottentomatoes.com/m/point_break_2013',\n",
       " 'Pulse': 'https://www.rottentomatoes.com/m/pulse',\n",
       " 'Get Carter': 'https://www.rottentomatoes.com/m/1100569-get_carter',\n",
       " 'A Nightmare on Elm Street': 'https://www.rottentomatoes.com/m/nightmare_on_elm_street_2010',\n",
       " 'The Women': 'https://www.rottentomatoes.com/m/10009516-women',\n",
       " 'Red Dawn': 'https://www.rottentomatoes.com/m/red_dawn_2012',\n",
       " 'Black Christmas': 'https://www.rottentomatoes.com/m/black_christmas',\n",
       " 'The Mummy': 'https://www.rottentomatoes.com/m/the_mummy_2017',\n",
       " 'The Wicker Man': 'https://www.rottentomatoes.com/m/the_wicker_man_2006',\n",
       " 'Godzilla': 'https://www.rottentomatoes.com/m/godzilla',\n",
       " 'Hellboy': 'https://www.rottentomatoes.com/m/hellboy_2019',\n",
       " 'The Haunting': 'https://www.rottentomatoes.com/m/the_haunting_1999',\n",
       " 'The Day the Earth Stood Still': 'https://www.rottentomatoes.com/m/day_the_earth_stood_still',\n",
       " 'The Grudge': 'https://www.rottentomatoes.com/m/the_grudge_2020',\n",
       " 'The Tourist': 'https://www.rottentomatoes.com/m/tourist',\n",
       " 'The Pink Panther': 'https://www.rottentomatoes.com/m/pink_panther'}"
      ]
     },
     "execution_count": 144,
     "metadata": {},
     "output_type": "execute_result"
    }
   ],
   "source": [
    "get_movies('https://editorial.rottentomatoes.com/guide/worst-remakes-of-all-time/')"
   ]
  },
  {
   "cell_type": "markdown",
   "id": "0a1b0393",
   "metadata": {},
   "source": [
    "## Store Link Dictionaries in the Dataframes"
   ]
  },
  {
   "cell_type": "code",
   "execution_count": 191,
   "id": "2e5691af",
   "metadata": {
    "ExecuteTime": {
     "end_time": "2022-11-12T15:26:51.089666Z",
     "start_time": "2022-11-12T15:24:46.979391Z"
    },
    "deletable": false,
    "editable": false,
    "run_control": {
     "frozen": true
    },
    "scrolled": true
   },
   "outputs": [
    {
     "name": "stderr",
     "output_type": "stream",
     "text": [
      "100%|██████████| 21/21 [02:04<00:00,  5.91s/it]\n"
     ]
    }
   ],
   "source": [
    "all_time_dicts = [get_movies(x) for x in tqdm(all_time_lists['link'])]\n",
    "all_time_lists['movies'] = all_time_dicts\n",
    "all_time_lists"
   ]
  },
  {
   "cell_type": "code",
   "execution_count": 199,
   "id": "bc0c5978",
   "metadata": {
    "ExecuteTime": {
     "end_time": "2022-11-12T16:27:53.433052Z",
     "start_time": "2022-11-12T15:32:11.227889Z"
    },
    "deletable": false,
    "editable": false,
    "run_control": {
     "frozen": true
    }
   },
   "outputs": [
    {
     "name": "stderr",
     "output_type": "stream",
     "text": [
      "100%|██████████| 384/384 [55:42<00:00,  8.70s/it]  \n"
     ]
    },
    {
     "data": {
      "text/html": [
       "<div>\n",
       "<style scoped>\n",
       "    .dataframe tbody tr th:only-of-type {\n",
       "        vertical-align: middle;\n",
       "    }\n",
       "\n",
       "    .dataframe tbody tr th {\n",
       "        vertical-align: top;\n",
       "    }\n",
       "\n",
       "    .dataframe thead th {\n",
       "        text-align: right;\n",
       "    }\n",
       "</style>\n",
       "<table border=\"1\" class=\"dataframe\">\n",
       "  <thead>\n",
       "    <tr style=\"text-align: right;\">\n",
       "      <th></th>\n",
       "      <th>title</th>\n",
       "      <th>link</th>\n",
       "      <th>year</th>\n",
       "      <th>movies</th>\n",
       "    </tr>\n",
       "  </thead>\n",
       "  <tbody>\n",
       "    <tr>\n",
       "      <th>0</th>\n",
       "      <td>24 Batman Animated Movies Ranked</td>\n",
       "      <td>https://editorial.rottentomatoes.com/guide/bat...</td>\n",
       "      <td>2022</td>\n",
       "      <td>{'The LEGO Batman Movie': 'https://www.rottent...</td>\n",
       "    </tr>\n",
       "    <tr>\n",
       "      <th>1</th>\n",
       "      <td>All 30 Marvel Movies Ranked: See MCU Movies B...</td>\n",
       "      <td>https://editorial.rottentomatoes.com/guide/all...</td>\n",
       "      <td>2022</td>\n",
       "      <td>{'Black Panther': 'https://www.rottentomatoes....</td>\n",
       "    </tr>\n",
       "    <tr>\n",
       "      <th>2</th>\n",
       "      <td>Every Steven Spielberg Movie Ranked by Tomato...</td>\n",
       "      <td>https://editorial.rottentomatoes.com/guide/eve...</td>\n",
       "      <td>2022</td>\n",
       "      <td>{'E.T. the Extra-Terrestrial': 'https://www.ro...</td>\n",
       "    </tr>\n",
       "    <tr>\n",
       "      <th>3</th>\n",
       "      <td>100 Best Christmas Movies of All Time – Class...</td>\n",
       "      <td>https://editorial.rottentomatoes.com/guide/bes...</td>\n",
       "      <td>2022</td>\n",
       "      <td>{'The Shop Around the Corner': 'https://www.ro...</td>\n",
       "    </tr>\n",
       "    <tr>\n",
       "      <th>4</th>\n",
       "      <td>Daniel Day-Lewis Movies Ranked by Tomatometer</td>\n",
       "      <td>https://editorial.rottentomatoes.com/guide/dan...</td>\n",
       "      <td>2022</td>\n",
       "      <td>{'My Left Foot': 'https://www.rottentomatoes.c...</td>\n",
       "    </tr>\n",
       "    <tr>\n",
       "      <th>...</th>\n",
       "      <td>...</td>\n",
       "      <td>...</td>\n",
       "      <td>...</td>\n",
       "      <td>...</td>\n",
       "    </tr>\n",
       "    <tr>\n",
       "      <th>379</th>\n",
       "      <td>100 Essential Action Movies</td>\n",
       "      <td>https://editorial.rottentomatoes.com/guide/140...</td>\n",
       "      <td>2017</td>\n",
       "      <td>{'Running Scared': 'https://www.rottentomatoes...</td>\n",
       "    </tr>\n",
       "    <tr>\n",
       "      <th>380</th>\n",
       "      <td>36 Essential Fresh Holiday Family Movies</td>\n",
       "      <td>https://editorial.rottentomatoes.com/guide/36-...</td>\n",
       "      <td>2017</td>\n",
       "      <td>{'Mickey's Christmas Carol': 'https://www.rott...</td>\n",
       "    </tr>\n",
       "    <tr>\n",
       "      <th>381</th>\n",
       "      <td>Scary Movies of 2017 by Tomatometer</td>\n",
       "      <td>https://editorial.rottentomatoes.com/guide/sca...</td>\n",
       "      <td>2017</td>\n",
       "      <td>{'Creep 2': 'https://www.rottentomatoes.com/m/...</td>\n",
       "    </tr>\n",
       "    <tr>\n",
       "      <th>382</th>\n",
       "      <td>Best Horror Movies by Year Since 1920</td>\n",
       "      <td>https://editorial.rottentomatoes.com/guide/bes...</td>\n",
       "      <td>2017</td>\n",
       "      <td>{'The Cabinet of Dr. Caligari': 'https://www.r...</td>\n",
       "    </tr>\n",
       "    <tr>\n",
       "      <th>383</th>\n",
       "      <td>Holiday Movie Scorecard 2017</td>\n",
       "      <td>https://editorial.rottentomatoes.com/guide/hol...</td>\n",
       "      <td>2017</td>\n",
       "      <td>{'Just Getting Started': 'https://www.rottento...</td>\n",
       "    </tr>\n",
       "  </tbody>\n",
       "</table>\n",
       "<p>384 rows × 4 columns</p>\n",
       "</div>"
      ],
      "text/plain": [
       "                                                 title  \\\n",
       "0                     24 Batman Animated Movies Ranked   \n",
       "1     All 30 Marvel Movies Ranked: See MCU Movies B...   \n",
       "2     Every Steven Spielberg Movie Ranked by Tomato...   \n",
       "3     100 Best Christmas Movies of All Time – Class...   \n",
       "4        Daniel Day-Lewis Movies Ranked by Tomatometer   \n",
       "..                                                 ...   \n",
       "379                        100 Essential Action Movies   \n",
       "380           36 Essential Fresh Holiday Family Movies   \n",
       "381                Scary Movies of 2017 by Tomatometer   \n",
       "382              Best Horror Movies by Year Since 1920   \n",
       "383                       Holiday Movie Scorecard 2017   \n",
       "\n",
       "                                                  link  year  \\\n",
       "0    https://editorial.rottentomatoes.com/guide/bat...  2022   \n",
       "1    https://editorial.rottentomatoes.com/guide/all...  2022   \n",
       "2    https://editorial.rottentomatoes.com/guide/eve...  2022   \n",
       "3    https://editorial.rottentomatoes.com/guide/bes...  2022   \n",
       "4    https://editorial.rottentomatoes.com/guide/dan...  2022   \n",
       "..                                                 ...   ...   \n",
       "379  https://editorial.rottentomatoes.com/guide/140...  2017   \n",
       "380  https://editorial.rottentomatoes.com/guide/36-...  2017   \n",
       "381  https://editorial.rottentomatoes.com/guide/sca...  2017   \n",
       "382  https://editorial.rottentomatoes.com/guide/bes...  2017   \n",
       "383  https://editorial.rottentomatoes.com/guide/hol...  2017   \n",
       "\n",
       "                                                movies  \n",
       "0    {'The LEGO Batman Movie': 'https://www.rottent...  \n",
       "1    {'Black Panther': 'https://www.rottentomatoes....  \n",
       "2    {'E.T. the Extra-Terrestrial': 'https://www.ro...  \n",
       "3    {'The Shop Around the Corner': 'https://www.ro...  \n",
       "4    {'My Left Foot': 'https://www.rottentomatoes.c...  \n",
       "..                                                 ...  \n",
       "379  {'Running Scared': 'https://www.rottentomatoes...  \n",
       "380  {'Mickey's Christmas Carol': 'https://www.rott...  \n",
       "381  {'Creep 2': 'https://www.rottentomatoes.com/m/...  \n",
       "382  {'The Cabinet of Dr. Caligari': 'https://www.r...  \n",
       "383  {'Just Getting Started': 'https://www.rottento...  \n",
       "\n",
       "[384 rows x 4 columns]"
      ]
     },
     "execution_count": 199,
     "metadata": {},
     "output_type": "execute_result"
    }
   ],
   "source": [
    "mv_countdown_dicts = [get_movies(x) for x in tqdm(mv_countdown_lists['link'])]\n",
    "mv_countdown_lists['movies'] = mv_countdown_dicts\n",
    "\n",
    "mv_countdown_lists"
   ]
  },
  {
   "cell_type": "markdown",
   "id": "1fc6c4e1",
   "metadata": {},
   "source": [
    "## Fill in missing value due to website typo"
   ]
  },
  {
   "cell_type": "code",
   "execution_count": null,
   "id": "93563a6b",
   "metadata": {
    "ExecuteTime": {
     "end_time": "2022-11-12T16:54:40.372957Z",
     "start_time": "2022-11-12T16:54:38.919995Z"
    },
    "deletable": false,
    "editable": false,
    "run_control": {
     "frozen": true
    }
   },
   "outputs": [],
   "source": [
    "missing_dict = get_movies(mv_countdown_lists.loc[285,'link'][7:])\n",
    "mv_countdown_lists.at[285, 'movies'] = missing_dict"
   ]
  },
  {
   "cell_type": "markdown",
   "id": "7f462d4e",
   "metadata": {},
   "source": [
    "# Save DataFrames to Pickle Files"
   ]
  },
  {
   "cell_type": "code",
   "execution_count": 202,
   "id": "48d9f6b1",
   "metadata": {
    "ExecuteTime": {
     "end_time": "2022-11-12T16:29:38.126919Z",
     "start_time": "2022-11-12T16:29:38.116989Z"
    },
    "deletable": false,
    "editable": false,
    "run_control": {
     "frozen": true
    }
   },
   "outputs": [],
   "source": [
    "all_time_lists.to_pickle(\"/mnt/processed/private/msds2023/lt2/Lab2/All_Time_Lists.pkl\")"
   ]
  },
  {
   "cell_type": "code",
   "execution_count": 247,
   "id": "2b75122e",
   "metadata": {
    "ExecuteTime": {
     "end_time": "2022-11-12T16:58:39.428028Z",
     "start_time": "2022-11-12T16:58:39.401513Z"
    },
    "deletable": false,
    "editable": false,
    "run_control": {
     "frozen": true
    }
   },
   "outputs": [],
   "source": [
    "mv_countdown_lists.to_pickle(\"/mnt/processed/private/msds2023/lt2/Lab2/Countdown_Lists.pkl\")"
   ]
  },
  {
   "cell_type": "code",
   "execution_count": 250,
   "id": "4536e14b",
   "metadata": {
    "ExecuteTime": {
     "end_time": "2022-11-12T17:15:13.992164Z",
     "start_time": "2022-11-12T17:15:13.971533Z"
    },
    "scrolled": true
   },
   "outputs": [
    {
     "data": {
      "text/plain": [
       "title         All Wes Anderson Movies Ranked by Tomatometer\n",
       "link      http://https://editorialadmin.rottentomatoes.c...\n",
       "year                                                   2020\n",
       "movies    {'Moonrise Kingdom': 'https://www.rottentomato...\n",
       "Name: 285, dtype: object"
      ]
     },
     "execution_count": 250,
     "metadata": {},
     "output_type": "execute_result"
    }
   ],
   "source": [
    "pd.read_pickle(\"/mnt/processed/private/msds2023/lt2/Lab2/Countdown_Lists.pkl\").loc[285,:]"
   ]
  },
  {
   "cell_type": "code",
   "execution_count": 231,
   "id": "ee1e721e",
   "metadata": {
    "ExecuteTime": {
     "end_time": "2022-11-12T16:47:15.611808Z",
     "start_time": "2022-11-12T16:47:15.600112Z"
    }
   },
   "outputs": [
    {
     "data": {
      "text/plain": [
       "15749"
      ]
     },
     "execution_count": 231,
     "metadata": {},
     "output_type": "execute_result"
    }
   ],
   "source": [
    "mv_countdown_lists.movies.apply(len).sum()"
   ]
  },
  {
   "cell_type": "code",
   "execution_count": 249,
   "id": "252cccaf",
   "metadata": {
    "ExecuteTime": {
     "end_time": "2022-11-12T17:14:46.818389Z",
     "start_time": "2022-11-12T17:14:46.514455Z"
    }
   },
   "outputs": [
    {
     "name": "stdout",
     "output_type": "stream",
     "text": [
      "/mnt/processed/private/msds2023/lt2/Lab2\r\n"
     ]
    }
   ],
   "source": [
    "!pwd"
   ]
  }
 ],
 "metadata": {
  "kernelspec": {
   "display_name": "Python 3 (ipykernel)",
   "language": "python",
   "name": "python3"
  },
  "language_info": {
   "codemirror_mode": {
    "name": "ipython",
    "version": 3
   },
   "file_extension": ".py",
   "mimetype": "text/x-python",
   "name": "python",
   "nbconvert_exporter": "python",
   "pygments_lexer": "ipython3",
   "version": "3.9.12"
  },
  "toc": {
   "base_numbering": 1,
   "nav_menu": {},
   "number_sections": true,
   "sideBar": true,
   "skip_h1_title": false,
   "title_cell": "Table of Contents",
   "title_sidebar": "Contents",
   "toc_cell": false,
   "toc_position": {},
   "toc_section_display": true,
   "toc_window_display": true
  }
 },
 "nbformat": 4,
 "nbformat_minor": 5
}
